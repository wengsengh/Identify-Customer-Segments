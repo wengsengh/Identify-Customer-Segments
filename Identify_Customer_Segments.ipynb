{
  "nbformat": 4,
  "nbformat_minor": 0,
  "metadata": {
    "kernelspec": {
      "display_name": "Python 3",
      "language": "python",
      "name": "python3"
    },
    "language_info": {
      "codemirror_mode": {
        "name": "ipython",
        "version": 3
      },
      "file_extension": ".py",
      "mimetype": "text/x-python",
      "name": "python",
      "nbconvert_exporter": "python",
      "pygments_lexer": "ipython3",
      "version": "3.7.3"
    },
    "colab": {
      "name": "Identify_Customer_Segments.ipynb",
      "provenance": [],
      "collapsed_sections": [
        "GgA-VDJ5s6T8",
        "zUduMiYFs6Um",
        "yXp7STS_s6Vh",
        "PCRNpuTvs6V0",
        "uhuATZbps6WE",
        "t-kMQqvUs6WO"
      ]
    }
  },
  "cells": [
    {
      "cell_type": "markdown",
      "metadata": {
        "id": "q-VatFwBs6Sz",
        "colab_type": "text"
      },
      "source": [
        "# Project: Identify Customer Segments\n",
        "\n",
        "In this project, you will apply unsupervised learning techniques to identify segments of the population that form the core customer base for a mail-order sales company in Germany. These segments can then be used to direct marketing campaigns towards audiences that will have the highest expected rate of returns. The data that you will use has been provided by our partners at Bertelsmann Arvato Analytics, and represents a real-life data science task.\n",
        "\n",
        "This notebook will help you complete this task by providing a framework within which you will perform your analysis steps. In each step of the project, you will see some text describing the subtask that you will perform, followed by one or more code cells for you to complete your work. **Feel free to add additional code and markdown cells as you go along so that you can explore everything in precise chunks.** The code cells provided in the base template will outline only the major tasks, and will usually not be enough to cover all of the minor tasks that comprise it.\n",
        "\n",
        "It should be noted that while there will be precise guidelines on how you should handle certain tasks in the project, there will also be places where an exact specification is not provided. **There will be times in the project where you will need to make and justify your own decisions on how to treat the data.** These are places where there may not be only one way to handle the data. In real-life tasks, there may be many valid ways to approach an analysis task. One of the most important things you can do is clearly document your approach so that other scientists can understand the decisions you've made.\n",
        "\n",
        "At the end of most sections, there will be a Markdown cell labeled **Discussion**. In these cells, you will report your findings for the completed section, as well as document the decisions that you made in your approach to each subtask. **Your project will be evaluated not just on the code used to complete the tasks outlined, but also your communication about your observations and conclusions at each stage.**"
      ]
    },
    {
      "cell_type": "code",
      "metadata": {
        "id": "VJds7Gh6s6S2",
        "colab_type": "code",
        "colab": {}
      },
      "source": [
        "# import libraries here; add more as necessary\n",
        "import numpy as np\n",
        "import pandas as pd\n",
        "import matplotlib.pyplot as plt\n",
        "import seaborn as sns\n",
        "import pprint\n",
        "import operator\n",
        "import time\n",
        "from sklearn.preprocessing import Imputer\n",
        "from sklearn.cluster import KMeans\n",
        "from sklearn.preprocessing import StandardScaler\n",
        "from sklearn.decomposition import PCA    \n",
        "from sklearn.preprocessing import LabelEncoder\n",
        "\n",
        "# magic word for producing visualizations in notebook\n",
        "%matplotlib inline\n"
      ],
      "execution_count": 0,
      "outputs": []
    },
    {
      "cell_type": "markdown",
      "metadata": {
        "id": "8p4XnIvmXP2N",
        "colab_type": "text"
      },
      "source": [
        "## The Steps\n",
        "**Step 0: Load the Data** <p>\n",
        "**Step 1: Preprocessing** <p>\n",
        "Step 1.1: Assess Missing Data <p>\n",
        "Step 1.2: Select and Re-Encode Features <p>\n",
        "Step 1.3: Create a Cleaning Function <p>\n",
        "**Step 2: Feature Transformation** <p>\n",
        "Step 2.1: Apply Feature Scaling <p>\n",
        "Step 2.2: Perform Dimensionality Reduction <p>\n",
        "Step 2.3: Interpret Principal Components <p>\n",
        "**Step 3: Clustering** <p>\n",
        "Step 3.1: Apply Clustering to General Population <p>\n",
        "Step 3.2: Apply All Steps to the Customer Data <p>\n",
        "Step 3.3: Compare Customer Data to Demographics Data\n"
      ]
    },
    {
      "cell_type": "markdown",
      "metadata": {
        "id": "1Mrd9Osss6S6",
        "colab_type": "text"
      },
      "source": [
        "## Step 0: Load the Data\n",
        "\n",
        "There are four files associated with this project (not including this one):\n",
        "\n",
        "- `Udacity_AZDIAS_Subset.csv`: Demographics data for the general population of Germany; 891211 persons (rows) x 85 features (columns).\n",
        "- `Udacity_CUSTOMERS_Subset.csv`: Demographics data for customers of a mail-order company; 191652 persons (rows) x 85 features (columns).\n",
        "- `Data_Dictionary.md`: Detailed information file about the features in the provided datasets.\n",
        "- `AZDIAS_Feature_Summary.csv`: Summary of feature attributes for demographics data; 85 features (rows) x 4 columns\n",
        "\n",
        "Each row of the demographics files represents a single person, but also includes information outside of individuals, including information about their household, building, and neighborhood. You will use this information to cluster the general population into groups with similar demographic properties. Then, you will see how the people in the customers dataset fit into those created clusters. The hope here is that certain clusters are over-represented in the customers data, as compared to the general population; those over-represented clusters will be assumed to be part of the core userbase. This information can then be used for further applications, such as targeting for a marketing campaign.\n",
        "\n",
        "To start off with, load in the demographics data for the general population into a pandas DataFrame, and do the same for the feature attributes summary. Note for all of the `.csv` data files in this project: they're semicolon (`;`) delimited, so you'll need an additional argument in your [`read_csv()`](https://pandas.pydata.org/pandas-docs/stable/generated/pandas.read_csv.html) call to read in the data properly. Also, considering the size of the main dataset, it may take some time for it to load completely.\n",
        "\n",
        "Once the dataset is loaded, it's recommended that you take a little bit of time just browsing the general structure of the dataset and feature summary file. You'll be getting deep into the innards of the cleaning in the first major step of the project, so gaining some general familiarity can help you get your bearings."
      ]
    },
    {
      "cell_type": "code",
      "metadata": {
        "id": "OkQTFhePs9Xz",
        "colab_type": "code",
        "outputId": "94e3635b-a4bc-49c7-9e0d-bb93f7a7b277",
        "colab": {
          "base_uri": "https://localhost:8080/",
          "height": 122
        }
      },
      "source": [
        "from google.colab import drive\n",
        "drive.mount('/content/drive')"
      ],
      "execution_count": 0,
      "outputs": [
        {
          "output_type": "stream",
          "text": [
            "Go to this URL in a browser: https://accounts.google.com/o/oauth2/auth?client_id=947318989803-6bn6qk8qdgf4n4g3pfee6491hc0brc4i.apps.googleusercontent.com&redirect_uri=urn%3Aietf%3Awg%3Aoauth%3A2.0%3Aoob&scope=email%20https%3A%2F%2Fwww.googleapis.com%2Fauth%2Fdocs.test%20https%3A%2F%2Fwww.googleapis.com%2Fauth%2Fdrive%20https%3A%2F%2Fwww.googleapis.com%2Fauth%2Fdrive.photos.readonly%20https%3A%2F%2Fwww.googleapis.com%2Fauth%2Fpeopleapi.readonly&response_type=code\n",
            "\n",
            "Enter your authorization code:\n",
            "··········\n",
            "Mounted at /content/drive\n"
          ],
          "name": "stdout"
        }
      ]
    },
    {
      "cell_type": "code",
      "metadata": {
        "id": "O1rcooDrs6S7",
        "colab_type": "code",
        "colab": {}
      },
      "source": [
        "# Load in the general demographics data.\n",
        "azdias = pd.read_csv('/content/drive/My Drive/Colab Notebooks/p3/Udacity_AZDIAS_Subset.csv',sep=';')\n",
        "\n",
        "# Load in the feature summary file.\n",
        "feat_info =  pd.read_csv('/content/drive/My Drive/Colab Notebooks/p3/AZDIAS_Feature_Summary.csv',sep=';')"
      ],
      "execution_count": 0,
      "outputs": []
    },
    {
      "cell_type": "code",
      "metadata": {
        "id": "y9M6Z5uXs6TC",
        "colab_type": "code",
        "outputId": "01617e87-317b-4d31-edc3-0b4090c9c049",
        "colab": {
          "base_uri": "https://localhost:8080/",
          "height": 34
        }
      },
      "source": [
        "# Check the structure of the data after it's loaded (e.g. print the number of\n",
        "# rows and columns, print the first few rows).\n",
        "azdias.shape"
      ],
      "execution_count": 0,
      "outputs": [
        {
          "output_type": "execute_result",
          "data": {
            "text/plain": [
              "(891221, 85)"
            ]
          },
          "metadata": {
            "tags": []
          },
          "execution_count": 59
        }
      ]
    },
    {
      "cell_type": "code",
      "metadata": {
        "id": "QVYg0xmfs6TH",
        "colab_type": "code",
        "outputId": "50eb482f-5095-40d5-9c80-6bb0d81b3bc1",
        "colab": {
          "base_uri": "https://localhost:8080/",
          "height": 253
        }
      },
      "source": [
        "azdias.head()"
      ],
      "execution_count": 0,
      "outputs": [
        {
          "output_type": "execute_result",
          "data": {
            "text/html": [
              "<div>\n",
              "<style scoped>\n",
              "    .dataframe tbody tr th:only-of-type {\n",
              "        vertical-align: middle;\n",
              "    }\n",
              "\n",
              "    .dataframe tbody tr th {\n",
              "        vertical-align: top;\n",
              "    }\n",
              "\n",
              "    .dataframe thead th {\n",
              "        text-align: right;\n",
              "    }\n",
              "</style>\n",
              "<table border=\"1\" class=\"dataframe\">\n",
              "  <thead>\n",
              "    <tr style=\"text-align: right;\">\n",
              "      <th></th>\n",
              "      <th>AGER_TYP</th>\n",
              "      <th>ALTERSKATEGORIE_GROB</th>\n",
              "      <th>ANREDE_KZ</th>\n",
              "      <th>CJT_GESAMTTYP</th>\n",
              "      <th>FINANZ_MINIMALIST</th>\n",
              "      <th>FINANZ_SPARER</th>\n",
              "      <th>FINANZ_VORSORGER</th>\n",
              "      <th>FINANZ_ANLEGER</th>\n",
              "      <th>FINANZ_UNAUFFAELLIGER</th>\n",
              "      <th>FINANZ_HAUSBAUER</th>\n",
              "      <th>FINANZTYP</th>\n",
              "      <th>GEBURTSJAHR</th>\n",
              "      <th>GFK_URLAUBERTYP</th>\n",
              "      <th>GREEN_AVANTGARDE</th>\n",
              "      <th>HEALTH_TYP</th>\n",
              "      <th>LP_LEBENSPHASE_FEIN</th>\n",
              "      <th>LP_LEBENSPHASE_GROB</th>\n",
              "      <th>LP_FAMILIE_FEIN</th>\n",
              "      <th>LP_FAMILIE_GROB</th>\n",
              "      <th>LP_STATUS_FEIN</th>\n",
              "      <th>LP_STATUS_GROB</th>\n",
              "      <th>NATIONALITAET_KZ</th>\n",
              "      <th>PRAEGENDE_JUGENDJAHRE</th>\n",
              "      <th>RETOURTYP_BK_S</th>\n",
              "      <th>SEMIO_SOZ</th>\n",
              "      <th>SEMIO_FAM</th>\n",
              "      <th>SEMIO_REL</th>\n",
              "      <th>SEMIO_MAT</th>\n",
              "      <th>SEMIO_VERT</th>\n",
              "      <th>SEMIO_LUST</th>\n",
              "      <th>SEMIO_ERL</th>\n",
              "      <th>SEMIO_KULT</th>\n",
              "      <th>SEMIO_RAT</th>\n",
              "      <th>SEMIO_KRIT</th>\n",
              "      <th>SEMIO_DOM</th>\n",
              "      <th>SEMIO_KAEM</th>\n",
              "      <th>SEMIO_PFLICHT</th>\n",
              "      <th>SEMIO_TRADV</th>\n",
              "      <th>SHOPPER_TYP</th>\n",
              "      <th>SOHO_KZ</th>\n",
              "      <th>...</th>\n",
              "      <th>ANZ_TITEL</th>\n",
              "      <th>HH_EINKOMMEN_SCORE</th>\n",
              "      <th>KK_KUNDENTYP</th>\n",
              "      <th>W_KEIT_KIND_HH</th>\n",
              "      <th>WOHNDAUER_2008</th>\n",
              "      <th>ANZ_HAUSHALTE_AKTIV</th>\n",
              "      <th>ANZ_HH_TITEL</th>\n",
              "      <th>GEBAEUDETYP</th>\n",
              "      <th>KONSUMNAEHE</th>\n",
              "      <th>MIN_GEBAEUDEJAHR</th>\n",
              "      <th>OST_WEST_KZ</th>\n",
              "      <th>WOHNLAGE</th>\n",
              "      <th>CAMEO_DEUG_2015</th>\n",
              "      <th>CAMEO_DEU_2015</th>\n",
              "      <th>CAMEO_INTL_2015</th>\n",
              "      <th>KBA05_ANTG1</th>\n",
              "      <th>KBA05_ANTG2</th>\n",
              "      <th>KBA05_ANTG3</th>\n",
              "      <th>KBA05_ANTG4</th>\n",
              "      <th>KBA05_BAUMAX</th>\n",
              "      <th>KBA05_GBZ</th>\n",
              "      <th>BALLRAUM</th>\n",
              "      <th>EWDICHTE</th>\n",
              "      <th>INNENSTADT</th>\n",
              "      <th>GEBAEUDETYP_RASTER</th>\n",
              "      <th>KKK</th>\n",
              "      <th>MOBI_REGIO</th>\n",
              "      <th>ONLINE_AFFINITAET</th>\n",
              "      <th>REGIOTYP</th>\n",
              "      <th>KBA13_ANZAHL_PKW</th>\n",
              "      <th>PLZ8_ANTG1</th>\n",
              "      <th>PLZ8_ANTG2</th>\n",
              "      <th>PLZ8_ANTG3</th>\n",
              "      <th>PLZ8_ANTG4</th>\n",
              "      <th>PLZ8_BAUMAX</th>\n",
              "      <th>PLZ8_HHZ</th>\n",
              "      <th>PLZ8_GBZ</th>\n",
              "      <th>ARBEIT</th>\n",
              "      <th>ORTSGR_KLS9</th>\n",
              "      <th>RELAT_AB</th>\n",
              "    </tr>\n",
              "  </thead>\n",
              "  <tbody>\n",
              "    <tr>\n",
              "      <th>0</th>\n",
              "      <td>-1</td>\n",
              "      <td>2</td>\n",
              "      <td>1</td>\n",
              "      <td>2.0</td>\n",
              "      <td>3</td>\n",
              "      <td>4</td>\n",
              "      <td>3</td>\n",
              "      <td>5</td>\n",
              "      <td>5</td>\n",
              "      <td>3</td>\n",
              "      <td>4</td>\n",
              "      <td>0</td>\n",
              "      <td>10.0</td>\n",
              "      <td>0</td>\n",
              "      <td>-1</td>\n",
              "      <td>15.0</td>\n",
              "      <td>4.0</td>\n",
              "      <td>2.0</td>\n",
              "      <td>2.0</td>\n",
              "      <td>1.0</td>\n",
              "      <td>1.0</td>\n",
              "      <td>0</td>\n",
              "      <td>0</td>\n",
              "      <td>5.0</td>\n",
              "      <td>2</td>\n",
              "      <td>6</td>\n",
              "      <td>7</td>\n",
              "      <td>5</td>\n",
              "      <td>1</td>\n",
              "      <td>5</td>\n",
              "      <td>3</td>\n",
              "      <td>3</td>\n",
              "      <td>4</td>\n",
              "      <td>7</td>\n",
              "      <td>6</td>\n",
              "      <td>6</td>\n",
              "      <td>5</td>\n",
              "      <td>3</td>\n",
              "      <td>-1</td>\n",
              "      <td>NaN</td>\n",
              "      <td>...</td>\n",
              "      <td>NaN</td>\n",
              "      <td>2.0</td>\n",
              "      <td>NaN</td>\n",
              "      <td>NaN</td>\n",
              "      <td>NaN</td>\n",
              "      <td>NaN</td>\n",
              "      <td>NaN</td>\n",
              "      <td>NaN</td>\n",
              "      <td>NaN</td>\n",
              "      <td>NaN</td>\n",
              "      <td>NaN</td>\n",
              "      <td>NaN</td>\n",
              "      <td>NaN</td>\n",
              "      <td>NaN</td>\n",
              "      <td>NaN</td>\n",
              "      <td>NaN</td>\n",
              "      <td>NaN</td>\n",
              "      <td>NaN</td>\n",
              "      <td>NaN</td>\n",
              "      <td>NaN</td>\n",
              "      <td>NaN</td>\n",
              "      <td>NaN</td>\n",
              "      <td>NaN</td>\n",
              "      <td>NaN</td>\n",
              "      <td>NaN</td>\n",
              "      <td>NaN</td>\n",
              "      <td>NaN</td>\n",
              "      <td>1.0</td>\n",
              "      <td>NaN</td>\n",
              "      <td>NaN</td>\n",
              "      <td>NaN</td>\n",
              "      <td>NaN</td>\n",
              "      <td>NaN</td>\n",
              "      <td>NaN</td>\n",
              "      <td>NaN</td>\n",
              "      <td>NaN</td>\n",
              "      <td>NaN</td>\n",
              "      <td>NaN</td>\n",
              "      <td>NaN</td>\n",
              "      <td>NaN</td>\n",
              "    </tr>\n",
              "    <tr>\n",
              "      <th>1</th>\n",
              "      <td>-1</td>\n",
              "      <td>1</td>\n",
              "      <td>2</td>\n",
              "      <td>5.0</td>\n",
              "      <td>1</td>\n",
              "      <td>5</td>\n",
              "      <td>2</td>\n",
              "      <td>5</td>\n",
              "      <td>4</td>\n",
              "      <td>5</td>\n",
              "      <td>1</td>\n",
              "      <td>1996</td>\n",
              "      <td>10.0</td>\n",
              "      <td>0</td>\n",
              "      <td>3</td>\n",
              "      <td>21.0</td>\n",
              "      <td>6.0</td>\n",
              "      <td>5.0</td>\n",
              "      <td>3.0</td>\n",
              "      <td>2.0</td>\n",
              "      <td>1.0</td>\n",
              "      <td>1</td>\n",
              "      <td>14</td>\n",
              "      <td>1.0</td>\n",
              "      <td>5</td>\n",
              "      <td>4</td>\n",
              "      <td>4</td>\n",
              "      <td>3</td>\n",
              "      <td>1</td>\n",
              "      <td>2</td>\n",
              "      <td>2</td>\n",
              "      <td>3</td>\n",
              "      <td>6</td>\n",
              "      <td>4</td>\n",
              "      <td>7</td>\n",
              "      <td>4</td>\n",
              "      <td>7</td>\n",
              "      <td>6</td>\n",
              "      <td>3</td>\n",
              "      <td>1.0</td>\n",
              "      <td>...</td>\n",
              "      <td>0.0</td>\n",
              "      <td>6.0</td>\n",
              "      <td>NaN</td>\n",
              "      <td>3.0</td>\n",
              "      <td>9.0</td>\n",
              "      <td>11.0</td>\n",
              "      <td>0.0</td>\n",
              "      <td>8.0</td>\n",
              "      <td>1.0</td>\n",
              "      <td>1992.0</td>\n",
              "      <td>W</td>\n",
              "      <td>4.0</td>\n",
              "      <td>8</td>\n",
              "      <td>8A</td>\n",
              "      <td>51</td>\n",
              "      <td>0.0</td>\n",
              "      <td>0.0</td>\n",
              "      <td>0.0</td>\n",
              "      <td>2.0</td>\n",
              "      <td>5.0</td>\n",
              "      <td>1.0</td>\n",
              "      <td>6.0</td>\n",
              "      <td>3.0</td>\n",
              "      <td>8.0</td>\n",
              "      <td>3.0</td>\n",
              "      <td>2.0</td>\n",
              "      <td>1.0</td>\n",
              "      <td>3.0</td>\n",
              "      <td>3.0</td>\n",
              "      <td>963.0</td>\n",
              "      <td>2.0</td>\n",
              "      <td>3.0</td>\n",
              "      <td>2.0</td>\n",
              "      <td>1.0</td>\n",
              "      <td>1.0</td>\n",
              "      <td>5.0</td>\n",
              "      <td>4.0</td>\n",
              "      <td>3.0</td>\n",
              "      <td>5.0</td>\n",
              "      <td>4.0</td>\n",
              "    </tr>\n",
              "    <tr>\n",
              "      <th>2</th>\n",
              "      <td>-1</td>\n",
              "      <td>3</td>\n",
              "      <td>2</td>\n",
              "      <td>3.0</td>\n",
              "      <td>1</td>\n",
              "      <td>4</td>\n",
              "      <td>1</td>\n",
              "      <td>2</td>\n",
              "      <td>3</td>\n",
              "      <td>5</td>\n",
              "      <td>1</td>\n",
              "      <td>1979</td>\n",
              "      <td>10.0</td>\n",
              "      <td>1</td>\n",
              "      <td>3</td>\n",
              "      <td>3.0</td>\n",
              "      <td>1.0</td>\n",
              "      <td>1.0</td>\n",
              "      <td>1.0</td>\n",
              "      <td>3.0</td>\n",
              "      <td>2.0</td>\n",
              "      <td>1</td>\n",
              "      <td>15</td>\n",
              "      <td>3.0</td>\n",
              "      <td>4</td>\n",
              "      <td>1</td>\n",
              "      <td>3</td>\n",
              "      <td>3</td>\n",
              "      <td>4</td>\n",
              "      <td>4</td>\n",
              "      <td>6</td>\n",
              "      <td>3</td>\n",
              "      <td>4</td>\n",
              "      <td>7</td>\n",
              "      <td>7</td>\n",
              "      <td>7</td>\n",
              "      <td>3</td>\n",
              "      <td>3</td>\n",
              "      <td>2</td>\n",
              "      <td>0.0</td>\n",
              "      <td>...</td>\n",
              "      <td>0.0</td>\n",
              "      <td>4.0</td>\n",
              "      <td>NaN</td>\n",
              "      <td>3.0</td>\n",
              "      <td>9.0</td>\n",
              "      <td>10.0</td>\n",
              "      <td>0.0</td>\n",
              "      <td>1.0</td>\n",
              "      <td>5.0</td>\n",
              "      <td>1992.0</td>\n",
              "      <td>W</td>\n",
              "      <td>2.0</td>\n",
              "      <td>4</td>\n",
              "      <td>4C</td>\n",
              "      <td>24</td>\n",
              "      <td>1.0</td>\n",
              "      <td>3.0</td>\n",
              "      <td>1.0</td>\n",
              "      <td>0.0</td>\n",
              "      <td>0.0</td>\n",
              "      <td>3.0</td>\n",
              "      <td>2.0</td>\n",
              "      <td>4.0</td>\n",
              "      <td>4.0</td>\n",
              "      <td>4.0</td>\n",
              "      <td>2.0</td>\n",
              "      <td>3.0</td>\n",
              "      <td>2.0</td>\n",
              "      <td>2.0</td>\n",
              "      <td>712.0</td>\n",
              "      <td>3.0</td>\n",
              "      <td>3.0</td>\n",
              "      <td>1.0</td>\n",
              "      <td>0.0</td>\n",
              "      <td>1.0</td>\n",
              "      <td>4.0</td>\n",
              "      <td>4.0</td>\n",
              "      <td>3.0</td>\n",
              "      <td>5.0</td>\n",
              "      <td>2.0</td>\n",
              "    </tr>\n",
              "    <tr>\n",
              "      <th>3</th>\n",
              "      <td>2</td>\n",
              "      <td>4</td>\n",
              "      <td>2</td>\n",
              "      <td>2.0</td>\n",
              "      <td>4</td>\n",
              "      <td>2</td>\n",
              "      <td>5</td>\n",
              "      <td>2</td>\n",
              "      <td>1</td>\n",
              "      <td>2</td>\n",
              "      <td>6</td>\n",
              "      <td>1957</td>\n",
              "      <td>1.0</td>\n",
              "      <td>0</td>\n",
              "      <td>2</td>\n",
              "      <td>0.0</td>\n",
              "      <td>0.0</td>\n",
              "      <td>0.0</td>\n",
              "      <td>0.0</td>\n",
              "      <td>9.0</td>\n",
              "      <td>4.0</td>\n",
              "      <td>1</td>\n",
              "      <td>8</td>\n",
              "      <td>2.0</td>\n",
              "      <td>5</td>\n",
              "      <td>1</td>\n",
              "      <td>2</td>\n",
              "      <td>1</td>\n",
              "      <td>4</td>\n",
              "      <td>4</td>\n",
              "      <td>7</td>\n",
              "      <td>4</td>\n",
              "      <td>3</td>\n",
              "      <td>4</td>\n",
              "      <td>4</td>\n",
              "      <td>5</td>\n",
              "      <td>4</td>\n",
              "      <td>4</td>\n",
              "      <td>1</td>\n",
              "      <td>0.0</td>\n",
              "      <td>...</td>\n",
              "      <td>0.0</td>\n",
              "      <td>1.0</td>\n",
              "      <td>NaN</td>\n",
              "      <td>NaN</td>\n",
              "      <td>9.0</td>\n",
              "      <td>1.0</td>\n",
              "      <td>0.0</td>\n",
              "      <td>1.0</td>\n",
              "      <td>4.0</td>\n",
              "      <td>1997.0</td>\n",
              "      <td>W</td>\n",
              "      <td>7.0</td>\n",
              "      <td>2</td>\n",
              "      <td>2A</td>\n",
              "      <td>12</td>\n",
              "      <td>4.0</td>\n",
              "      <td>1.0</td>\n",
              "      <td>0.0</td>\n",
              "      <td>0.0</td>\n",
              "      <td>1.0</td>\n",
              "      <td>4.0</td>\n",
              "      <td>4.0</td>\n",
              "      <td>2.0</td>\n",
              "      <td>6.0</td>\n",
              "      <td>4.0</td>\n",
              "      <td>0.0</td>\n",
              "      <td>4.0</td>\n",
              "      <td>1.0</td>\n",
              "      <td>0.0</td>\n",
              "      <td>596.0</td>\n",
              "      <td>2.0</td>\n",
              "      <td>2.0</td>\n",
              "      <td>2.0</td>\n",
              "      <td>0.0</td>\n",
              "      <td>1.0</td>\n",
              "      <td>3.0</td>\n",
              "      <td>4.0</td>\n",
              "      <td>2.0</td>\n",
              "      <td>3.0</td>\n",
              "      <td>3.0</td>\n",
              "    </tr>\n",
              "    <tr>\n",
              "      <th>4</th>\n",
              "      <td>-1</td>\n",
              "      <td>3</td>\n",
              "      <td>1</td>\n",
              "      <td>5.0</td>\n",
              "      <td>4</td>\n",
              "      <td>3</td>\n",
              "      <td>4</td>\n",
              "      <td>1</td>\n",
              "      <td>3</td>\n",
              "      <td>2</td>\n",
              "      <td>5</td>\n",
              "      <td>1963</td>\n",
              "      <td>5.0</td>\n",
              "      <td>0</td>\n",
              "      <td>3</td>\n",
              "      <td>32.0</td>\n",
              "      <td>10.0</td>\n",
              "      <td>10.0</td>\n",
              "      <td>5.0</td>\n",
              "      <td>3.0</td>\n",
              "      <td>2.0</td>\n",
              "      <td>1</td>\n",
              "      <td>8</td>\n",
              "      <td>5.0</td>\n",
              "      <td>6</td>\n",
              "      <td>4</td>\n",
              "      <td>4</td>\n",
              "      <td>2</td>\n",
              "      <td>7</td>\n",
              "      <td>4</td>\n",
              "      <td>4</td>\n",
              "      <td>6</td>\n",
              "      <td>2</td>\n",
              "      <td>3</td>\n",
              "      <td>2</td>\n",
              "      <td>2</td>\n",
              "      <td>4</td>\n",
              "      <td>2</td>\n",
              "      <td>2</td>\n",
              "      <td>0.0</td>\n",
              "      <td>...</td>\n",
              "      <td>0.0</td>\n",
              "      <td>5.0</td>\n",
              "      <td>1.0</td>\n",
              "      <td>2.0</td>\n",
              "      <td>9.0</td>\n",
              "      <td>3.0</td>\n",
              "      <td>0.0</td>\n",
              "      <td>1.0</td>\n",
              "      <td>4.0</td>\n",
              "      <td>1992.0</td>\n",
              "      <td>W</td>\n",
              "      <td>3.0</td>\n",
              "      <td>6</td>\n",
              "      <td>6B</td>\n",
              "      <td>43</td>\n",
              "      <td>1.0</td>\n",
              "      <td>4.0</td>\n",
              "      <td>1.0</td>\n",
              "      <td>0.0</td>\n",
              "      <td>0.0</td>\n",
              "      <td>3.0</td>\n",
              "      <td>2.0</td>\n",
              "      <td>5.0</td>\n",
              "      <td>1.0</td>\n",
              "      <td>5.0</td>\n",
              "      <td>3.0</td>\n",
              "      <td>3.0</td>\n",
              "      <td>5.0</td>\n",
              "      <td>5.0</td>\n",
              "      <td>435.0</td>\n",
              "      <td>2.0</td>\n",
              "      <td>4.0</td>\n",
              "      <td>2.0</td>\n",
              "      <td>1.0</td>\n",
              "      <td>2.0</td>\n",
              "      <td>3.0</td>\n",
              "      <td>3.0</td>\n",
              "      <td>4.0</td>\n",
              "      <td>6.0</td>\n",
              "      <td>5.0</td>\n",
              "    </tr>\n",
              "  </tbody>\n",
              "</table>\n",
              "<p>5 rows × 85 columns</p>\n",
              "</div>"
            ],
            "text/plain": [
              "   AGER_TYP  ALTERSKATEGORIE_GROB  ANREDE_KZ  ...  ARBEIT  ORTSGR_KLS9  RELAT_AB\n",
              "0        -1                     2          1  ...     NaN          NaN       NaN\n",
              "1        -1                     1          2  ...     3.0          5.0       4.0\n",
              "2        -1                     3          2  ...     3.0          5.0       2.0\n",
              "3         2                     4          2  ...     2.0          3.0       3.0\n",
              "4        -1                     3          1  ...     4.0          6.0       5.0\n",
              "\n",
              "[5 rows x 85 columns]"
            ]
          },
          "metadata": {
            "tags": []
          },
          "execution_count": 6
        }
      ]
    },
    {
      "cell_type": "code",
      "metadata": {
        "id": "FAuOFwt3s6TL",
        "colab_type": "code",
        "outputId": "af0f9a6c-80a8-41a6-e170-c4501280b290",
        "colab": {
          "base_uri": "https://localhost:8080/",
          "height": 34
        }
      },
      "source": [
        "feat_info.shape"
      ],
      "execution_count": 0,
      "outputs": [
        {
          "output_type": "execute_result",
          "data": {
            "text/plain": [
              "(85, 4)"
            ]
          },
          "metadata": {
            "tags": []
          },
          "execution_count": 7
        }
      ]
    },
    {
      "cell_type": "code",
      "metadata": {
        "id": "J2hdDln2s6TP",
        "colab_type": "code",
        "outputId": "a7fba386-3654-4655-c23c-cb69e5b74542",
        "colab": {
          "base_uri": "https://localhost:8080/",
          "height": 1000
        }
      },
      "source": [
        "feat_info"
      ],
      "execution_count": 0,
      "outputs": [
        {
          "output_type": "execute_result",
          "data": {
            "text/html": [
              "<div>\n",
              "<style scoped>\n",
              "    .dataframe tbody tr th:only-of-type {\n",
              "        vertical-align: middle;\n",
              "    }\n",
              "\n",
              "    .dataframe tbody tr th {\n",
              "        vertical-align: top;\n",
              "    }\n",
              "\n",
              "    .dataframe thead th {\n",
              "        text-align: right;\n",
              "    }\n",
              "</style>\n",
              "<table border=\"1\" class=\"dataframe\">\n",
              "  <thead>\n",
              "    <tr style=\"text-align: right;\">\n",
              "      <th></th>\n",
              "      <th>attribute</th>\n",
              "      <th>information_level</th>\n",
              "      <th>type</th>\n",
              "      <th>missing_or_unknown</th>\n",
              "    </tr>\n",
              "  </thead>\n",
              "  <tbody>\n",
              "    <tr>\n",
              "      <th>0</th>\n",
              "      <td>AGER_TYP</td>\n",
              "      <td>person</td>\n",
              "      <td>categorical</td>\n",
              "      <td>[-1,0]</td>\n",
              "    </tr>\n",
              "    <tr>\n",
              "      <th>1</th>\n",
              "      <td>ALTERSKATEGORIE_GROB</td>\n",
              "      <td>person</td>\n",
              "      <td>ordinal</td>\n",
              "      <td>[-1,0,9]</td>\n",
              "    </tr>\n",
              "    <tr>\n",
              "      <th>2</th>\n",
              "      <td>ANREDE_KZ</td>\n",
              "      <td>person</td>\n",
              "      <td>categorical</td>\n",
              "      <td>[-1,0]</td>\n",
              "    </tr>\n",
              "    <tr>\n",
              "      <th>3</th>\n",
              "      <td>CJT_GESAMTTYP</td>\n",
              "      <td>person</td>\n",
              "      <td>categorical</td>\n",
              "      <td>[0]</td>\n",
              "    </tr>\n",
              "    <tr>\n",
              "      <th>4</th>\n",
              "      <td>FINANZ_MINIMALIST</td>\n",
              "      <td>person</td>\n",
              "      <td>ordinal</td>\n",
              "      <td>[-1]</td>\n",
              "    </tr>\n",
              "    <tr>\n",
              "      <th>5</th>\n",
              "      <td>FINANZ_SPARER</td>\n",
              "      <td>person</td>\n",
              "      <td>ordinal</td>\n",
              "      <td>[-1]</td>\n",
              "    </tr>\n",
              "    <tr>\n",
              "      <th>6</th>\n",
              "      <td>FINANZ_VORSORGER</td>\n",
              "      <td>person</td>\n",
              "      <td>ordinal</td>\n",
              "      <td>[-1]</td>\n",
              "    </tr>\n",
              "    <tr>\n",
              "      <th>7</th>\n",
              "      <td>FINANZ_ANLEGER</td>\n",
              "      <td>person</td>\n",
              "      <td>ordinal</td>\n",
              "      <td>[-1]</td>\n",
              "    </tr>\n",
              "    <tr>\n",
              "      <th>8</th>\n",
              "      <td>FINANZ_UNAUFFAELLIGER</td>\n",
              "      <td>person</td>\n",
              "      <td>ordinal</td>\n",
              "      <td>[-1]</td>\n",
              "    </tr>\n",
              "    <tr>\n",
              "      <th>9</th>\n",
              "      <td>FINANZ_HAUSBAUER</td>\n",
              "      <td>person</td>\n",
              "      <td>ordinal</td>\n",
              "      <td>[-1]</td>\n",
              "    </tr>\n",
              "    <tr>\n",
              "      <th>10</th>\n",
              "      <td>FINANZTYP</td>\n",
              "      <td>person</td>\n",
              "      <td>categorical</td>\n",
              "      <td>[-1]</td>\n",
              "    </tr>\n",
              "    <tr>\n",
              "      <th>11</th>\n",
              "      <td>GEBURTSJAHR</td>\n",
              "      <td>person</td>\n",
              "      <td>numeric</td>\n",
              "      <td>[0]</td>\n",
              "    </tr>\n",
              "    <tr>\n",
              "      <th>12</th>\n",
              "      <td>GFK_URLAUBERTYP</td>\n",
              "      <td>person</td>\n",
              "      <td>categorical</td>\n",
              "      <td>[]</td>\n",
              "    </tr>\n",
              "    <tr>\n",
              "      <th>13</th>\n",
              "      <td>GREEN_AVANTGARDE</td>\n",
              "      <td>person</td>\n",
              "      <td>categorical</td>\n",
              "      <td>[]</td>\n",
              "    </tr>\n",
              "    <tr>\n",
              "      <th>14</th>\n",
              "      <td>HEALTH_TYP</td>\n",
              "      <td>person</td>\n",
              "      <td>ordinal</td>\n",
              "      <td>[-1,0]</td>\n",
              "    </tr>\n",
              "    <tr>\n",
              "      <th>15</th>\n",
              "      <td>LP_LEBENSPHASE_FEIN</td>\n",
              "      <td>person</td>\n",
              "      <td>mixed</td>\n",
              "      <td>[0]</td>\n",
              "    </tr>\n",
              "    <tr>\n",
              "      <th>16</th>\n",
              "      <td>LP_LEBENSPHASE_GROB</td>\n",
              "      <td>person</td>\n",
              "      <td>mixed</td>\n",
              "      <td>[0]</td>\n",
              "    </tr>\n",
              "    <tr>\n",
              "      <th>17</th>\n",
              "      <td>LP_FAMILIE_FEIN</td>\n",
              "      <td>person</td>\n",
              "      <td>categorical</td>\n",
              "      <td>[0]</td>\n",
              "    </tr>\n",
              "    <tr>\n",
              "      <th>18</th>\n",
              "      <td>LP_FAMILIE_GROB</td>\n",
              "      <td>person</td>\n",
              "      <td>categorical</td>\n",
              "      <td>[0]</td>\n",
              "    </tr>\n",
              "    <tr>\n",
              "      <th>19</th>\n",
              "      <td>LP_STATUS_FEIN</td>\n",
              "      <td>person</td>\n",
              "      <td>categorical</td>\n",
              "      <td>[0]</td>\n",
              "    </tr>\n",
              "    <tr>\n",
              "      <th>20</th>\n",
              "      <td>LP_STATUS_GROB</td>\n",
              "      <td>person</td>\n",
              "      <td>categorical</td>\n",
              "      <td>[0]</td>\n",
              "    </tr>\n",
              "    <tr>\n",
              "      <th>21</th>\n",
              "      <td>NATIONALITAET_KZ</td>\n",
              "      <td>person</td>\n",
              "      <td>categorical</td>\n",
              "      <td>[-1,0]</td>\n",
              "    </tr>\n",
              "    <tr>\n",
              "      <th>22</th>\n",
              "      <td>PRAEGENDE_JUGENDJAHRE</td>\n",
              "      <td>person</td>\n",
              "      <td>mixed</td>\n",
              "      <td>[-1,0]</td>\n",
              "    </tr>\n",
              "    <tr>\n",
              "      <th>23</th>\n",
              "      <td>RETOURTYP_BK_S</td>\n",
              "      <td>person</td>\n",
              "      <td>ordinal</td>\n",
              "      <td>[0]</td>\n",
              "    </tr>\n",
              "    <tr>\n",
              "      <th>24</th>\n",
              "      <td>SEMIO_SOZ</td>\n",
              "      <td>person</td>\n",
              "      <td>ordinal</td>\n",
              "      <td>[-1,9]</td>\n",
              "    </tr>\n",
              "    <tr>\n",
              "      <th>25</th>\n",
              "      <td>SEMIO_FAM</td>\n",
              "      <td>person</td>\n",
              "      <td>ordinal</td>\n",
              "      <td>[-1,9]</td>\n",
              "    </tr>\n",
              "    <tr>\n",
              "      <th>26</th>\n",
              "      <td>SEMIO_REL</td>\n",
              "      <td>person</td>\n",
              "      <td>ordinal</td>\n",
              "      <td>[-1,9]</td>\n",
              "    </tr>\n",
              "    <tr>\n",
              "      <th>27</th>\n",
              "      <td>SEMIO_MAT</td>\n",
              "      <td>person</td>\n",
              "      <td>ordinal</td>\n",
              "      <td>[-1,9]</td>\n",
              "    </tr>\n",
              "    <tr>\n",
              "      <th>28</th>\n",
              "      <td>SEMIO_VERT</td>\n",
              "      <td>person</td>\n",
              "      <td>ordinal</td>\n",
              "      <td>[-1,9]</td>\n",
              "    </tr>\n",
              "    <tr>\n",
              "      <th>29</th>\n",
              "      <td>SEMIO_LUST</td>\n",
              "      <td>person</td>\n",
              "      <td>ordinal</td>\n",
              "      <td>[-1,9]</td>\n",
              "    </tr>\n",
              "    <tr>\n",
              "      <th>...</th>\n",
              "      <td>...</td>\n",
              "      <td>...</td>\n",
              "      <td>...</td>\n",
              "      <td>...</td>\n",
              "    </tr>\n",
              "    <tr>\n",
              "      <th>55</th>\n",
              "      <td>OST_WEST_KZ</td>\n",
              "      <td>building</td>\n",
              "      <td>categorical</td>\n",
              "      <td>[-1]</td>\n",
              "    </tr>\n",
              "    <tr>\n",
              "      <th>56</th>\n",
              "      <td>WOHNLAGE</td>\n",
              "      <td>building</td>\n",
              "      <td>mixed</td>\n",
              "      <td>[-1]</td>\n",
              "    </tr>\n",
              "    <tr>\n",
              "      <th>57</th>\n",
              "      <td>CAMEO_DEUG_2015</td>\n",
              "      <td>microcell_rr4</td>\n",
              "      <td>categorical</td>\n",
              "      <td>[-1,X]</td>\n",
              "    </tr>\n",
              "    <tr>\n",
              "      <th>58</th>\n",
              "      <td>CAMEO_DEU_2015</td>\n",
              "      <td>microcell_rr4</td>\n",
              "      <td>categorical</td>\n",
              "      <td>[XX]</td>\n",
              "    </tr>\n",
              "    <tr>\n",
              "      <th>59</th>\n",
              "      <td>CAMEO_INTL_2015</td>\n",
              "      <td>microcell_rr4</td>\n",
              "      <td>mixed</td>\n",
              "      <td>[-1,XX]</td>\n",
              "    </tr>\n",
              "    <tr>\n",
              "      <th>60</th>\n",
              "      <td>KBA05_ANTG1</td>\n",
              "      <td>microcell_rr3</td>\n",
              "      <td>ordinal</td>\n",
              "      <td>[-1]</td>\n",
              "    </tr>\n",
              "    <tr>\n",
              "      <th>61</th>\n",
              "      <td>KBA05_ANTG2</td>\n",
              "      <td>microcell_rr3</td>\n",
              "      <td>ordinal</td>\n",
              "      <td>[-1]</td>\n",
              "    </tr>\n",
              "    <tr>\n",
              "      <th>62</th>\n",
              "      <td>KBA05_ANTG3</td>\n",
              "      <td>microcell_rr3</td>\n",
              "      <td>ordinal</td>\n",
              "      <td>[-1]</td>\n",
              "    </tr>\n",
              "    <tr>\n",
              "      <th>63</th>\n",
              "      <td>KBA05_ANTG4</td>\n",
              "      <td>microcell_rr3</td>\n",
              "      <td>ordinal</td>\n",
              "      <td>[-1]</td>\n",
              "    </tr>\n",
              "    <tr>\n",
              "      <th>64</th>\n",
              "      <td>KBA05_BAUMAX</td>\n",
              "      <td>microcell_rr3</td>\n",
              "      <td>mixed</td>\n",
              "      <td>[-1,0]</td>\n",
              "    </tr>\n",
              "    <tr>\n",
              "      <th>65</th>\n",
              "      <td>KBA05_GBZ</td>\n",
              "      <td>microcell_rr3</td>\n",
              "      <td>ordinal</td>\n",
              "      <td>[-1,0]</td>\n",
              "    </tr>\n",
              "    <tr>\n",
              "      <th>66</th>\n",
              "      <td>BALLRAUM</td>\n",
              "      <td>postcode</td>\n",
              "      <td>ordinal</td>\n",
              "      <td>[-1]</td>\n",
              "    </tr>\n",
              "    <tr>\n",
              "      <th>67</th>\n",
              "      <td>EWDICHTE</td>\n",
              "      <td>postcode</td>\n",
              "      <td>ordinal</td>\n",
              "      <td>[-1]</td>\n",
              "    </tr>\n",
              "    <tr>\n",
              "      <th>68</th>\n",
              "      <td>INNENSTADT</td>\n",
              "      <td>postcode</td>\n",
              "      <td>ordinal</td>\n",
              "      <td>[-1]</td>\n",
              "    </tr>\n",
              "    <tr>\n",
              "      <th>69</th>\n",
              "      <td>GEBAEUDETYP_RASTER</td>\n",
              "      <td>region_rr1</td>\n",
              "      <td>ordinal</td>\n",
              "      <td>[]</td>\n",
              "    </tr>\n",
              "    <tr>\n",
              "      <th>70</th>\n",
              "      <td>KKK</td>\n",
              "      <td>region_rr1</td>\n",
              "      <td>ordinal</td>\n",
              "      <td>[-1,0]</td>\n",
              "    </tr>\n",
              "    <tr>\n",
              "      <th>71</th>\n",
              "      <td>MOBI_REGIO</td>\n",
              "      <td>region_rr1</td>\n",
              "      <td>ordinal</td>\n",
              "      <td>[]</td>\n",
              "    </tr>\n",
              "    <tr>\n",
              "      <th>72</th>\n",
              "      <td>ONLINE_AFFINITAET</td>\n",
              "      <td>region_rr1</td>\n",
              "      <td>ordinal</td>\n",
              "      <td>[]</td>\n",
              "    </tr>\n",
              "    <tr>\n",
              "      <th>73</th>\n",
              "      <td>REGIOTYP</td>\n",
              "      <td>region_rr1</td>\n",
              "      <td>ordinal</td>\n",
              "      <td>[-1,0]</td>\n",
              "    </tr>\n",
              "    <tr>\n",
              "      <th>74</th>\n",
              "      <td>KBA13_ANZAHL_PKW</td>\n",
              "      <td>macrocell_plz8</td>\n",
              "      <td>numeric</td>\n",
              "      <td>[]</td>\n",
              "    </tr>\n",
              "    <tr>\n",
              "      <th>75</th>\n",
              "      <td>PLZ8_ANTG1</td>\n",
              "      <td>macrocell_plz8</td>\n",
              "      <td>ordinal</td>\n",
              "      <td>[-1]</td>\n",
              "    </tr>\n",
              "    <tr>\n",
              "      <th>76</th>\n",
              "      <td>PLZ8_ANTG2</td>\n",
              "      <td>macrocell_plz8</td>\n",
              "      <td>ordinal</td>\n",
              "      <td>[-1]</td>\n",
              "    </tr>\n",
              "    <tr>\n",
              "      <th>77</th>\n",
              "      <td>PLZ8_ANTG3</td>\n",
              "      <td>macrocell_plz8</td>\n",
              "      <td>ordinal</td>\n",
              "      <td>[-1]</td>\n",
              "    </tr>\n",
              "    <tr>\n",
              "      <th>78</th>\n",
              "      <td>PLZ8_ANTG4</td>\n",
              "      <td>macrocell_plz8</td>\n",
              "      <td>ordinal</td>\n",
              "      <td>[-1]</td>\n",
              "    </tr>\n",
              "    <tr>\n",
              "      <th>79</th>\n",
              "      <td>PLZ8_BAUMAX</td>\n",
              "      <td>macrocell_plz8</td>\n",
              "      <td>mixed</td>\n",
              "      <td>[-1,0]</td>\n",
              "    </tr>\n",
              "    <tr>\n",
              "      <th>80</th>\n",
              "      <td>PLZ8_HHZ</td>\n",
              "      <td>macrocell_plz8</td>\n",
              "      <td>ordinal</td>\n",
              "      <td>[-1]</td>\n",
              "    </tr>\n",
              "    <tr>\n",
              "      <th>81</th>\n",
              "      <td>PLZ8_GBZ</td>\n",
              "      <td>macrocell_plz8</td>\n",
              "      <td>ordinal</td>\n",
              "      <td>[-1]</td>\n",
              "    </tr>\n",
              "    <tr>\n",
              "      <th>82</th>\n",
              "      <td>ARBEIT</td>\n",
              "      <td>community</td>\n",
              "      <td>ordinal</td>\n",
              "      <td>[-1,9]</td>\n",
              "    </tr>\n",
              "    <tr>\n",
              "      <th>83</th>\n",
              "      <td>ORTSGR_KLS9</td>\n",
              "      <td>community</td>\n",
              "      <td>ordinal</td>\n",
              "      <td>[-1,0]</td>\n",
              "    </tr>\n",
              "    <tr>\n",
              "      <th>84</th>\n",
              "      <td>RELAT_AB</td>\n",
              "      <td>community</td>\n",
              "      <td>ordinal</td>\n",
              "      <td>[-1,9]</td>\n",
              "    </tr>\n",
              "  </tbody>\n",
              "</table>\n",
              "<p>85 rows × 4 columns</p>\n",
              "</div>"
            ],
            "text/plain": [
              "                attribute information_level         type missing_or_unknown\n",
              "0                AGER_TYP            person  categorical             [-1,0]\n",
              "1    ALTERSKATEGORIE_GROB            person      ordinal           [-1,0,9]\n",
              "2               ANREDE_KZ            person  categorical             [-1,0]\n",
              "3           CJT_GESAMTTYP            person  categorical                [0]\n",
              "4       FINANZ_MINIMALIST            person      ordinal               [-1]\n",
              "5           FINANZ_SPARER            person      ordinal               [-1]\n",
              "6        FINANZ_VORSORGER            person      ordinal               [-1]\n",
              "7          FINANZ_ANLEGER            person      ordinal               [-1]\n",
              "8   FINANZ_UNAUFFAELLIGER            person      ordinal               [-1]\n",
              "9        FINANZ_HAUSBAUER            person      ordinal               [-1]\n",
              "10              FINANZTYP            person  categorical               [-1]\n",
              "11            GEBURTSJAHR            person      numeric                [0]\n",
              "12        GFK_URLAUBERTYP            person  categorical                 []\n",
              "13       GREEN_AVANTGARDE            person  categorical                 []\n",
              "14             HEALTH_TYP            person      ordinal             [-1,0]\n",
              "15    LP_LEBENSPHASE_FEIN            person        mixed                [0]\n",
              "16    LP_LEBENSPHASE_GROB            person        mixed                [0]\n",
              "17        LP_FAMILIE_FEIN            person  categorical                [0]\n",
              "18        LP_FAMILIE_GROB            person  categorical                [0]\n",
              "19         LP_STATUS_FEIN            person  categorical                [0]\n",
              "20         LP_STATUS_GROB            person  categorical                [0]\n",
              "21       NATIONALITAET_KZ            person  categorical             [-1,0]\n",
              "22  PRAEGENDE_JUGENDJAHRE            person        mixed             [-1,0]\n",
              "23         RETOURTYP_BK_S            person      ordinal                [0]\n",
              "24              SEMIO_SOZ            person      ordinal             [-1,9]\n",
              "25              SEMIO_FAM            person      ordinal             [-1,9]\n",
              "26              SEMIO_REL            person      ordinal             [-1,9]\n",
              "27              SEMIO_MAT            person      ordinal             [-1,9]\n",
              "28             SEMIO_VERT            person      ordinal             [-1,9]\n",
              "29             SEMIO_LUST            person      ordinal             [-1,9]\n",
              "..                    ...               ...          ...                ...\n",
              "55            OST_WEST_KZ          building  categorical               [-1]\n",
              "56               WOHNLAGE          building        mixed               [-1]\n",
              "57        CAMEO_DEUG_2015     microcell_rr4  categorical             [-1,X]\n",
              "58         CAMEO_DEU_2015     microcell_rr4  categorical               [XX]\n",
              "59        CAMEO_INTL_2015     microcell_rr4        mixed            [-1,XX]\n",
              "60            KBA05_ANTG1     microcell_rr3      ordinal               [-1]\n",
              "61            KBA05_ANTG2     microcell_rr3      ordinal               [-1]\n",
              "62            KBA05_ANTG3     microcell_rr3      ordinal               [-1]\n",
              "63            KBA05_ANTG4     microcell_rr3      ordinal               [-1]\n",
              "64           KBA05_BAUMAX     microcell_rr3        mixed             [-1,0]\n",
              "65              KBA05_GBZ     microcell_rr3      ordinal             [-1,0]\n",
              "66               BALLRAUM          postcode      ordinal               [-1]\n",
              "67               EWDICHTE          postcode      ordinal               [-1]\n",
              "68             INNENSTADT          postcode      ordinal               [-1]\n",
              "69     GEBAEUDETYP_RASTER        region_rr1      ordinal                 []\n",
              "70                    KKK        region_rr1      ordinal             [-1,0]\n",
              "71             MOBI_REGIO        region_rr1      ordinal                 []\n",
              "72      ONLINE_AFFINITAET        region_rr1      ordinal                 []\n",
              "73               REGIOTYP        region_rr1      ordinal             [-1,0]\n",
              "74       KBA13_ANZAHL_PKW    macrocell_plz8      numeric                 []\n",
              "75             PLZ8_ANTG1    macrocell_plz8      ordinal               [-1]\n",
              "76             PLZ8_ANTG2    macrocell_plz8      ordinal               [-1]\n",
              "77             PLZ8_ANTG3    macrocell_plz8      ordinal               [-1]\n",
              "78             PLZ8_ANTG4    macrocell_plz8      ordinal               [-1]\n",
              "79            PLZ8_BAUMAX    macrocell_plz8        mixed             [-1,0]\n",
              "80               PLZ8_HHZ    macrocell_plz8      ordinal               [-1]\n",
              "81               PLZ8_GBZ    macrocell_plz8      ordinal               [-1]\n",
              "82                 ARBEIT         community      ordinal             [-1,9]\n",
              "83            ORTSGR_KLS9         community      ordinal             [-1,0]\n",
              "84               RELAT_AB         community      ordinal             [-1,9]\n",
              "\n",
              "[85 rows x 4 columns]"
            ]
          },
          "metadata": {
            "tags": []
          },
          "execution_count": 8
        }
      ]
    },
    {
      "cell_type": "markdown",
      "metadata": {
        "id": "k-whyPWks6TS",
        "colab_type": "text"
      },
      "source": [
        "> **Tip**: Add additional cells to keep everything in reasonably-sized chunks! Keyboard shortcut `esc --> a` (press escape to enter command mode, then press the 'A' key) adds a new cell before the active cell, and `esc --> b` adds a new cell after the active cell. If you need to convert an active cell to a markdown cell, use `esc --> m` and to convert to a code cell, use `esc --> y`. \n",
        "\n",
        "## Step 1: Preprocessing\n",
        "\n",
        "### Step 1.1: Assess Missing Data\n",
        "\n",
        "The feature summary file contains a summary of properties for each demographics data column. You will use this file to help you make cleaning decisions during this stage of the project. First of all, you should assess the demographics data in terms of missing data. Pay attention to the following points as you perform your analysis, and take notes on what you observe. Make sure that you fill in the **Discussion** cell with your findings and decisions at the end of each step that has one!\n",
        "\n",
        "#### Step 1.1.1: Convert Missing Value Codes to NaNs\n",
        "The fourth column of the feature attributes summary (loaded in above as `feat_info`) documents the codes from the data dictionary that indicate missing or unknown data. While the file encodes this as a list (e.g. `[-1,0]`), this will get read in as a string object. You'll need to do a little bit of parsing to make use of it to identify and clean the data. Convert data that matches a 'missing' or 'unknown' value code into a numpy NaN value. You might want to see how much data takes on a 'missing' or 'unknown' code, and how much data is naturally missing, as a point of interest.\n",
        "\n",
        "**As one more reminder, you are encouraged to add additional cells to break up your analysis into manageable chunks.**"
      ]
    },
    {
      "cell_type": "code",
      "metadata": {
        "id": "2Eqt9hY9s6TW",
        "colab_type": "code",
        "colab": {}
      },
      "source": [
        "# Identify missing or unknown data values and convert them to NaNs.\n",
        "\n",
        "for column in range(azdias.shape[1]):\n",
        "    feat_info.loc[column,'missing_or_unknown'] = feat_info.loc[column,'missing_or_unknown'].strip('[]').split(',')\n",
        "   \n",
        "    for item in range(len(feat_info.loc[column,'missing_or_unknown'])):\n",
        "        try:\n",
        "            feat_info.loc[column,'missing_or_unknown'][item] = int(feat_info.loc[column,'missing_or_unknown'][item])\n",
        "        except:\n",
        "            continue\n",
        "    azdias.loc[:,(feat_info.loc[column, 'attribute'])].replace(feat_info.loc[column,'missing_or_unknown'], np.nan, inplace=True)\n"
      ],
      "execution_count": 0,
      "outputs": []
    },
    {
      "cell_type": "code",
      "metadata": {
        "id": "QX9emGhps6Tc",
        "colab_type": "code",
        "outputId": "e15b52a6-b819-45c4-821b-d68196189482",
        "colab": {
          "base_uri": "https://localhost:8080/",
          "height": 34
        }
      },
      "source": [
        "print('Total number of missing values after onverting unknow and missing item to NaNs:  {}'.format(azdias.isnull().sum().sum()))"
      ],
      "execution_count": 0,
      "outputs": [
        {
          "output_type": "stream",
          "text": [
            "Total number of missing values after onverting unknow and missing item to NaNs:  8373929\n"
          ],
          "name": "stdout"
        }
      ]
    },
    {
      "cell_type": "markdown",
      "metadata": {
        "id": "L7E0bcKSs6Tv",
        "colab_type": "text"
      },
      "source": [
        "#### Step 1.1.2: Assess Missing Data in Each Column\n",
        "\n",
        "How much missing data is present in each column? There are a few columns that are outliers in terms of the proportion of values that are missing. You will want to use matplotlib's [`hist()`](https://matplotlib.org/api/_as_gen/matplotlib.pyplot.hist.html) function to visualize the distribution of missing value counts to find these columns. Identify and document these columns. While some of these columns might have justifications for keeping or re-encoding the data, for this project you should just remove them from the dataframe. (Feel free to make remarks about these outlier columns in the discussion, however!)\n",
        "\n",
        "For the remaining features, are there any patterns in which columns have, or share, missing data?"
      ]
    },
    {
      "cell_type": "code",
      "metadata": {
        "scrolled": false,
        "id": "hR18raOKs6Tw",
        "colab_type": "code",
        "colab": {}
      },
      "source": [
        "# Perform an assessment of how much missing data there is in each column of the dataset.\n",
        "missing_col = azdias.isnull().sum()"
      ],
      "execution_count": 0,
      "outputs": []
    },
    {
      "cell_type": "code",
      "metadata": {
        "id": "wIUxYtdG7tyL",
        "colab_type": "code",
        "outputId": "bbfa6088-fd13-4b18-a480-a061b04c5a63",
        "colab": {
          "base_uri": "https://localhost:8080/",
          "height": 170
        }
      },
      "source": [
        "missing_col.describe()"
      ],
      "execution_count": 0,
      "outputs": [
        {
          "output_type": "execute_result",
          "data": {
            "text/plain": [
              "count        85.000000\n",
              "mean      98516.811765\n",
              "std      146604.203317\n",
              "min           0.000000\n",
              "25%           0.000000\n",
              "50%       93148.000000\n",
              "75%      116515.000000\n",
              "max      889061.000000\n",
              "dtype: float64"
            ]
          },
          "metadata": {
            "tags": []
          },
          "execution_count": 12
        }
      ]
    },
    {
      "cell_type": "code",
      "metadata": {
        "id": "Gf48NGW9s6T2",
        "colab_type": "code",
        "outputId": "8755549f-dad5-4200-80ce-6a2a01642012",
        "colab": {
          "base_uri": "https://localhost:8080/",
          "height": 269
        }
      },
      "source": [
        "# Investigate patterns in the amount of missing data in each column.\n",
        "missing_col.hist(facecolor='B',grid=True);"
      ],
      "execution_count": 0,
      "outputs": [
        {
          "output_type": "display_data",
          "data": {
            "image/png": "[encoded data removed]",
            "text/plain": [
              "<Figure size 432x288 with 1 Axes>"
            ]
          },
          "metadata": {
            "tags": []
          }
        }
      ]
    },
    {
      "cell_type": "markdown",
      "metadata": {
        "id": "cuCPBYQJ7Eam",
        "colab_type": "text"
      },
      "source": [
        "### Interpretation: \n",
        "Figure above shows the count of missing values in the columns.\n",
        "The maximum number of values missing from a column is 889,061 and total rows of data are 891,221. There are around 6 columns that contain more than 200000 of missing values and it seen like outliers."
      ]
    },
    {
      "cell_type": "code",
      "metadata": {
        "id": "JNVlyl--s6T5",
        "colab_type": "code",
        "outputId": "3baed1c7-4f14-470d-9b54-f8e0de58eafc",
        "colab": {
          "base_uri": "https://localhost:8080/",
          "height": 34
        }
      },
      "source": [
        "# Remove the outlier columns from the dataset. (You'll perform other data\n",
        "# engineering tasks such as re-encoding and imputation later.)\n",
        "missing_col_high = missing_col[missing_col>200000]\n",
        "azdias.drop(missing_col_high.index, axis=1, inplace=True)\n",
        "azdias.shape"
      ],
      "execution_count": 0,
      "outputs": [
        {
          "output_type": "execute_result",
          "data": {
            "text/plain": [
              "(891221, 79)"
            ]
          },
          "metadata": {
            "tags": []
          },
          "execution_count": 14
        }
      ]
    },
    {
      "cell_type": "code",
      "metadata": {
        "id": "6VmX-JTFAdhr",
        "colab_type": "code",
        "outputId": "74bdea08-64aa-47be-f6fd-7cdaa9434ada",
        "colab": {
          "base_uri": "https://localhost:8080/",
          "height": 136
        }
      },
      "source": [
        "missing_col_high"
      ],
      "execution_count": 0,
      "outputs": [
        {
          "output_type": "execute_result",
          "data": {
            "text/plain": [
              "AGER_TYP        685843\n",
              "GEBURTSJAHR     392318\n",
              "TITEL_KZ        889061\n",
              "ALTER_HH        310267\n",
              "KK_KUNDENTYP    584612\n",
              "KBA05_BAUMAX    476524\n",
              "dtype: int64"
            ]
          },
          "metadata": {
            "tags": []
          },
          "execution_count": 15
        }
      ]
    },
    {
      "cell_type": "code",
      "metadata": {
        "id": "ssd1Ccoy9v2g",
        "colab_type": "code",
        "outputId": "3931b1a2-062c-4558-e410-f0cbf204cf43",
        "colab": {
          "base_uri": "https://localhost:8080/",
          "height": 68
        }
      },
      "source": [
        "missing_col_high.index"
      ],
      "execution_count": 0,
      "outputs": [
        {
          "output_type": "execute_result",
          "data": {
            "text/plain": [
              "Index(['AGER_TYP', 'GEBURTSJAHR', 'TITEL_KZ', 'ALTER_HH', 'KK_KUNDENTYP',\n",
              "       'KBA05_BAUMAX'],\n",
              "      dtype='object')"
            ]
          },
          "metadata": {
            "tags": []
          },
          "execution_count": 16
        }
      ]
    },
    {
      "cell_type": "code",
      "metadata": {
        "id": "IoYCfm4B_fdX",
        "colab_type": "code",
        "outputId": "c98d2b28-8f36-4cc2-d7e7-e185beff01bd",
        "colab": {
          "base_uri": "https://localhost:8080/",
          "height": 269
        }
      },
      "source": [
        "plt.hist(((missing_col[missing_col >= 1]/(azdias.shape[0])) * 100), facecolor='b')\n",
        "plt.grid(True)"
      ],
      "execution_count": 0,
      "outputs": [
        {
          "output_type": "display_data",
          "data": {
            "image/png": "[encoded data removed]",
            "text/plain": [
              "<Figure size 432x288 with 1 Axes>"
            ]
          },
          "metadata": {
            "tags": []
          }
        }
      ]
    },
    {
      "cell_type": "markdown",
      "metadata": {
        "id": "z6-FAAUw-NwG",
        "colab_type": "text"
      },
      "source": [
        "### Interpretation: \n",
        "Columns: AGER_TYP, GEBURTSJAHR, TITEL_KZ, ALTER_HH, KK_KUNDENTYP, and  KBA05_BAUMAX have more than 200000 missing values and missing values ranging from 35% to 99%. So it should be dropped."
      ]
    },
    {
      "cell_type": "markdown",
      "metadata": {
        "id": "GgA-VDJ5s6T8",
        "colab_type": "text"
      },
      "source": [
        "#### Discussion 1.1.2: Assess Missing Data in Each Column\n",
        "\n",
        "In the first figure shows most of the missing value in each column is less than 200000. So for missing value is more than 200000, I am going to remove the columns which is 'AGER_TYP','GEBURTSJAHR','TITEL_KZ','ALTER_HH','KK_KUNDENTYP','KBA05_BAUMAX'.\n",
        "\n",
        "In second figure we can see the percentage of missing values for each column that we want removed. All those column are high in missing value percentage which range from  35% to 99%.\n"
      ]
    },
    {
      "cell_type": "markdown",
      "metadata": {
        "id": "FHB42fAls6T9",
        "colab_type": "text"
      },
      "source": [
        "#### Step 1.1.3: Assess Missing Data in Each Row\n",
        "\n",
        "Now, you'll perform a similar assessment for the rows of the dataset. How much data is missing in each row? As with the columns, you should see some groups of points that have a very different numbers of missing values. Divide the data into two subsets: one for data points that are above some threshold for missing values, and a second subset for points below that threshold.\n",
        "\n",
        "In order to know what to do with the outlier rows, we should see if the distribution of data values on columns that are not missing data (or are missing very little data) are similar or different between the two groups. Select at least five of these columns and compare the distribution of values.\n",
        "- You can use seaborn's [`countplot()`](https://seaborn.pydata.org/generated/seaborn.countplot.html) function to create a bar chart of code frequencies and matplotlib's [`subplot()`](https://matplotlib.org/api/_as_gen/matplotlib.pyplot.subplot.html) function to put bar charts for the two subplots side by side.\n",
        "- To reduce repeated code, you might want to write a function that can perform this comparison, taking as one of its arguments a column to be compared.\n",
        "\n",
        "Depending on what you observe in your comparison, this will have implications on how you approach your conclusions later in the analysis. If the distributions of non-missing features look similar between the data with many missing values and the data with few or no missing values, then we could argue that simply dropping those points from the analysis won't present a major issue. On the other hand, if the data with many missing values looks very different from the data with few or no missing values, then we should make a note on those data as special. We'll revisit these data later on. **Either way, you should continue your analysis for now using just the subset of the data with few or no missing values.**"
      ]
    },
    {
      "cell_type": "code",
      "metadata": {
        "id": "V3Z2oKROs6UC",
        "colab_type": "code",
        "outputId": "53d1466b-6f36-4a4a-bda3-0417feb29fa1",
        "colab": {
          "base_uri": "https://localhost:8080/",
          "height": 1000
        }
      },
      "source": [
        "# How much data is missing in each row of the dataset?\n",
        "missing_row = azdias.isnull().sum(axis=1)\n",
        "missing_row"
      ],
      "execution_count": 0,
      "outputs": [
        {
          "output_type": "execute_result",
          "data": {
            "text/plain": [
              "0         43\n",
              "1          0\n",
              "2          0\n",
              "3          7\n",
              "4          0\n",
              "5          0\n",
              "6          0\n",
              "7          0\n",
              "8          0\n",
              "9          0\n",
              "10         0\n",
              "11        47\n",
              "12         6\n",
              "13         8\n",
              "14        47\n",
              "15         8\n",
              "16         6\n",
              "17        47\n",
              "18         3\n",
              "19         0\n",
              "20        10\n",
              "21         0\n",
              "22         0\n",
              "23         8\n",
              "24        47\n",
              "25         5\n",
              "26        19\n",
              "27         0\n",
              "28         0\n",
              "29         2\n",
              "          ..\n",
              "891191     0\n",
              "891192     0\n",
              "891193     0\n",
              "891194     0\n",
              "891195     0\n",
              "891196     0\n",
              "891197     0\n",
              "891198     0\n",
              "891199     0\n",
              "891200     0\n",
              "891201     0\n",
              "891202     0\n",
              "891203    14\n",
              "891204     0\n",
              "891205     0\n",
              "891206     0\n",
              "891207     0\n",
              "891208     3\n",
              "891209     0\n",
              "891210     0\n",
              "891211     0\n",
              "891212     0\n",
              "891213     0\n",
              "891214     0\n",
              "891215     0\n",
              "891216     3\n",
              "891217     4\n",
              "891218     5\n",
              "891219     0\n",
              "891220     0\n",
              "Length: 891221, dtype: int64"
            ]
          },
          "metadata": {
            "tags": []
          },
          "execution_count": 18
        }
      ]
    },
    {
      "cell_type": "code",
      "metadata": {
        "id": "l8YWnkJcj1-f",
        "colab_type": "code",
        "outputId": "423bde65-1074-4e19-9f25-a968db729525",
        "colab": {
          "base_uri": "https://localhost:8080/",
          "height": 170
        }
      },
      "source": [
        "missing_row.describe()"
      ],
      "execution_count": 0,
      "outputs": [
        {
          "output_type": "execute_result",
          "data": {
            "text/plain": [
              "count    891221.000000\n",
              "mean          5.649894\n",
              "std          13.234687\n",
              "min           0.000000\n",
              "25%           0.000000\n",
              "50%           0.000000\n",
              "75%           3.000000\n",
              "max          49.000000\n",
              "dtype: float64"
            ]
          },
          "metadata": {
            "tags": []
          },
          "execution_count": 19
        }
      ]
    },
    {
      "cell_type": "code",
      "metadata": {
        "id": "OtDcb9qNlSmt",
        "colab_type": "code",
        "outputId": "5b2a176b-63be-4960-854b-4e020df7a807",
        "colab": {
          "base_uri": "https://localhost:8080/",
          "height": 269
        }
      },
      "source": [
        "plt.hist(missing_row, facecolor='b')\n",
        "plt.grid(True)"
      ],
      "execution_count": 0,
      "outputs": [
        {
          "output_type": "display_data",
          "data": {
            "image/png": "[encoded data removed]",
            "text/plain": [
              "<Figure size 432x288 with 1 Axes>"
            ]
          },
          "metadata": {
            "tags": []
          }
        }
      ]
    },
    {
      "cell_type": "markdown",
      "metadata": {
        "id": "uL3z3SZRnAVY",
        "colab_type": "text"
      },
      "source": [
        "\n",
        "###Interpretation\n",
        "From the data describe function shows half of the rows data do not have missing value and 3 or more missing value in 75% quartile range. The highest missing value per row is 49.\n",
        "In the histogram plot we clearly can see high numbers of rows do not have any missing value. Meanwhile we also observed that the data can be divide into two groups which is low missing value group and high missing value group.\n"
      ]
    },
    {
      "cell_type": "code",
      "metadata": {
        "id": "evYBnvmHuAWB",
        "colab_type": "code",
        "colab": {}
      },
      "source": [
        "# Divide the data into two sebset which is high and low missing value.\n",
        "azdias_low_missing = azdias[missing_row<25]\n",
        "azdias_high_missing = azdias[missing_row>=25];"
      ],
      "execution_count": 0,
      "outputs": []
    },
    {
      "cell_type": "code",
      "metadata": {
        "id": "Zx9Gtp4XyDXT",
        "colab_type": "code",
        "outputId": "f4743c4f-e9d7-4d7c-d1b0-840cfa6992af",
        "colab": {
          "base_uri": "https://localhost:8080/",
          "height": 1000
        }
      },
      "source": [
        "# Compare the distribution of values for at least five columns where there are\n",
        "# no or few missing values, between the two subsets.\n",
        "fig, axes = plt.subplots(nrows=5, ncols=2, figsize=(10,30))\n",
        "n=0\n",
        "sns.set_palette(\"Reds\")\n",
        "for column in azdias.columns[0:5]:\n",
        "    sns.countplot(azdias_low_missing.loc[:, column], ax=axes[n,0])\n",
        "    axes[n,0].set_title('Low Missing Per Row')\n",
        "    sns.countplot(azdias_high_missing.loc[:, column], ax=axes[n,1])\n",
        "    axes[n,1].set_title('High Missing Per Row')\n",
        "    n+=1"
      ],
      "execution_count": 0,
      "outputs": [
        {
          "output_type": "display_data",
          "data": {
            "image/png": "[encoded data removed]",
            "text/plain": [
              "<Figure size 720x2160 with 10 Axes>"
            ]
          },
          "metadata": {
            "tags": []
          }
        }
      ]
    },
    {
      "cell_type": "markdown",
      "metadata": {
        "id": "zUduMiYFs6Um",
        "colab_type": "text"
      },
      "source": [
        "#### Discussion 1.1.3: Assess Missing Data in Each Row\n",
        "Base from the graphs above there are quite a few columns with lots of missing values usually have the same value in each column. \n",
        "Some are similar distributions across rows within the two groups based on missing values per row, so it would be safe to say that data with lots of missing values are qualitatively different overall from the data with few or no missing values. We can proceed with data rows which missing value count of less than 25."
      ]
    },
    {
      "cell_type": "markdown",
      "metadata": {
        "id": "lTVNgzUYs6Un",
        "colab_type": "text"
      },
      "source": [
        "### Step 1.2: Select and Re-Encode Features\n",
        "\n",
        "Checking for missing data isn't the only way in which you can prepare a dataset for analysis. Since the unsupervised learning techniques to be used will only work on data that is encoded numerically, you need to make a few encoding changes or additional assumptions to be able to make progress. In addition, while almost all of the values in the dataset are encoded using numbers, not all of them represent numeric values. Check the third column of the feature summary (`feat_info`) for a summary of types of measurement.\n",
        "- For numeric and interval data, these features can be kept without changes.\n",
        "- Most of the variables in the dataset are ordinal in nature. While ordinal values may technically be non-linear in spacing, make the simplifying assumption that the ordinal variables can be treated as being interval in nature (that is, kept without any changes).\n",
        "- Special handling may be necessary for the remaining two variable types: categorical, and 'mixed'.\n",
        "\n",
        "In the first two parts of this sub-step, you will perform an investigation of the categorical and mixed-type features and make a decision on each of them, whether you will keep, drop, or re-encode each. Then, in the last part, you will create a new data frame with only the selected and engineered columns.\n",
        "\n",
        "Data wrangling is often the trickiest part of the data analysis process, and there's a lot of it to be done here. But stick with it: once you're done with this step, you'll be ready to get to the machine learning parts of the project!"
      ]
    },
    {
      "cell_type": "code",
      "metadata": {
        "id": "CfUJol7Rs6Up",
        "colab_type": "code",
        "outputId": "a2ef28af-8302-40a4-b135-3b2a701cab6e",
        "colab": {
          "base_uri": "https://localhost:8080/",
          "height": 136
        }
      },
      "source": [
        "# How many features are there of each data type?\n",
        "feat_info.groupby(['type'])['attribute'].count()"
      ],
      "execution_count": 0,
      "outputs": [
        {
          "output_type": "execute_result",
          "data": {
            "text/plain": [
              "type\n",
              "categorical    21\n",
              "interval        1\n",
              "mixed           7\n",
              "numeric         7\n",
              "ordinal        49\n",
              "Name: attribute, dtype: int64"
            ]
          },
          "metadata": {
            "tags": []
          },
          "execution_count": 23
        }
      ]
    },
    {
      "cell_type": "markdown",
      "metadata": {
        "id": "9LkjCe_es6Ur",
        "colab_type": "text"
      },
      "source": [
        "#### Step 1.2.1: Re-Encode Categorical Features\n",
        "\n",
        "For categorical data, you would ordinarily need to encode the levels as dummy variables. Depending on the number of categories, perform one of the following:\n",
        "- For binary (two-level) categoricals that take numeric values, you can keep them without needing to do anything.\n",
        "- There is one binary variable that takes on non-numeric values. For this one, you need to re-encode the values as numbers or create a dummy variable.\n",
        "- For multi-level categoricals (three or more values), you can choose to encode the values using multiple dummy variables (e.g. via [OneHotEncoder](http://scikit-learn.org/stable/modules/generated/sklearn.preprocessing.OneHotEncoder.html)), or (to keep things straightforward) just drop them from the analysis. As always, document your choices in the Discussion section."
      ]
    },
    {
      "cell_type": "code",
      "metadata": {
        "id": "OidATCR0_SPk",
        "colab_type": "code",
        "outputId": "7ec8b2ee-3b1b-4b12-a862-5f9549f95c2d",
        "colab": {
          "base_uri": "https://localhost:8080/",
          "height": 119
        }
      },
      "source": [
        "feat_info[feat_info['type'] == 'categorical']['attribute'].values"
      ],
      "execution_count": 0,
      "outputs": [
        {
          "output_type": "execute_result",
          "data": {
            "text/plain": [
              "array(['AGER_TYP', 'ANREDE_KZ', 'CJT_GESAMTTYP', 'FINANZTYP',\n",
              "       'GFK_URLAUBERTYP', 'GREEN_AVANTGARDE', 'LP_FAMILIE_FEIN',\n",
              "       'LP_FAMILIE_GROB', 'LP_STATUS_FEIN', 'LP_STATUS_GROB',\n",
              "       'NATIONALITAET_KZ', 'SHOPPER_TYP', 'SOHO_KZ', 'TITEL_KZ',\n",
              "       'VERS_TYP', 'ZABEOTYP', 'KK_KUNDENTYP', 'GEBAEUDETYP',\n",
              "       'OST_WEST_KZ', 'CAMEO_DEUG_2015', 'CAMEO_DEU_2015'], dtype=object)"
            ]
          },
          "metadata": {
            "tags": []
          },
          "execution_count": 24
        }
      ]
    },
    {
      "cell_type": "code",
      "metadata": {
        "id": "SF-3OcbM_Sh1",
        "colab_type": "code",
        "outputId": "c4331160-3ece-4c0b-fe7e-a7117fb4e09b",
        "colab": {
          "base_uri": "https://localhost:8080/",
          "height": 119
        }
      },
      "source": [
        "#Alternative way\n",
        "feat_info.query('type == \"categorical\"').attribute.values"
      ],
      "execution_count": 0,
      "outputs": [
        {
          "output_type": "execute_result",
          "data": {
            "text/plain": [
              "array(['AGER_TYP', 'ANREDE_KZ', 'CJT_GESAMTTYP', 'FINANZTYP',\n",
              "       'GFK_URLAUBERTYP', 'GREEN_AVANTGARDE', 'LP_FAMILIE_FEIN',\n",
              "       'LP_FAMILIE_GROB', 'LP_STATUS_FEIN', 'LP_STATUS_GROB',\n",
              "       'NATIONALITAET_KZ', 'SHOPPER_TYP', 'SOHO_KZ', 'TITEL_KZ',\n",
              "       'VERS_TYP', 'ZABEOTYP', 'KK_KUNDENTYP', 'GEBAEUDETYP',\n",
              "       'OST_WEST_KZ', 'CAMEO_DEUG_2015', 'CAMEO_DEU_2015'], dtype=object)"
            ]
          },
          "metadata": {
            "tags": []
          },
          "execution_count": 25
        }
      ]
    },
    {
      "cell_type": "code",
      "metadata": {
        "id": "9gs-GFHaE4s1",
        "colab_type": "code",
        "outputId": "177b8c68-1f2c-46a2-cdb2-f33112dbe39f",
        "colab": {
          "base_uri": "https://localhost:8080/",
          "height": 340
        }
      },
      "source": [
        "# Assess categorical variables: which are binary, which are multi-level, and\n",
        "# which one needs to be re-encoded?\n",
        "categorical = feat_info[feat_info['type'] == 'categorical']['attribute'].values\n",
        "categorical = [x for x in categorical if x in azdias.columns] # only the ones that are kept in azdias dataset\n",
        "binary = [x for x in categorical if azdias[x].nunique()==2]\n",
        "multilevel = [x for x in categorical if azdias[x].nunique()>2]\n",
        "azdias[categorical].nunique()"
      ],
      "execution_count": 0,
      "outputs": [
        {
          "output_type": "execute_result",
          "data": {
            "text/plain": [
              "ANREDE_KZ            2\n",
              "CJT_GESAMTTYP        6\n",
              "FINANZTYP            6\n",
              "GFK_URLAUBERTYP     12\n",
              "GREEN_AVANTGARDE     2\n",
              "LP_FAMILIE_FEIN     11\n",
              "LP_FAMILIE_GROB      5\n",
              "LP_STATUS_FEIN      10\n",
              "LP_STATUS_GROB       5\n",
              "NATIONALITAET_KZ     3\n",
              "SHOPPER_TYP          4\n",
              "SOHO_KZ              2\n",
              "VERS_TYP             2\n",
              "ZABEOTYP             6\n",
              "GEBAEUDETYP          7\n",
              "OST_WEST_KZ          2\n",
              "CAMEO_DEUG_2015      9\n",
              "CAMEO_DEU_2015      44\n",
              "dtype: int64"
            ]
          },
          "metadata": {
            "tags": []
          },
          "execution_count": 26
        }
      ]
    },
    {
      "cell_type": "code",
      "metadata": {
        "id": "lj0ONxUOF3IE",
        "colab_type": "code",
        "outputId": "c1f77923-2a85-463a-b7c2-5aedec9147a5",
        "colab": {
          "base_uri": "https://localhost:8080/",
          "height": 102
        }
      },
      "source": [
        "# Drop CAMEO DEU_2015 which has 44 features which is too granular for a single column.\n",
        "multilevel.remove('CAMEO_DEU_2015')\n",
        "azdias_low_missing.drop('CAMEO_DEU_2015', axis=1, inplace=True)"
      ],
      "execution_count": 0,
      "outputs": [
        {
          "output_type": "stream",
          "text": [
            "/usr/local/lib/python3.6/dist-packages/pandas/core/frame.py:3940: SettingWithCopyWarning: \n",
            "A value is trying to be set on a copy of a slice from a DataFrame\n",
            "\n",
            "See the caveats in the documentation: http://pandas.pydata.org/pandas-docs/stable/indexing.html#indexing-view-versus-copy\n",
            "  errors=errors)\n"
          ],
          "name": "stderr"
        }
      ]
    },
    {
      "cell_type": "code",
      "metadata": {
        "id": "yzyJOU1KE41z",
        "colab_type": "code",
        "outputId": "ba437300-bbdb-4750-e469-0a368104a6f2",
        "colab": {
          "base_uri": "https://localhost:8080/",
          "height": 68
        }
      },
      "source": [
        "print('# Categorical features:', len(categorical))\n",
        "print('# Multilevel features:', len(multilevel))\n",
        "print('# Binary features:', len(binary))"
      ],
      "execution_count": 0,
      "outputs": [
        {
          "output_type": "stream",
          "text": [
            "# Categorical features: 18\n",
            "# Multilevel features: 12\n",
            "# Binary features: 5\n"
          ],
          "name": "stdout"
        }
      ]
    },
    {
      "cell_type": "markdown",
      "metadata": {
        "id": "8FUz2JniHwfQ",
        "colab_type": "text"
      },
      "source": [
        "There are 18 categorical columns, 5 are binary, 12 are multilevel, and 1 multilevel dropped. "
      ]
    },
    {
      "cell_type": "code",
      "metadata": {
        "id": "XS3xKvjME5BJ",
        "colab_type": "code",
        "outputId": "3b03b690-578d-4a16-fb2f-832ed7c9e0d7",
        "colab": {
          "base_uri": "https://localhost:8080/",
          "height": 68
        }
      },
      "source": [
        "#Check for binary which need to be encoded\n",
        "for col in binary:\n",
        "    if azdias_low_missing[col].dtypes == object:\n",
        "        print(azdias_low_missing[col].value_counts())"
      ],
      "execution_count": 0,
      "outputs": [
        {
          "output_type": "stream",
          "text": [
            "W    629388\n",
            "O    168518\n",
            "Name: OST_WEST_KZ, dtype: int64\n"
          ],
          "name": "stdout"
        }
      ]
    },
    {
      "cell_type": "code",
      "metadata": {
        "id": "_8YMtfB2s6Us",
        "colab_type": "code",
        "outputId": "3a6c7566-b047-482d-85a6-c8884285dd3c",
        "colab": {
          "base_uri": "https://localhost:8080/",
          "height": 102
        }
      },
      "source": [
        "#Convert binary variable from non-numeric to numeric values\n",
        "azdias_low_missing.loc[:, 'OST_WEST_KZ'].replace({'W':0, 'O':1}, inplace=True);"
      ],
      "execution_count": 0,
      "outputs": [
        {
          "output_type": "stream",
          "text": [
            "/usr/local/lib/python3.6/dist-packages/pandas/core/generic.py:6586: SettingWithCopyWarning: \n",
            "A value is trying to be set on a copy of a slice from a DataFrame\n",
            "\n",
            "See the caveats in the documentation: http://pandas.pydata.org/pandas-docs/stable/indexing.html#indexing-view-versus-copy\n",
            "  self._update_inplace(new_data)\n"
          ],
          "name": "stderr"
        }
      ]
    },
    {
      "cell_type": "code",
      "metadata": {
        "id": "7jdQwK-6FraS",
        "colab_type": "code",
        "colab": {}
      },
      "source": [
        "#Convert multi-level categoricals into dummy variables - one hot encode \n",
        "for col in multilevel:\n",
        "    dat = azdias_low_missing[col][azdias_low_missing[col].notnull()]\n",
        "    dummies = pd.get_dummies(dat, prefix=col)\n",
        "    azdias_low_missing = azdias_low_missing.join(dummies)\n",
        "    azdias_low_missing.drop([col], axis=1, inplace=True)"
      ],
      "execution_count": 0,
      "outputs": []
    },
    {
      "cell_type": "code",
      "metadata": {
        "id": "TXaTBa4fFrf2",
        "colab_type": "code",
        "outputId": "5fdb0e89-5198-4800-fd6e-5de1573f4a70",
        "colab": {
          "base_uri": "https://localhost:8080/",
          "height": 253
        }
      },
      "source": [
        "azdias_low_missing.head()"
      ],
      "execution_count": 0,
      "outputs": [
        {
          "output_type": "execute_result",
          "data": {
            "text/html": [
              "<div>\n",
              "<style scoped>\n",
              "    .dataframe tbody tr th:only-of-type {\n",
              "        vertical-align: middle;\n",
              "    }\n",
              "\n",
              "    .dataframe tbody tr th {\n",
              "        vertical-align: top;\n",
              "    }\n",
              "\n",
              "    .dataframe thead th {\n",
              "        text-align: right;\n",
              "    }\n",
              "</style>\n",
              "<table border=\"1\" class=\"dataframe\">\n",
              "  <thead>\n",
              "    <tr style=\"text-align: right;\">\n",
              "      <th></th>\n",
              "      <th>ALTERSKATEGORIE_GROB</th>\n",
              "      <th>ANREDE_KZ</th>\n",
              "      <th>FINANZ_MINIMALIST</th>\n",
              "      <th>FINANZ_SPARER</th>\n",
              "      <th>FINANZ_VORSORGER</th>\n",
              "      <th>FINANZ_ANLEGER</th>\n",
              "      <th>FINANZ_UNAUFFAELLIGER</th>\n",
              "      <th>FINANZ_HAUSBAUER</th>\n",
              "      <th>GREEN_AVANTGARDE</th>\n",
              "      <th>HEALTH_TYP</th>\n",
              "      <th>LP_LEBENSPHASE_FEIN</th>\n",
              "      <th>LP_LEBENSPHASE_GROB</th>\n",
              "      <th>PRAEGENDE_JUGENDJAHRE</th>\n",
              "      <th>RETOURTYP_BK_S</th>\n",
              "      <th>SEMIO_SOZ</th>\n",
              "      <th>SEMIO_FAM</th>\n",
              "      <th>SEMIO_REL</th>\n",
              "      <th>SEMIO_MAT</th>\n",
              "      <th>SEMIO_VERT</th>\n",
              "      <th>SEMIO_LUST</th>\n",
              "      <th>SEMIO_ERL</th>\n",
              "      <th>SEMIO_KULT</th>\n",
              "      <th>SEMIO_RAT</th>\n",
              "      <th>SEMIO_KRIT</th>\n",
              "      <th>SEMIO_DOM</th>\n",
              "      <th>SEMIO_KAEM</th>\n",
              "      <th>SEMIO_PFLICHT</th>\n",
              "      <th>SEMIO_TRADV</th>\n",
              "      <th>SOHO_KZ</th>\n",
              "      <th>VERS_TYP</th>\n",
              "      <th>ANZ_PERSONEN</th>\n",
              "      <th>ANZ_TITEL</th>\n",
              "      <th>HH_EINKOMMEN_SCORE</th>\n",
              "      <th>W_KEIT_KIND_HH</th>\n",
              "      <th>WOHNDAUER_2008</th>\n",
              "      <th>ANZ_HAUSHALTE_AKTIV</th>\n",
              "      <th>ANZ_HH_TITEL</th>\n",
              "      <th>KONSUMNAEHE</th>\n",
              "      <th>MIN_GEBAEUDEJAHR</th>\n",
              "      <th>OST_WEST_KZ</th>\n",
              "      <th>...</th>\n",
              "      <th>LP_STATUS_FEIN_5.0</th>\n",
              "      <th>LP_STATUS_FEIN_6.0</th>\n",
              "      <th>LP_STATUS_FEIN_7.0</th>\n",
              "      <th>LP_STATUS_FEIN_8.0</th>\n",
              "      <th>LP_STATUS_FEIN_9.0</th>\n",
              "      <th>LP_STATUS_FEIN_10.0</th>\n",
              "      <th>LP_STATUS_GROB_1.0</th>\n",
              "      <th>LP_STATUS_GROB_2.0</th>\n",
              "      <th>LP_STATUS_GROB_3.0</th>\n",
              "      <th>LP_STATUS_GROB_4.0</th>\n",
              "      <th>LP_STATUS_GROB_5.0</th>\n",
              "      <th>NATIONALITAET_KZ_1.0</th>\n",
              "      <th>NATIONALITAET_KZ_2.0</th>\n",
              "      <th>NATIONALITAET_KZ_3.0</th>\n",
              "      <th>SHOPPER_TYP_0.0</th>\n",
              "      <th>SHOPPER_TYP_1.0</th>\n",
              "      <th>SHOPPER_TYP_2.0</th>\n",
              "      <th>SHOPPER_TYP_3.0</th>\n",
              "      <th>ZABEOTYP_1</th>\n",
              "      <th>ZABEOTYP_2</th>\n",
              "      <th>ZABEOTYP_3</th>\n",
              "      <th>ZABEOTYP_4</th>\n",
              "      <th>ZABEOTYP_5</th>\n",
              "      <th>ZABEOTYP_6</th>\n",
              "      <th>GEBAEUDETYP_1.0</th>\n",
              "      <th>GEBAEUDETYP_2.0</th>\n",
              "      <th>GEBAEUDETYP_3.0</th>\n",
              "      <th>GEBAEUDETYP_4.0</th>\n",
              "      <th>GEBAEUDETYP_5.0</th>\n",
              "      <th>GEBAEUDETYP_6.0</th>\n",
              "      <th>GEBAEUDETYP_8.0</th>\n",
              "      <th>CAMEO_DEUG_2015_1</th>\n",
              "      <th>CAMEO_DEUG_2015_2</th>\n",
              "      <th>CAMEO_DEUG_2015_3</th>\n",
              "      <th>CAMEO_DEUG_2015_4</th>\n",
              "      <th>CAMEO_DEUG_2015_5</th>\n",
              "      <th>CAMEO_DEUG_2015_6</th>\n",
              "      <th>CAMEO_DEUG_2015_7</th>\n",
              "      <th>CAMEO_DEUG_2015_8</th>\n",
              "      <th>CAMEO_DEUG_2015_9</th>\n",
              "    </tr>\n",
              "  </thead>\n",
              "  <tbody>\n",
              "    <tr>\n",
              "      <th>1</th>\n",
              "      <td>1.0</td>\n",
              "      <td>2</td>\n",
              "      <td>1</td>\n",
              "      <td>5</td>\n",
              "      <td>2</td>\n",
              "      <td>5</td>\n",
              "      <td>4</td>\n",
              "      <td>5</td>\n",
              "      <td>0</td>\n",
              "      <td>3.0</td>\n",
              "      <td>21.0</td>\n",
              "      <td>6.0</td>\n",
              "      <td>14.0</td>\n",
              "      <td>1.0</td>\n",
              "      <td>5</td>\n",
              "      <td>4</td>\n",
              "      <td>4</td>\n",
              "      <td>3</td>\n",
              "      <td>1</td>\n",
              "      <td>2</td>\n",
              "      <td>2</td>\n",
              "      <td>3</td>\n",
              "      <td>6</td>\n",
              "      <td>4</td>\n",
              "      <td>7</td>\n",
              "      <td>4</td>\n",
              "      <td>7</td>\n",
              "      <td>6</td>\n",
              "      <td>1.0</td>\n",
              "      <td>2.0</td>\n",
              "      <td>2.0</td>\n",
              "      <td>0.0</td>\n",
              "      <td>6.0</td>\n",
              "      <td>3.0</td>\n",
              "      <td>9.0</td>\n",
              "      <td>11.0</td>\n",
              "      <td>0.0</td>\n",
              "      <td>1.0</td>\n",
              "      <td>1992.0</td>\n",
              "      <td>0</td>\n",
              "      <td>...</td>\n",
              "      <td>0.0</td>\n",
              "      <td>0.0</td>\n",
              "      <td>0.0</td>\n",
              "      <td>0.0</td>\n",
              "      <td>0.0</td>\n",
              "      <td>0.0</td>\n",
              "      <td>1.0</td>\n",
              "      <td>0.0</td>\n",
              "      <td>0.0</td>\n",
              "      <td>0.0</td>\n",
              "      <td>0.0</td>\n",
              "      <td>1.0</td>\n",
              "      <td>0.0</td>\n",
              "      <td>0.0</td>\n",
              "      <td>0.0</td>\n",
              "      <td>0.0</td>\n",
              "      <td>0.0</td>\n",
              "      <td>1.0</td>\n",
              "      <td>0</td>\n",
              "      <td>0</td>\n",
              "      <td>0</td>\n",
              "      <td>0</td>\n",
              "      <td>1</td>\n",
              "      <td>0</td>\n",
              "      <td>0</td>\n",
              "      <td>0</td>\n",
              "      <td>0</td>\n",
              "      <td>0</td>\n",
              "      <td>0</td>\n",
              "      <td>0</td>\n",
              "      <td>1</td>\n",
              "      <td>0.0</td>\n",
              "      <td>0.0</td>\n",
              "      <td>0.0</td>\n",
              "      <td>0.0</td>\n",
              "      <td>0.0</td>\n",
              "      <td>0.0</td>\n",
              "      <td>0.0</td>\n",
              "      <td>1.0</td>\n",
              "      <td>0.0</td>\n",
              "    </tr>\n",
              "    <tr>\n",
              "      <th>2</th>\n",
              "      <td>3.0</td>\n",
              "      <td>2</td>\n",
              "      <td>1</td>\n",
              "      <td>4</td>\n",
              "      <td>1</td>\n",
              "      <td>2</td>\n",
              "      <td>3</td>\n",
              "      <td>5</td>\n",
              "      <td>1</td>\n",
              "      <td>3.0</td>\n",
              "      <td>3.0</td>\n",
              "      <td>1.0</td>\n",
              "      <td>15.0</td>\n",
              "      <td>3.0</td>\n",
              "      <td>4</td>\n",
              "      <td>1</td>\n",
              "      <td>3</td>\n",
              "      <td>3</td>\n",
              "      <td>4</td>\n",
              "      <td>4</td>\n",
              "      <td>6</td>\n",
              "      <td>3</td>\n",
              "      <td>4</td>\n",
              "      <td>7</td>\n",
              "      <td>7</td>\n",
              "      <td>7</td>\n",
              "      <td>3</td>\n",
              "      <td>3</td>\n",
              "      <td>0.0</td>\n",
              "      <td>1.0</td>\n",
              "      <td>1.0</td>\n",
              "      <td>0.0</td>\n",
              "      <td>4.0</td>\n",
              "      <td>3.0</td>\n",
              "      <td>9.0</td>\n",
              "      <td>10.0</td>\n",
              "      <td>0.0</td>\n",
              "      <td>5.0</td>\n",
              "      <td>1992.0</td>\n",
              "      <td>0</td>\n",
              "      <td>...</td>\n",
              "      <td>0.0</td>\n",
              "      <td>0.0</td>\n",
              "      <td>0.0</td>\n",
              "      <td>0.0</td>\n",
              "      <td>0.0</td>\n",
              "      <td>0.0</td>\n",
              "      <td>0.0</td>\n",
              "      <td>1.0</td>\n",
              "      <td>0.0</td>\n",
              "      <td>0.0</td>\n",
              "      <td>0.0</td>\n",
              "      <td>1.0</td>\n",
              "      <td>0.0</td>\n",
              "      <td>0.0</td>\n",
              "      <td>0.0</td>\n",
              "      <td>0.0</td>\n",
              "      <td>1.0</td>\n",
              "      <td>0.0</td>\n",
              "      <td>0</td>\n",
              "      <td>0</td>\n",
              "      <td>0</td>\n",
              "      <td>0</td>\n",
              "      <td>1</td>\n",
              "      <td>0</td>\n",
              "      <td>1</td>\n",
              "      <td>0</td>\n",
              "      <td>0</td>\n",
              "      <td>0</td>\n",
              "      <td>0</td>\n",
              "      <td>0</td>\n",
              "      <td>0</td>\n",
              "      <td>0.0</td>\n",
              "      <td>0.0</td>\n",
              "      <td>0.0</td>\n",
              "      <td>1.0</td>\n",
              "      <td>0.0</td>\n",
              "      <td>0.0</td>\n",
              "      <td>0.0</td>\n",
              "      <td>0.0</td>\n",
              "      <td>0.0</td>\n",
              "    </tr>\n",
              "    <tr>\n",
              "      <th>3</th>\n",
              "      <td>4.0</td>\n",
              "      <td>2</td>\n",
              "      <td>4</td>\n",
              "      <td>2</td>\n",
              "      <td>5</td>\n",
              "      <td>2</td>\n",
              "      <td>1</td>\n",
              "      <td>2</td>\n",
              "      <td>0</td>\n",
              "      <td>2.0</td>\n",
              "      <td>NaN</td>\n",
              "      <td>NaN</td>\n",
              "      <td>8.0</td>\n",
              "      <td>2.0</td>\n",
              "      <td>5</td>\n",
              "      <td>1</td>\n",
              "      <td>2</td>\n",
              "      <td>1</td>\n",
              "      <td>4</td>\n",
              "      <td>4</td>\n",
              "      <td>7</td>\n",
              "      <td>4</td>\n",
              "      <td>3</td>\n",
              "      <td>4</td>\n",
              "      <td>4</td>\n",
              "      <td>5</td>\n",
              "      <td>4</td>\n",
              "      <td>4</td>\n",
              "      <td>0.0</td>\n",
              "      <td>1.0</td>\n",
              "      <td>0.0</td>\n",
              "      <td>0.0</td>\n",
              "      <td>1.0</td>\n",
              "      <td>NaN</td>\n",
              "      <td>9.0</td>\n",
              "      <td>1.0</td>\n",
              "      <td>0.0</td>\n",
              "      <td>4.0</td>\n",
              "      <td>1997.0</td>\n",
              "      <td>0</td>\n",
              "      <td>...</td>\n",
              "      <td>0.0</td>\n",
              "      <td>0.0</td>\n",
              "      <td>0.0</td>\n",
              "      <td>0.0</td>\n",
              "      <td>1.0</td>\n",
              "      <td>0.0</td>\n",
              "      <td>0.0</td>\n",
              "      <td>0.0</td>\n",
              "      <td>0.0</td>\n",
              "      <td>1.0</td>\n",
              "      <td>0.0</td>\n",
              "      <td>1.0</td>\n",
              "      <td>0.0</td>\n",
              "      <td>0.0</td>\n",
              "      <td>0.0</td>\n",
              "      <td>1.0</td>\n",
              "      <td>0.0</td>\n",
              "      <td>0.0</td>\n",
              "      <td>0</td>\n",
              "      <td>0</td>\n",
              "      <td>1</td>\n",
              "      <td>0</td>\n",
              "      <td>0</td>\n",
              "      <td>0</td>\n",
              "      <td>1</td>\n",
              "      <td>0</td>\n",
              "      <td>0</td>\n",
              "      <td>0</td>\n",
              "      <td>0</td>\n",
              "      <td>0</td>\n",
              "      <td>0</td>\n",
              "      <td>0.0</td>\n",
              "      <td>1.0</td>\n",
              "      <td>0.0</td>\n",
              "      <td>0.0</td>\n",
              "      <td>0.0</td>\n",
              "      <td>0.0</td>\n",
              "      <td>0.0</td>\n",
              "      <td>0.0</td>\n",
              "      <td>0.0</td>\n",
              "    </tr>\n",
              "    <tr>\n",
              "      <th>4</th>\n",
              "      <td>3.0</td>\n",
              "      <td>1</td>\n",
              "      <td>4</td>\n",
              "      <td>3</td>\n",
              "      <td>4</td>\n",
              "      <td>1</td>\n",
              "      <td>3</td>\n",
              "      <td>2</td>\n",
              "      <td>0</td>\n",
              "      <td>3.0</td>\n",
              "      <td>32.0</td>\n",
              "      <td>10.0</td>\n",
              "      <td>8.0</td>\n",
              "      <td>5.0</td>\n",
              "      <td>6</td>\n",
              "      <td>4</td>\n",
              "      <td>4</td>\n",
              "      <td>2</td>\n",
              "      <td>7</td>\n",
              "      <td>4</td>\n",
              "      <td>4</td>\n",
              "      <td>6</td>\n",
              "      <td>2</td>\n",
              "      <td>3</td>\n",
              "      <td>2</td>\n",
              "      <td>2</td>\n",
              "      <td>4</td>\n",
              "      <td>2</td>\n",
              "      <td>0.0</td>\n",
              "      <td>2.0</td>\n",
              "      <td>4.0</td>\n",
              "      <td>0.0</td>\n",
              "      <td>5.0</td>\n",
              "      <td>2.0</td>\n",
              "      <td>9.0</td>\n",
              "      <td>3.0</td>\n",
              "      <td>0.0</td>\n",
              "      <td>4.0</td>\n",
              "      <td>1992.0</td>\n",
              "      <td>0</td>\n",
              "      <td>...</td>\n",
              "      <td>0.0</td>\n",
              "      <td>0.0</td>\n",
              "      <td>0.0</td>\n",
              "      <td>0.0</td>\n",
              "      <td>0.0</td>\n",
              "      <td>0.0</td>\n",
              "      <td>0.0</td>\n",
              "      <td>1.0</td>\n",
              "      <td>0.0</td>\n",
              "      <td>0.0</td>\n",
              "      <td>0.0</td>\n",
              "      <td>1.0</td>\n",
              "      <td>0.0</td>\n",
              "      <td>0.0</td>\n",
              "      <td>0.0</td>\n",
              "      <td>0.0</td>\n",
              "      <td>1.0</td>\n",
              "      <td>0.0</td>\n",
              "      <td>0</td>\n",
              "      <td>0</td>\n",
              "      <td>0</td>\n",
              "      <td>1</td>\n",
              "      <td>0</td>\n",
              "      <td>0</td>\n",
              "      <td>1</td>\n",
              "      <td>0</td>\n",
              "      <td>0</td>\n",
              "      <td>0</td>\n",
              "      <td>0</td>\n",
              "      <td>0</td>\n",
              "      <td>0</td>\n",
              "      <td>0.0</td>\n",
              "      <td>0.0</td>\n",
              "      <td>0.0</td>\n",
              "      <td>0.0</td>\n",
              "      <td>0.0</td>\n",
              "      <td>1.0</td>\n",
              "      <td>0.0</td>\n",
              "      <td>0.0</td>\n",
              "      <td>0.0</td>\n",
              "    </tr>\n",
              "    <tr>\n",
              "      <th>5</th>\n",
              "      <td>1.0</td>\n",
              "      <td>2</td>\n",
              "      <td>3</td>\n",
              "      <td>1</td>\n",
              "      <td>5</td>\n",
              "      <td>2</td>\n",
              "      <td>2</td>\n",
              "      <td>5</td>\n",
              "      <td>0</td>\n",
              "      <td>3.0</td>\n",
              "      <td>8.0</td>\n",
              "      <td>2.0</td>\n",
              "      <td>3.0</td>\n",
              "      <td>3.0</td>\n",
              "      <td>2</td>\n",
              "      <td>4</td>\n",
              "      <td>7</td>\n",
              "      <td>4</td>\n",
              "      <td>2</td>\n",
              "      <td>2</td>\n",
              "      <td>2</td>\n",
              "      <td>5</td>\n",
              "      <td>7</td>\n",
              "      <td>4</td>\n",
              "      <td>4</td>\n",
              "      <td>4</td>\n",
              "      <td>7</td>\n",
              "      <td>6</td>\n",
              "      <td>0.0</td>\n",
              "      <td>2.0</td>\n",
              "      <td>1.0</td>\n",
              "      <td>0.0</td>\n",
              "      <td>5.0</td>\n",
              "      <td>6.0</td>\n",
              "      <td>9.0</td>\n",
              "      <td>5.0</td>\n",
              "      <td>0.0</td>\n",
              "      <td>5.0</td>\n",
              "      <td>1992.0</td>\n",
              "      <td>0</td>\n",
              "      <td>...</td>\n",
              "      <td>0.0</td>\n",
              "      <td>0.0</td>\n",
              "      <td>0.0</td>\n",
              "      <td>0.0</td>\n",
              "      <td>0.0</td>\n",
              "      <td>0.0</td>\n",
              "      <td>0.0</td>\n",
              "      <td>1.0</td>\n",
              "      <td>0.0</td>\n",
              "      <td>0.0</td>\n",
              "      <td>0.0</td>\n",
              "      <td>1.0</td>\n",
              "      <td>0.0</td>\n",
              "      <td>0.0</td>\n",
              "      <td>1.0</td>\n",
              "      <td>0.0</td>\n",
              "      <td>0.0</td>\n",
              "      <td>0.0</td>\n",
              "      <td>0</td>\n",
              "      <td>0</td>\n",
              "      <td>0</td>\n",
              "      <td>1</td>\n",
              "      <td>0</td>\n",
              "      <td>0</td>\n",
              "      <td>1</td>\n",
              "      <td>0</td>\n",
              "      <td>0</td>\n",
              "      <td>0</td>\n",
              "      <td>0</td>\n",
              "      <td>0</td>\n",
              "      <td>0</td>\n",
              "      <td>0.0</td>\n",
              "      <td>0.0</td>\n",
              "      <td>0.0</td>\n",
              "      <td>0.0</td>\n",
              "      <td>0.0</td>\n",
              "      <td>0.0</td>\n",
              "      <td>0.0</td>\n",
              "      <td>1.0</td>\n",
              "      <td>0.0</td>\n",
              "    </tr>\n",
              "  </tbody>\n",
              "</table>\n",
              "<p>5 rows × 150 columns</p>\n",
              "</div>"
            ],
            "text/plain": [
              "   ALTERSKATEGORIE_GROB  ANREDE_KZ  ...  CAMEO_DEUG_2015_8  CAMEO_DEUG_2015_9\n",
              "1                   1.0          2  ...                1.0                0.0\n",
              "2                   3.0          2  ...                0.0                0.0\n",
              "3                   4.0          2  ...                0.0                0.0\n",
              "4                   3.0          1  ...                0.0                0.0\n",
              "5                   1.0          2  ...                1.0                0.0\n",
              "\n",
              "[5 rows x 150 columns]"
            ]
          },
          "metadata": {
            "tags": []
          },
          "execution_count": 32
        }
      ]
    },
    {
      "cell_type": "markdown",
      "metadata": {
        "id": "9Yd_PfKFs6Uv",
        "colab_type": "text"
      },
      "source": [
        "#### Discussion 1.2.1: Re-Encode Categorical Features\n",
        "\n",
        "First, We dropped 'CAMEO_DEU_2015' because 44 differrent categoricals will result in 44 dummy variables that contain very less information. Second we converted the non-numeric binary variable 'OST_WEST_KZ' into a numeric binary variable by replacing 'W' with 0 and 'O' with 1. Next for every multi-level categoricals variable, we did one-hot encoding or dummy variables (n-1 features) using pd.get_dummies.\n",
        "\n"
      ]
    },
    {
      "cell_type": "markdown",
      "metadata": {
        "id": "ljq5L2Zfs6Uz",
        "colab_type": "text"
      },
      "source": [
        "#### Step 1.2.2: Engineer Mixed-Type Features\n",
        "\n",
        "There are a handful of features that are marked as \"mixed\" in the feature summary that require special treatment in order to be included in the analysis. There are two in particular that deserve attention; the handling of the rest are up to your own choices:\n",
        "- \"PRAEGENDE_JUGENDJAHRE\" combines information on three dimensions: generation by decade, movement (mainstream vs. avantgarde), and nation (east vs. west). While there aren't enough levels to disentangle east from west, you should create two new variables to capture the other two dimensions: an interval-type variable for decade, and a binary variable for movement.\n",
        "- \"CAMEO_INTL_2015\" combines information on two axes: wealth and life stage. Break up the two-digit codes by their 'tens'-place and 'ones'-place digits into two new ordinal variables (which, for the purposes of this project, is equivalent to just treating them as their raw numeric values).\n",
        "- If you decide to keep or engineer new features around the other mixed-type features, make sure you note your steps in the Discussion section.\n",
        "\n",
        "Be sure to check `Data_Dictionary.md` for the details needed to finish these tasks."
      ]
    },
    {
      "cell_type": "code",
      "metadata": {
        "id": "K5BlOULnyQde",
        "colab_type": "code",
        "outputId": "9699c0f4-f0e7-49d7-f6a0-3cde6971ebec",
        "colab": {
          "base_uri": "https://localhost:8080/",
          "height": 136
        }
      },
      "source": [
        "mixed = feat_info[feat_info['type'] == 'mixed']['attribute'].values\n",
        "#some column dataset in feat_info not exist in azdias_low_missing so we keep only column exist in azdias_low_missing\n",
        "mixed = [x for x in mixed if x in azdias_low_missing.columns]\n",
        "azdias[mixed].nunique()\n"
      ],
      "execution_count": 0,
      "outputs": [
        {
          "output_type": "execute_result",
          "data": {
            "text/plain": [
              "LP_LEBENSPHASE_FEIN      40\n",
              "LP_LEBENSPHASE_GROB      12\n",
              "PRAEGENDE_JUGENDJAHRE    15\n",
              "WOHNLAGE                  8\n",
              "CAMEO_INTL_2015          21\n",
              "PLZ8_BAUMAX               5\n",
              "dtype: int64"
            ]
          },
          "metadata": {
            "tags": []
          },
          "execution_count": 40
        }
      ]
    },
    {
      "cell_type": "code",
      "metadata": {
        "id": "6isZ1kzvzFNw",
        "colab_type": "code",
        "colab": {}
      },
      "source": [
        "# Investigate \"PRAEGENDE_JUGENDJAHRE\" and engineer two new variables.\n",
        "# Seperate variables MAINSTREAM from PRAEGENDE_JUGENDJAHRE\n",
        "mainstream = [1, 3, 5, 8, 10, 12, 14]\n",
        "avantgarde = [2, 4, 6, 7, 9, 11, 13, 15]\n",
        "def mainavant(x):\n",
        "    if x in mainstream:\n",
        "        return 1\n",
        "    elif x in avantgarde:\n",
        "        return 0\n",
        "    else:\n",
        "        return x\n",
        "      \n",
        "# create first new varibale: 'PRAEGENDE_JUGENDJAHRE_MAINSTREAM'\n",
        "azdias_low_missing['PRAEGENDE_JUGENDJAHRE_MAINSTREAM'] = azdias_low_missing['PRAEGENDE_JUGENDJAHRE'].apply(mainavant)\n",
        "\n",
        "#Create new variable mapping 'decade' and map it to PRAEGENDE_JUGENDJAHRE\n",
        "#East=1, West=2, EAST+WEST=3\n",
        "\n",
        "x = [x+1 for x in range(15)]\n",
        "y = [3, 3, 3, 3, 3, 2, 1, 3, 3, 2, 2, 1, 1, 3, 3]\n",
        "mapping = pd.Series(y, index = x)\n",
        "azdias_low_missing['PRAEGENDE_JUGENDJAHRE_DECADE'] = azdias_low_missing['PRAEGENDE_JUGENDJAHRE'].map(mapping)\n",
        "\n",
        "# drop original column\n",
        "azdias_low_missing=azdias_low_missing.drop('PRAEGENDE_JUGENDJAHRE',axis=1)"
      ],
      "execution_count": 0,
      "outputs": []
    },
    {
      "cell_type": "code",
      "metadata": {
        "id": "UrjalvHJ6wrr",
        "colab_type": "code",
        "outputId": "28a72568-c82e-4a44-ce12-0684bdabeb65",
        "colab": {
          "base_uri": "https://localhost:8080/",
          "height": 391
        }
      },
      "source": [
        "# Investigate \"CAMEO_INTL_2015\" and engineer two new variables.\n",
        "azdias_low_missing['CAMEO_INTL_2015'].value_counts()"
      ],
      "execution_count": 0,
      "outputs": [
        {
          "output_type": "execute_result",
          "data": {
            "text/plain": [
              "51    133691\n",
              "41     92336\n",
              "24     91147\n",
              "14     62880\n",
              "43     56671\n",
              "54     45390\n",
              "25     39624\n",
              "22     33149\n",
              "23     26732\n",
              "13     26332\n",
              "45     26132\n",
              "55     23954\n",
              "52     20542\n",
              "31     19012\n",
              "34     18524\n",
              "15     16974\n",
              "44     14820\n",
              "12     13245\n",
              "35     10356\n",
              "32     10354\n",
              "33      9935\n",
              "Name: CAMEO_INTL_2015, dtype: int64"
            ]
          },
          "metadata": {
            "tags": []
          },
          "execution_count": 52
        }
      ]
    },
    {
      "cell_type": "code",
      "metadata": {
        "id": "SwOesnSk6mBj",
        "colab_type": "code",
        "colab": {}
      },
      "source": [
        "# Investigate \"CAMEO_INTL_2015\" and engineer two new variables.\n",
        "\n",
        "azdias_low_missing.loc[azdias_low_missing['CAMEO_INTL_2015'].notnull(),'CAMEO_INTL_2015_WEALTH'] = azdias_low_missing.loc[azdias_low_missing['CAMEO_INTL_2015'].notnull(),'CAMEO_INTL_2015'].map(lambda x:int(str(x)[0]))\n",
        "azdias_low_missing.loc[azdias_low_missing['CAMEO_INTL_2015'].notnull(),'CAMEO_INTL_2015_LIFESTAGE'] = azdias_low_missing.loc[azdias_low_missing['CAMEO_INTL_2015'].notnull(),'CAMEO_INTL_2015'].map(lambda x:int(str(x)[1]))\n",
        "\n",
        "# drop original column\n",
        "azdias_low_missing=azdias_low_missing.drop('CAMEO_INTL_2015',axis=1)\n"
      ],
      "execution_count": 0,
      "outputs": []
    },
    {
      "cell_type": "markdown",
      "metadata": {
        "id": "MgCXHuiVs6U-",
        "colab_type": "text"
      },
      "source": [
        "#### Discussion 1.2.2: Engineer Mixed-Type Features\n",
        "\n",
        "\n",
        "Remove:LP_LEBENSPHASE_FEIN,LP_LEBENSPHASE_GROB because according to data dictionary, these 2 variables represent personal age level, salary level and household type. Other varibales already contain these information.\n",
        "\n",
        "Keep: WOHNLAGE, PLZ8_BAUMAX\n",
        "\n",
        "Reencode: We had split two of the mixed-type features PRAEGENDE_JUGENDJAHRE and CAMEO_INTL_2015 into two features each and remove the origin columns.\n"
      ]
    },
    {
      "cell_type": "code",
      "metadata": {
        "id": "7P8sTj8Cs6U-",
        "colab_type": "code",
        "colab": {}
      },
      "source": [
        "# Remove mixed categorical variables\n",
        "azdias_low_missing=azdias_low_missing.drop(['LP_LEBENSPHASE_FEIN','LP_LEBENSPHASE_GROB'],axis=1)"
      ],
      "execution_count": 0,
      "outputs": []
    },
    {
      "cell_type": "markdown",
      "metadata": {
        "id": "1jHD3Nxss6VB",
        "colab_type": "text"
      },
      "source": [
        "#### Step 1.2.3: Complete Feature Selection\n",
        "\n",
        "In order to finish this step up, you need to make sure that your data frame now only has the columns that you want to keep. To summarize, the dataframe should consist of the following:\n",
        "- All numeric, interval, and ordinal type columns from the original dataset.\n",
        "- Binary categorical features (all numerically-encoded).\n",
        "- Engineered features from other multi-level categorical features and mixed features.\n",
        "\n",
        "Make sure that for any new columns that you have engineered, that you've excluded the original columns from the final dataset. Otherwise, their values will interfere with the analysis later on the project. For example, you should not keep \"PRAEGENDE_JUGENDJAHRE\", since its values won't be useful for the algorithm: only the values derived from it in the engineered features you created should be retained. As a reminder, your data should only be from **the subset with few or no missing values**."
      ]
    },
    {
      "cell_type": "markdown",
      "metadata": {
        "id": "-0dVltvWs6VN",
        "colab_type": "text"
      },
      "source": [
        "### Step 1.3: Create a Cleaning Function\n",
        "\n",
        "Even though you've finished cleaning up the general population demographics data, it's important to look ahead to the future and realize that you'll need to perform the same cleaning steps on the customer demographics data. In this substep, complete the function below to execute the main feature selection, encoding, and re-engineering steps you performed above. Then, when it comes to looking at the customer data in Step 3, you can just run this function on that DataFrame to get the trimmed dataset in a single step."
      ]
    },
    {
      "cell_type": "code",
      "metadata": {
        "id": "FLcg92Xqs6VO",
        "colab_type": "code",
        "colab": {}
      },
      "source": [
        "def clean_data(df):\n",
        "    \"\"\"\n",
        "    Perform feature trimming, re-encoding, and engineering for demographics\n",
        "    data\n",
        "    \n",
        "    INPUT: Demographics DataFrame\n",
        "    OUTPUT: Trimmed and cleaned demographics DataFrame\n",
        "    \"\"\"\n",
        "    \n",
        "    # Put in code here to execute all main cleaning steps:\n",
        "    # convert missing value codes into NaNs, ...\n",
        "    feat_info = pd.read_csv('/content/drive/My Drive/Colab Notebooks/p3/AZDIAS_Feature_Summary.csv', delimiter=';')\n",
        "    for index in feat_info.index:\n",
        "        feat_info.loc[index,'missing_or_unknown'] = feat_info.loc[index,'missing_or_unknown'].strip('[]').split(',')\n",
        "        for item in range(len(feat_info.loc[index,'missing_or_unknown'])):\n",
        "            try:\n",
        "                feat_info.loc[index,'missing_or_unknown'][item] = int(feat_info.loc[index,'missing_or_unknown'][item])\n",
        "            except:\n",
        "                continue\n",
        "        df.loc[:,(feat_info.loc[index, 'attribute'])].replace(feat_info.loc[index,'missing_or_unknown'], np.nan, inplace=True)\n",
        "   \n",
        "    # drop_columns are those column with missing value >200000\n",
        "    drop_columns = ['AGER_TYP', 'GEBURTSJAHR', 'TITEL_KZ', 'ALTER_HH', \n",
        "                    'KK_KUNDENTYP', 'KBA05_BAUMAX']\n",
        "    \n",
        "    df.drop(drop_columns, axis=1, inplace=True)\n",
        "      \n",
        "    # We use the subset which is low missing value.\n",
        "    missing_row = df.isnull().sum(axis=1)\n",
        "    azdias_low_missing = df[missing_row<25]\n",
        "\n",
        "    # Assess categorical variables: which are binary, which are multi-level\n",
        "    categorical = feat_info[feat_info['type'] == 'categorical']['attribute'].values\n",
        "    categorical = [x for x in categorical if x in azdias_low_missing.columns] # only the ones that are kept in azdias dataset\n",
        "    binary = [x for x in categorical if azdias_low_missing[x].nunique()==2]\n",
        "    multilevel = [x for x in categorical if azdias_low_missing[x].nunique()>2]\n",
        "    \n",
        "    # Drop CAMEO DEU_2015 which has 44 features which is too granular for a single column.\n",
        "    multilevel.remove('CAMEO_DEU_2015')\n",
        "    azdias_low_missing.drop('CAMEO_DEU_2015', axis=1, inplace=True)\n",
        "\n",
        "    #Convert binary variable from non-numeric to numeric values\n",
        "    azdias_low_missing.loc[:, 'OST_WEST_KZ'].replace({'W':0, 'O':1}, inplace=True)\n",
        "    '''\n",
        "    #Convert multi-level categoricals into dummy variables - one hot encode \n",
        "    for col in multilevel:\n",
        "      dat = azdias_low_missing[col][azdias_low_missing[col].notnull()]\n",
        "      dummies = pd.get_dummies(dat, prefix=col)\n",
        "      azdias_low_missing = azdias_low_missing.join(dummies)\n",
        "      azdias_low_missing.drop([col], axis=1, inplace=True)\n",
        "    '''\n",
        "    # Seperate variables MAINSTREAM from PRAEGENDE_JUGENDJAHRE\n",
        "    # create first new varibale: 'PRAEGENDE_JUGENDJAHRE_MAINSTREAM'\n",
        "    \n",
        "    value1 = list(azdias_low_missing['PRAEGENDE_JUGENDJAHRE'])\n",
        "    MAINSTREAM =[]\n",
        "    for i in range (len(value1)):\n",
        "        value = value1[i]\n",
        "        if value in [2,4,6,7,9,11,13,15]:\n",
        "            MAINSTREAM.append(0)\n",
        "        elif value in [1,3,5,8,10,12,14]:\n",
        "            MAINSTREAM.append(1)\n",
        "        else:\n",
        "            MAINSTREAM.append(np.nan)\n",
        "            \n",
        "    azdias_low_missing[\"PRAEGENDE_JUGENDJAHRE_MAINSTREAM\"] = MAINSTREAM\n",
        "\n",
        "    #Create new variable mapping 'decade' and map it to PRAEGENDE_JUGENDJAHRE\n",
        "    #East=1, West=2, EAST+WEST=3\n",
        "\n",
        "    x = [x+1 for x in range(15)]\n",
        "    y = [3, 3, 3, 3, 3, 2, 1, 3, 3, 2, 2, 1, 1, 3, 3]\n",
        "    mapping = pd.Series(y, index = x)\n",
        "    azdias_low_missing['PRAEGENDE_JUGENDJAHRE_DECADE'] = azdias_low_missing['PRAEGENDE_JUGENDJAHRE'].map(mapping)\n",
        "\n",
        "    # drop original column\n",
        "    azdias_low_missing=azdias_low_missing.drop('PRAEGENDE_JUGENDJAHRE',axis=1)\n",
        "\n",
        "    # Investigate \"CAMEO_INTL_2015\" and engineer two new variables.\n",
        "    azdias_low_missing.loc[azdias_low_missing['CAMEO_INTL_2015'].notnull(),'CAMEO_INTL_2015_WEALTH'] = azdias_low_missing.loc[azdias_low_missing['CAMEO_INTL_2015'].notnull(),'CAMEO_INTL_2015'].map(lambda x:int(str(x)[0]))\n",
        "    azdias_low_missing.loc[azdias_low_missing['CAMEO_INTL_2015'].notnull(),'CAMEO_INTL_2015_LIFESTAGE'] = azdias_low_missing.loc[azdias_low_missing['CAMEO_INTL_2015'].notnull(),'CAMEO_INTL_2015'].map(lambda x:int(str(x)[1]))\n",
        "\n",
        "    # drop original column\n",
        "    azdias_low_missing=azdias_low_missing.drop('CAMEO_INTL_2015',axis=1)\n",
        "\n",
        "    # Remove mixed categorical variables\n",
        "    azdias_low_missing=azdias_low_missing.drop(['LP_LEBENSPHASE_FEIN','LP_LEBENSPHASE_GROB','WOHNLAGE','PLZ8_BAUMAX'],axis=1)\n",
        "\n",
        "    return azdias_low_missing\n"
      ],
      "execution_count": 0,
      "outputs": []
    },
    {
      "cell_type": "markdown",
      "metadata": {
        "id": "sP6phn4Hs6VQ",
        "colab_type": "text"
      },
      "source": [
        "## Step 2: Feature Transformation\n",
        "\n",
        "### Step 2.1: Apply Feature Scaling\n",
        "\n",
        "Before we apply dimensionality reduction techniques to the data, we need to perform feature scaling so that the principal component vectors are not influenced by the natural differences in scale for features. Starting from this part of the project, you'll want to keep an eye on the [API reference page for sklearn](http://scikit-learn.org/stable/modules/classes.html) to help you navigate to all of the classes and functions that you'll need. In this substep, you'll need to check the following:\n",
        "\n",
        "- sklearn requires that data not have missing values in order for its estimators to work properly. So, before applying the scaler to your data, make sure that you've cleaned the DataFrame of the remaining missing values. This can be as simple as just removing all data points with missing data, or applying an [Imputer](http://scikit-learn.org/stable/modules/generated/sklearn.preprocessing.Imputer.html) to replace all missing values. You might also try a more complicated procedure where you temporarily remove missing values in order to compute the scaling parameters before re-introducing those missing values and applying imputation. Think about how much missing data you have and what possible effects each approach might have on your analysis, and justify your decision in the discussion section below.\n",
        "- For the actual scaling function, a [StandardScaler](http://scikit-learn.org/stable/modules/generated/sklearn.preprocessing.StandardScaler.html) instance is suggested, scaling each feature to mean 0 and standard deviation 1.\n",
        "- For these classes, you can make use of the `.fit_transform()` method to both fit a procedure to the data as well as apply the transformation to the data at the same time. Don't forget to keep the fit sklearn objects handy, since you'll be applying them to the customer demographics data towards the end of the project."
      ]
    },
    {
      "cell_type": "code",
      "metadata": {
        "id": "m6Lt4Wf1_Sg9",
        "colab_type": "code",
        "outputId": "989f85e5-6bb7-4b75-81af-c2ac45e53bdf",
        "colab": {
          "base_uri": "https://localhost:8080/",
          "height": 357
        }
      },
      "source": [
        "azdias_low_missing = clean_data(azdias)"
      ],
      "execution_count": 0,
      "outputs": [
        {
          "output_type": "stream",
          "text": [
            "/usr/local/lib/python3.6/dist-packages/pandas/core/frame.py:3940: SettingWithCopyWarning: \n",
            "A value is trying to be set on a copy of a slice from a DataFrame\n",
            "\n",
            "See the caveats in the documentation: http://pandas.pydata.org/pandas-docs/stable/indexing.html#indexing-view-versus-copy\n",
            "  errors=errors)\n",
            "/usr/local/lib/python3.6/dist-packages/pandas/core/generic.py:6586: SettingWithCopyWarning: \n",
            "A value is trying to be set on a copy of a slice from a DataFrame\n",
            "\n",
            "See the caveats in the documentation: http://pandas.pydata.org/pandas-docs/stable/indexing.html#indexing-view-versus-copy\n",
            "  self._update_inplace(new_data)\n",
            "/usr/local/lib/python3.6/dist-packages/ipykernel_launcher.py:77: SettingWithCopyWarning: \n",
            "A value is trying to be set on a copy of a slice from a DataFrame.\n",
            "Try using .loc[row_indexer,col_indexer] = value instead\n",
            "\n",
            "See the caveats in the documentation: http://pandas.pydata.org/pandas-docs/stable/indexing.html#indexing-view-versus-copy\n",
            "/usr/local/lib/python3.6/dist-packages/ipykernel_launcher.py:85: SettingWithCopyWarning: \n",
            "A value is trying to be set on a copy of a slice from a DataFrame.\n",
            "Try using .loc[row_indexer,col_indexer] = value instead\n",
            "\n",
            "See the caveats in the documentation: http://pandas.pydata.org/pandas-docs/stable/indexing.html#indexing-view-versus-copy\n"
          ],
          "name": "stderr"
        }
      ]
    },
    {
      "cell_type": "code",
      "metadata": {
        "scrolled": false,
        "id": "IizhPbrvs6VR",
        "colab_type": "code",
        "outputId": "3e2b0d55-e8c6-4d88-a105-061f559e29dc",
        "colab": {
          "base_uri": "https://localhost:8080/",
          "height": 34
        }
      },
      "source": [
        "print(azdias_low_missing.shape)"
      ],
      "execution_count": 0,
      "outputs": [
        {
          "output_type": "stream",
          "text": [
            "(797906, 76)\n"
          ],
          "name": "stdout"
        }
      ]
    },
    {
      "cell_type": "code",
      "metadata": {
        "id": "NQxmXnJns6VU",
        "colab_type": "code",
        "outputId": "235a68ca-38f1-4dd0-b9d1-717c0092b9b2",
        "colab": {
          "base_uri": "https://localhost:8080/",
          "height": 71
        }
      },
      "source": [
        "# If you've not yet cleaned the dataset of all NaN values, then investigate and\n",
        "# do that now.\n",
        "\n",
        "# For those numeric variables having NAs, we used median to replace the NAs\n",
        "imputer = Imputer()\n",
        "azdias_low_missing = pd.DataFrame(imputer.fit_transform(azdias_low_missing), columns = azdias_low_missing.columns)\n",
        "\n"
      ],
      "execution_count": 0,
      "outputs": [
        {
          "output_type": "stream",
          "text": [
            "/usr/local/lib/python3.6/dist-packages/sklearn/utils/deprecation.py:66: DeprecationWarning: Class Imputer is deprecated; Imputer was deprecated in version 0.20 and will be removed in 0.22. Import impute.SimpleImputer from sklearn instead.\n",
            "  warnings.warn(msg, category=DeprecationWarning)\n"
          ],
          "name": "stderr"
        }
      ]
    },
    {
      "cell_type": "code",
      "metadata": {
        "id": "ul-1lxUds6Ve",
        "colab_type": "code",
        "colab": {}
      },
      "source": [
        "# Apply feature scaling to the general population demographics data.\n",
        "scaler = StandardScaler()\n",
        "azdias_low_missing = pd.DataFrame(scaler.fit_transform(azdias_low_missing), columns = azdias_low_missing.columns)"
      ],
      "execution_count": 0,
      "outputs": []
    },
    {
      "cell_type": "markdown",
      "metadata": {
        "id": "yXp7STS_s6Vh",
        "colab_type": "text"
      },
      "source": [
        "### Discussion 2.1: Apply Feature Scaling\n",
        "\n",
        "We imputed the missing values using Imputer package that replaces the missing value with the median of the column. [Reference](https://scikit-learn.org/stable/modules/impute.html)\n",
        "\n",
        "We standardized the data using StandardScaler package\n"
      ]
    },
    {
      "cell_type": "markdown",
      "metadata": {
        "id": "GdJfWquDs6Vh",
        "colab_type": "text"
      },
      "source": [
        "### Step 2.2: Perform Dimensionality Reduction\n",
        "\n",
        "On your scaled data, you are now ready to apply dimensionality reduction techniques.\n",
        "\n",
        "- Use sklearn's [PCA](http://scikit-learn.org/stable/modules/generated/sklearn.decomposition.PCA.html) class to apply principal component analysis on the data, thus finding the vectors of maximal variance in the data. To start, you should not set any parameters (so all components are computed) or set a number of components that is at least half the number of features (so there's enough features to see the general trend in variability).\n",
        "- Check out the ratio of variance explained by each principal component as well as the cumulative variance explained. Try plotting the cumulative or sequential values using matplotlib's [`plot()`](https://matplotlib.org/api/_as_gen/matplotlib.pyplot.plot.html) function. Based on what you find, select a value for the number of transformed features you'll retain for the clustering part of the project.\n",
        "- Once you've made a choice for the number of components to keep, make sure you re-fit a PCA instance to perform the decided-on transformation."
      ]
    },
    {
      "cell_type": "code",
      "metadata": {
        "id": "zuy-_Ejis6Vo",
        "colab_type": "code",
        "colab": {}
      },
      "source": [
        "# Apply PCA to the data.\n",
        "pca = PCA()\n",
        "azdias_pca = pca.fit_transform(azdias_low_missing)"
      ],
      "execution_count": 0,
      "outputs": []
    },
    {
      "cell_type": "code",
      "metadata": {
        "scrolled": true,
        "id": "7_Ny2VBLs6Vt",
        "colab_type": "code",
        "outputId": "9067cb53-bc41-4433-bf02-3b51a123872c",
        "colab": {
          "base_uri": "https://localhost:8080/",
          "height": 404
        }
      },
      "source": [
        "# Investigate the variance accounted for by each principal component.\n",
        "def scree_plot(pca):\n",
        "    num_components = len(pca.explained_variance_ratio_)\n",
        "    ind = np.arange(num_components)\n",
        "    vals = pca.explained_variance_ratio_\n",
        " \n",
        "    plt.figure(figsize=(12, 6))\n",
        "    ax = plt.subplot(111)\n",
        "    cumvals = np.cumsum(vals)\n",
        "    ax.bar(ind, vals)\n",
        "    ax.plot(ind, cumvals)\n",
        "    for i in range(num_components):\n",
        "      if(i%10==0):\n",
        "        ax.annotate(r\"%s%%\" % ((str(vals[i]*100)[:4])), (ind[i]+0.2, vals[i]), va=\"bottom\", ha=\"center\", fontsize=12)\n",
        " \n",
        "    ax.xaxis.set_tick_params(width=0)\n",
        "    ax.yaxis.set_tick_params(width=2, length=12)\n",
        " \n",
        "    ax.set_xlabel(\"Principal Component\")\n",
        "    ax.set_ylabel(\"Variance Explained (%)\")\n",
        "    plt.title('Explained Variance Per Principal Component')\n",
        "    \n",
        "\n",
        "scree_plot(pca)"
      ],
      "execution_count": 0,
      "outputs": [
        {
          "output_type": "display_data",
          "data": {
            "image/png": "[encoded data removed]",
            "text/plain": [
              "<Figure size 864x432 with 1 Axes>"
            ]
          },
          "metadata": {
            "tags": []
          }
        }
      ]
    },
    {
      "cell_type": "code",
      "metadata": {
        "id": "VUFXy1XHs6Vv",
        "colab_type": "code",
        "colab": {}
      },
      "source": [
        "# Re-apply PCA to the data while selecting for number of components to retain.\n",
        "pca = PCA(n_components=30)\n",
        "azdias_pca = pca.fit_transform(azdias_low_missing)\n"
      ],
      "execution_count": 0,
      "outputs": []
    },
    {
      "cell_type": "code",
      "metadata": {
        "id": "t8v9b_gfG3Ie",
        "colab_type": "code",
        "outputId": "87426f54-cee8-437d-f32b-67dd16435f3f",
        "colab": {
          "base_uri": "https://localhost:8080/",
          "height": 404
        }
      },
      "source": [
        "scree_plot(pca)"
      ],
      "execution_count": 0,
      "outputs": [
        {
          "output_type": "display_data",
          "data": {
            "image/png": "[encoded data removed]",
            "text/plain": [
              "<Figure size 864x432 with 1 Axes>"
            ]
          },
          "metadata": {
            "tags": []
          }
        }
      ]
    },
    {
      "cell_type": "markdown",
      "metadata": {
        "id": "PCRNpuTvs6V0",
        "colab_type": "text"
      },
      "source": [
        "### Discussion 2.2: Perform Dimensionality Reduction\n",
        "\n",
        "After performing PCA on my dataset, I choose 30 components for the next step for the analysis because n_components equals 60, the variance explained is close to 80%."
      ]
    },
    {
      "cell_type": "markdown",
      "metadata": {
        "id": "Qwbtj_0ns6V0",
        "colab_type": "text"
      },
      "source": [
        "### Step 2.3: Interpret Principal Components\n",
        "\n",
        "Now that we have our transformed principal components, it's a nice idea to check out the weight of each variable on the first few components to see if they can be interpreted in some fashion.\n",
        "\n",
        "As a reminder, each principal component is a unit vector that points in the direction of highest variance (after accounting for the variance captured by earlier principal components). The further a weight is from zero, the more the principal component is in the direction of the corresponding feature. If two features have large weights of the same sign (both positive or both negative), then increases in one tend expect to be associated with increases in the other. To contrast, features with different signs can be expected to show a negative correlation: increases in one variable should result in a decrease in the other.\n",
        "\n",
        "- To investigate the features, you should map each weight to their corresponding feature name, then sort the features according to weight. The most interesting features for each principal component, then, will be those at the beginning and end of the sorted list. Use the data dictionary document to help you understand these most prominent features, their relationships, and what a positive or negative value on the principal component might indicate.\n",
        "- You should investigate and interpret feature associations from the first three principal components in this substep. To help facilitate this, you should write a function that you can call at any time to print the sorted list of feature weights, for the *i*-th principal component. This might come in handy in the next step of the project, when you interpret the tendencies of the discovered clusters."
      ]
    },
    {
      "cell_type": "code",
      "metadata": {
        "id": "37TpGgg6KT6U",
        "colab_type": "code",
        "colab": {}
      },
      "source": [
        "#function for calculating weights of the components\n",
        "def weights(nth_pc,pca,df):\n",
        "    name_list=list(df.columns)\n",
        "    weights_list=list(pca.components_[nth_pc])\n",
        "    df =pd.DataFrame(list(zip(name_list, weights_list)))\n",
        "    df.set_axis(['Feature', 'Weights'], axis=1, inplace=True)\n",
        "    df = df.sort_values(by=['Weights'] , ascending=False)\n",
        "    df.set_index('Feature', inplace=True)\n",
        "    return df"
      ],
      "execution_count": 0,
      "outputs": []
    },
    {
      "cell_type": "code",
      "metadata": {
        "id": "9VuX5Ltjs6V1",
        "colab_type": "code",
        "outputId": "a24e54c0-b278-4fc6-8f68-88457911ae19",
        "colab": {
          "base_uri": "https://localhost:8080/",
          "height": 1000
        }
      },
      "source": [
        "\n",
        "# Map weights for the first principal component to corresponding feature names\n",
        "# and then print the linked values, sorted by weight.\n",
        "# HINT: Try defining a function here or in a new cell that you can reuse in the\n",
        "# other cells.\n",
        "for i in range(3):\n",
        "  print('\\n Top 5 positive components {}\\n'.format(i))\n",
        "  print(weights(i,pca,azdias_low_missing).head(5))\n",
        "  print('\\n Top 5 negative components {}\\n'.format(i))\n",
        "  print(weights(i,pca,azdias_low_missing).tail(5))\n",
        "  print('-----------------------------------------------')"
      ],
      "execution_count": 0,
      "outputs": [
        {
          "output_type": "stream",
          "text": [
            "\n",
            " Top 5 positive components 0\n",
            "\n",
            "                         Weights\n",
            "Feature                         \n",
            "CAMEO_DEUG_2015         0.208228\n",
            "PLZ8_ANTG3              0.206687\n",
            "CAMEO_INTL_2015_WEALTH  0.204395\n",
            "EWDICHTE                0.177740\n",
            "ORTSGR_KLS9             0.167689\n",
            "\n",
            " Top 5 negative components 0\n",
            "\n",
            "                    Weights\n",
            "Feature                    \n",
            "FINANZ_MINIMALIST -0.206007\n",
            "KBA05_ANTG1       -0.206738\n",
            "MOBI_REGIO        -0.212990\n",
            "LP_STATUS_FEIN    -0.219310\n",
            "LP_STATUS_GROB    -0.222067\n",
            "-----------------------------------------------\n",
            "\n",
            " Top 5 positive components 1\n",
            "\n",
            "                       Weights\n",
            "Feature                       \n",
            "ALTERSKATEGORIE_GROB  0.270981\n",
            "FINANZ_VORSORGER      0.241075\n",
            "SEMIO_ERL             0.237243\n",
            "SEMIO_LUST            0.183122\n",
            "RETOURTYP_BK_S        0.168227\n",
            "\n",
            " Top 5 negative components 1\n",
            "\n",
            "                        Weights\n",
            "Feature                        \n",
            "SEMIO_TRADV           -0.234220\n",
            "FINANZ_UNAUFFAELLIGER -0.236091\n",
            "SEMIO_PFLICHT         -0.246241\n",
            "FINANZ_SPARER         -0.250774\n",
            "SEMIO_REL             -0.262415\n",
            "-----------------------------------------------\n",
            "\n",
            " Top 5 positive components 2\n",
            "\n",
            "             Weights\n",
            "Feature             \n",
            "SEMIO_VERT  0.341886\n",
            "SEMIO_SOZ   0.289117\n",
            "SEMIO_KULT  0.272004\n",
            "SEMIO_FAM   0.213245\n",
            "PLZ8_ANTG4  0.111205\n",
            "\n",
            " Top 5 negative components 2\n",
            "\n",
            "                 Weights\n",
            "Feature                 \n",
            "FINANZ_ANLEGER -0.183267\n",
            "SEMIO_KRIT     -0.302753\n",
            "SEMIO_DOM      -0.313320\n",
            "ANREDE_KZ      -0.334254\n",
            "SEMIO_KAEM     -0.337920\n",
            "-----------------------------------------------\n"
          ],
          "name": "stdout"
        }
      ]
    },
    {
      "cell_type": "markdown",
      "metadata": {
        "id": "uhuATZbps6WE",
        "colab_type": "text"
      },
      "source": [
        "### Discussion 2.3: Interpret Principal Components\n",
        "\n",
        "Component 0: Banlieue/Urban people with lower financial interest and income <p>\n",
        "Component 1: Old-age people which older than 60 years old with traditional social, economic features and less religious. <p>\n",
        "Component 2: Male Aggressive which is less dreamy <p>"
      ]
    },
    {
      "cell_type": "markdown",
      "metadata": {
        "id": "CbxKP1oSs6WF",
        "colab_type": "text"
      },
      "source": [
        "## Step 3: Clustering\n",
        "\n",
        "### Step 3.1: Apply Clustering to General Population\n",
        "\n",
        "You've assessed and cleaned the demographics data, then scaled and transformed them. Now, it's time to see how the data clusters in the principal components space. In this substep, you will apply k-means clustering to the dataset and use the average within-cluster distances from each point to their assigned cluster's centroid to decide on a number of clusters to keep.\n",
        "\n",
        "- Use sklearn's [KMeans](http://scikit-learn.org/stable/modules/generated/sklearn.cluster.KMeans.html#sklearn.cluster.KMeans) class to perform k-means clustering on the PCA-transformed data.\n",
        "- Then, compute the average difference from each point to its assigned cluster's center. **Hint**: The KMeans object's `.score()` method might be useful here, but note that in sklearn, scores tend to be defined so that larger is better. Try applying it to a small, toy dataset, or use an internet search to help your understanding.\n",
        "- Perform the above two steps for a number of different cluster counts. You can then see how the average distance decreases with an increasing number of clusters. However, each additional cluster provides a smaller net benefit. Use this fact to select a final number of clusters in which to group the data. **Warning**: because of the large size of the dataset, it can take a long time for the algorithm to resolve. The more clusters to fit, the longer the algorithm will take. You should test for cluster counts through at least 10 clusters to get the full picture, but you shouldn't need to test for a number of clusters above about 30.\n",
        "- Once you've selected a final number of clusters to use, re-fit a KMeans instance to perform the clustering operation. Make sure that you also obtain the cluster assignments for the general demographics data, since you'll be using them in the final Step 3.3."
      ]
    },
    {
      "cell_type": "code",
      "metadata": {
        "id": "z8MkS6vCs6WG",
        "colab_type": "code",
        "outputId": "dc389862-64be-4f61-f6e3-e333bb39f617",
        "colab": {
          "base_uri": "https://localhost:8080/",
          "height": 493
        }
      },
      "source": [
        "from sklearn.cluster import KMeans, MiniBatchKMeans\n",
        "#Over a number of different cluster counts...\n",
        "kmeans_scores = []\n",
        "for i in range(2,30,1):\n",
        "\n",
        "    #run k-means clustering on the data and...\n",
        "    kmeans = MiniBatchKMeans(i)\n",
        "    kmeans.fit(azdias_pca)\n",
        "    score = np.abs(kmeans.score(azdias_pca))\n",
        "    #compute the average within-cluster distances.\n",
        "    print(\"For n_clusters={}, average within-cluster distances = {}\".format(i,score))\n",
        "    kmeans_scores.append(score)"
      ],
      "execution_count": 0,
      "outputs": [
        {
          "output_type": "stream",
          "text": [
            "For n_clusters=2, average within-cluster distances = 48390640.44684553\n",
            "For n_clusters=3, average within-cluster distances = 44992148.94378756\n",
            "For n_clusters=4, average within-cluster distances = 44865507.52990008\n",
            "For n_clusters=5, average within-cluster distances = 41620123.94900901\n",
            "For n_clusters=6, average within-cluster distances = 39850284.52664132\n",
            "For n_clusters=7, average within-cluster distances = 37586198.88245892\n",
            "For n_clusters=8, average within-cluster distances = 36018539.142698705\n",
            "For n_clusters=9, average within-cluster distances = 35437002.15215047\n",
            "For n_clusters=10, average within-cluster distances = 34843139.2743806\n",
            "For n_clusters=11, average within-cluster distances = 34200904.37054905\n",
            "For n_clusters=12, average within-cluster distances = 33692230.21886251\n",
            "For n_clusters=13, average within-cluster distances = 34549290.78956224\n",
            "For n_clusters=14, average within-cluster distances = 32491992.77308009\n",
            "For n_clusters=15, average within-cluster distances = 32225567.744778115\n",
            "For n_clusters=16, average within-cluster distances = 31924253.200463403\n",
            "For n_clusters=17, average within-cluster distances = 31005581.302415382\n",
            "For n_clusters=18, average within-cluster distances = 31352571.650075864\n",
            "For n_clusters=19, average within-cluster distances = 30178201.267448932\n",
            "For n_clusters=20, average within-cluster distances = 30412441.235393014\n",
            "For n_clusters=21, average within-cluster distances = 30448474.33206941\n",
            "For n_clusters=22, average within-cluster distances = 30926055.81259441\n",
            "For n_clusters=23, average within-cluster distances = 30310615.172550566\n",
            "For n_clusters=24, average within-cluster distances = 28672918.69739526\n",
            "For n_clusters=25, average within-cluster distances = 28862028.402488332\n",
            "For n_clusters=26, average within-cluster distances = 30736816.271700867\n",
            "For n_clusters=27, average within-cluster distances = 28349403.451717738\n",
            "For n_clusters=28, average within-cluster distances = 29829438.13702812\n",
            "For n_clusters=29, average within-cluster distances = 28287316.587234363\n"
          ],
          "name": "stdout"
        }
      ]
    },
    {
      "cell_type": "code",
      "metadata": {
        "id": "J9VaqpnWe3If",
        "colab_type": "code",
        "outputId": "04f86be7-29b3-479b-e4c4-8ab0ba7b4a2a",
        "colab": {
          "base_uri": "https://localhost:8080/",
          "height": 310
        }
      },
      "source": [
        "# Investigate the change in within-cluster distance across number of clusters.\n",
        "# HINT: Use matplotlib's plot function to visualize this relationship.\n",
        "n=[2,4,6,8,10,12,14,16,18,20,22,24,26,28,30]\n",
        "cluster_df =pd.DataFrame(list(zip(kmeans_scores,n)))\n",
        "cluster_df.set_axis(['kmeans_scores', 'n'], axis=1, inplace=True)\n",
        "cluster_df.plot.bar(x='n', y='kmeans_scores')"
      ],
      "execution_count": 0,
      "outputs": [
        {
          "output_type": "execute_result",
          "data": {
            "text/plain": [
              "<matplotlib.axes._subplots.AxesSubplot at 0x7fec6bfe6d30>"
            ]
          },
          "metadata": {
            "tags": []
          },
          "execution_count": 45
        },
        {
          "output_type": "display_data",
          "data": {
            "image/png": "[encoded data removed]",
            "text/plain": [
              "<Figure size 432x288 with 1 Axes>"
            ]
          },
          "metadata": {
            "tags": []
          }
        }
      ]
    },
    {
      "cell_type": "code",
      "metadata": {
        "id": "nETcEr0Es6WI",
        "colab_type": "code",
        "colab": {}
      },
      "source": [
        "\n",
        "# Re-fit the k-means model with the selected number of clusters and obtain\n",
        "kmeans = KMeans(14, random_state=10)\n",
        "\n",
        "# cluster predictions for the general population demographics data.\n",
        "clusters_pop = kmeans.fit_predict(azdias_pca)"
      ],
      "execution_count": 0,
      "outputs": []
    },
    {
      "cell_type": "markdown",
      "metadata": {
        "id": "t-kMQqvUs6WO",
        "colab_type": "text"
      },
      "source": [
        "### Discussion 3.1: Apply Clustering to General Population\n",
        "\n",
        "(Double-click this cell and replace this text with your own text, reporting your findings and decisions regarding clustering. Into how many clusters have you decided to segment the population?)\n",
        "\n",
        "I decided to choose 14 because after 14 clusters, the average distance decrease is obiviously smaller than before."
      ]
    },
    {
      "cell_type": "markdown",
      "metadata": {
        "id": "bysf0x-Us6WP",
        "colab_type": "text"
      },
      "source": [
        "### Step 3.2: Apply All Steps to the Customer Data\n",
        "\n",
        "Now that you have clusters and cluster centers for the general population, it's time to see how the customer data maps on to those clusters. Take care to not confuse this for re-fitting all of the models to the customer data. Instead, you're going to use the fits from the general population to clean, transform, and cluster the customer data. In the last step of the project, you will interpret how the general population fits apply to the customer data.\n",
        "\n",
        "- Don't forget when loading in the customers data, that it is semicolon (`;`) delimited.\n",
        "- Apply the same feature wrangling, selection, and engineering steps to the customer demographics using the `clean_data()` function you created earlier. (You can assume that the customer demographics data has similar meaning behind missing data patterns as the general demographics data.)\n",
        "- Use the sklearn objects from the general demographics data, and apply their transformations to the customers data. That is, you should not be using a `.fit()` or `.fit_transform()` method to re-fit the old objects, nor should you be creating new sklearn objects! Carry the data through the feature scaling, PCA, and clustering steps, obtaining cluster assignments for all of the data in the customer demographics data."
      ]
    },
    {
      "cell_type": "code",
      "metadata": {
        "id": "zreFm8P2s6WP",
        "colab_type": "code",
        "colab": {}
      },
      "source": [
        "# Load in the customer demographics data.\n",
        "customers = pd.read_csv('/content/drive/My Drive/Colab Notebooks/p3/Udacity_CUSTOMERS_Subset.csv',sep=';')"
      ],
      "execution_count": 0,
      "outputs": []
    },
    {
      "cell_type": "code",
      "metadata": {
        "id": "hjflaw0Ns6WS",
        "colab_type": "code",
        "outputId": "d919f665-555f-4a46-af74-aaaff3cb69c0",
        "colab": {
          "base_uri": "https://localhost:8080/",
          "height": 374
        }
      },
      "source": [
        "# Apply preprocessing, feature transformation, and clustering from the general\n",
        "# demographics onto the customer data, obtaining cluster predictions for the\n",
        "# customer demographics data.\n",
        "customers=clean_data(customers)\n",
        "customers.shape"
      ],
      "execution_count": 0,
      "outputs": [
        {
          "output_type": "stream",
          "text": [
            "/usr/local/lib/python3.6/dist-packages/pandas/core/frame.py:3940: SettingWithCopyWarning: \n",
            "A value is trying to be set on a copy of a slice from a DataFrame\n",
            "\n",
            "See the caveats in the documentation: http://pandas.pydata.org/pandas-docs/stable/indexing.html#indexing-view-versus-copy\n",
            "  errors=errors)\n",
            "/usr/local/lib/python3.6/dist-packages/pandas/core/generic.py:6586: SettingWithCopyWarning: \n",
            "A value is trying to be set on a copy of a slice from a DataFrame\n",
            "\n",
            "See the caveats in the documentation: http://pandas.pydata.org/pandas-docs/stable/indexing.html#indexing-view-versus-copy\n",
            "  self._update_inplace(new_data)\n",
            "/usr/local/lib/python3.6/dist-packages/ipykernel_launcher.py:77: SettingWithCopyWarning: \n",
            "A value is trying to be set on a copy of a slice from a DataFrame.\n",
            "Try using .loc[row_indexer,col_indexer] = value instead\n",
            "\n",
            "See the caveats in the documentation: http://pandas.pydata.org/pandas-docs/stable/indexing.html#indexing-view-versus-copy\n",
            "/usr/local/lib/python3.6/dist-packages/ipykernel_launcher.py:85: SettingWithCopyWarning: \n",
            "A value is trying to be set on a copy of a slice from a DataFrame.\n",
            "Try using .loc[row_indexer,col_indexer] = value instead\n",
            "\n",
            "See the caveats in the documentation: http://pandas.pydata.org/pandas-docs/stable/indexing.html#indexing-view-versus-copy\n"
          ],
          "name": "stderr"
        },
        {
          "output_type": "execute_result",
          "data": {
            "text/plain": [
              "(141701, 76)"
            ]
          },
          "metadata": {
            "tags": []
          },
          "execution_count": 75
        }
      ]
    },
    {
      "cell_type": "code",
      "metadata": {
        "id": "B8Gwx91iribN",
        "colab_type": "code",
        "colab": {}
      },
      "source": [
        "#imputer = Imputer()\n",
        "customers = pd.DataFrame(imputer.fit_transform(customers), columns = customers.columns)\n",
        "\n",
        "# Standardize or Normalize\n",
        "customers = pd.DataFrame(scaler.fit_transform(customers), columns = customers.columns)"
      ],
      "execution_count": 0,
      "outputs": []
    },
    {
      "cell_type": "code",
      "metadata": {
        "id": "eb9fmi3BOopo",
        "colab_type": "code",
        "outputId": "77eda088-6cfb-486f-d582-7207ae8c4502",
        "colab": {
          "base_uri": "https://localhost:8080/",
          "height": 34
        }
      },
      "source": [
        "#transform the customers data using pca object\n",
        "customers_pca = pca.transform(customers)\n",
        "\n",
        "#predict clustering using the kmeans object\n",
        "clusters_cust = kmeans.predict(customers_pca)"
      ],
      "execution_count": 0,
      "outputs": [
        {
          "output_type": "execute_result",
          "data": {
            "text/plain": [
              "array([ 1,  4, 10, ...,  1,  4,  7], dtype=int32)"
            ]
          },
          "metadata": {
            "tags": []
          },
          "execution_count": 78
        }
      ]
    },
    {
      "cell_type": "markdown",
      "metadata": {
        "id": "aHjHz5Lqs6WW",
        "colab_type": "text"
      },
      "source": [
        "### Step 3.3: Compare Customer Data to Demographics Data\n",
        "\n",
        "At this point, you have clustered data based on demographics of the general population of Germany, and seen how the customer data for a mail-order sales company maps onto those demographic clusters. In this final substep, you will compare the two cluster distributions to see where the strongest customer base for the company is.\n",
        "\n",
        "Consider the proportion of persons in each cluster for the general population, and the proportions for the customers. If we think the company's customer base to be universal, then the cluster assignment proportions should be fairly similar between the two. If there are only particular segments of the population that are interested in the company's products, then we should see a mismatch from one to the other. If there is a higher proportion of persons in a cluster for the customer data compared to the general population (e.g. 5% of persons are assigned to a cluster for the general population, but 15% of the customer data is closest to that cluster's centroid) then that suggests the people in that cluster to be a target audience for the company. On the other hand, the proportion of the data in a cluster being larger in the general population than the customer data (e.g. only 2% of customers closest to a population centroid that captures 6% of the data) suggests that group of persons to be outside of the target demographics.\n",
        "\n",
        "Take a look at the following points in this step:\n",
        "\n",
        "- Compute the proportion of data points in each cluster for the general population and the customer data. Visualizations will be useful here: both for the individual dataset proportions, but also to visualize the ratios in cluster representation between groups. Seaborn's [`countplot()`](https://seaborn.pydata.org/generated/seaborn.countplot.html) or [`barplot()`](https://seaborn.pydata.org/generated/seaborn.barplot.html) function could be handy.\n",
        "  - Recall the analysis you performed in step 1.1.3 of the project, where you separated out certain data points from the dataset if they had more than a specified threshold of missing values. If you found that this group was qualitatively different from the main bulk of the data, you should treat this as an additional data cluster in this analysis. Make sure that you account for the number of data points in this subset, for both the general population and customer datasets, when making your computations!\n",
        "- Which cluster or clusters are overrepresented in the customer dataset compared to the general population? Select at least one such cluster and infer what kind of people might be represented by that cluster. Use the principal component interpretations from step 2.3 or look at additional components to help you make this inference. Alternatively, you can use the `.inverse_transform()` method of the PCA and StandardScaler objects to transform centroids back to the original data space and interpret the retrieved values directly.\n",
        "- Perform a similar investigation for the underrepresented clusters. Which cluster or clusters are underrepresented in the customer dataset compared to the general population, and what kinds of people are typified by these clusters?"
      ]
    },
    {
      "cell_type": "code",
      "metadata": {
        "id": "gseP671ZzauU",
        "colab_type": "code",
        "outputId": "6db0c5ae-9fc8-434e-caf3-00569a554cb2",
        "colab": {
          "base_uri": "https://localhost:8080/",
          "height": 34
        }
      },
      "source": [
        "clusters_pop"
      ],
      "execution_count": 0,
      "outputs": [
        {
          "output_type": "execute_result",
          "data": {
            "text/plain": [
              "array([2, 8, 0, ..., 8, 5, 3], dtype=int32)"
            ]
          },
          "metadata": {
            "tags": []
          },
          "execution_count": 83
        }
      ]
    },
    {
      "cell_type": "code",
      "metadata": {
        "id": "zAY5j8X3yZuI",
        "colab_type": "code",
        "outputId": "89306cd2-3c1e-4750-b1da-684586cda80d",
        "colab": {
          "base_uri": "https://localhost:8080/",
          "height": 394
        }
      },
      "source": [
        "# Compare the proportion of data in each cluster for the customer data to the\n",
        "# proportion of data in each cluster for the general population.\n",
        "\n",
        "population_prop = []\n",
        "customers_prop = []\n",
        "x = [i for i in range(14)]\n",
        "for i in range(14):\n",
        "    population_prop.append((clusters_pop == i).sum()/len(clusters_pop))\n",
        "    customers_prop.append((clusters_cust == i).sum()/len(clusters_cust))\n",
        "\n",
        "\n",
        "df_general = pd.DataFrame({'cluster' : x, 'population_prop' : population_prop, 'customers_prop':customers_prop})\n",
        "\n",
        "#ax = sns.countplot(x='index', y = df_general['prop_1', 'prop_2'], data=df_general )\n",
        "df_general.plot(x='cluster', y = ['population_prop', 'customers_prop'], kind='bar', figsize=(9,6))\n",
        "plt.ylabel('proportion of persons in each cluster')\n",
        "plt.show()"
      ],
      "execution_count": 0,
      "outputs": [
        {
          "output_type": "display_data",
          "data": {
            "image/png": "[encoded data removed]",
            "text/plain": [
              "<Figure size 648x432 with 1 Axes>"
            ]
          },
          "metadata": {
            "tags": []
          }
        }
      ]
    },
    {
      "cell_type": "markdown",
      "metadata": {
        "id": "-l9j1XaJ9hVZ",
        "colab_type": "text"
      },
      "source": [
        "cluster 1, 3 and 10 are very significant overrepresented <p>\n",
        "cluster 2, 5 and 8 significant underrepresented"
      ]
    },
    {
      "cell_type": "code",
      "metadata": {
        "id": "-Ld2333as6Wb",
        "colab_type": "code",
        "outputId": "8a3d18de-fb42-4114-b956-5cc2b614138e",
        "colab": {
          "base_uri": "https://localhost:8080/",
          "height": 224
        }
      },
      "source": [
        "# What kinds of people are part of a cluster that is overrepresented in the\n",
        "# customer data compared to the general population?\n",
        "\n",
        "# Cluster center specs can be found below:\n",
        "cluster_over = pd.DataFrame(scaler.inverse_transform(pca.inverse_transform(customers_pca[np.where(clusters_cust==1)])).round(), columns=azdias_low_missing.columns)\n",
        "cluster_over.head()"
      ],
      "execution_count": 0,
      "outputs": [
        {
          "output_type": "execute_result",
          "data": {
            "text/html": [
              "<div>\n",
              "<style scoped>\n",
              "    .dataframe tbody tr th:only-of-type {\n",
              "        vertical-align: middle;\n",
              "    }\n",
              "\n",
              "    .dataframe tbody tr th {\n",
              "        vertical-align: top;\n",
              "    }\n",
              "\n",
              "    .dataframe thead th {\n",
              "        text-align: right;\n",
              "    }\n",
              "</style>\n",
              "<table border=\"1\" class=\"dataframe\">\n",
              "  <thead>\n",
              "    <tr style=\"text-align: right;\">\n",
              "      <th></th>\n",
              "      <th>ALTERSKATEGORIE_GROB</th>\n",
              "      <th>ANREDE_KZ</th>\n",
              "      <th>CJT_GESAMTTYP</th>\n",
              "      <th>FINANZ_MINIMALIST</th>\n",
              "      <th>FINANZ_SPARER</th>\n",
              "      <th>FINANZ_VORSORGER</th>\n",
              "      <th>FINANZ_ANLEGER</th>\n",
              "      <th>FINANZ_UNAUFFAELLIGER</th>\n",
              "      <th>FINANZ_HAUSBAUER</th>\n",
              "      <th>FINANZTYP</th>\n",
              "      <th>GFK_URLAUBERTYP</th>\n",
              "      <th>GREEN_AVANTGARDE</th>\n",
              "      <th>HEALTH_TYP</th>\n",
              "      <th>LP_FAMILIE_FEIN</th>\n",
              "      <th>LP_FAMILIE_GROB</th>\n",
              "      <th>LP_STATUS_FEIN</th>\n",
              "      <th>LP_STATUS_GROB</th>\n",
              "      <th>NATIONALITAET_KZ</th>\n",
              "      <th>RETOURTYP_BK_S</th>\n",
              "      <th>SEMIO_SOZ</th>\n",
              "      <th>SEMIO_FAM</th>\n",
              "      <th>SEMIO_REL</th>\n",
              "      <th>SEMIO_MAT</th>\n",
              "      <th>SEMIO_VERT</th>\n",
              "      <th>SEMIO_LUST</th>\n",
              "      <th>SEMIO_ERL</th>\n",
              "      <th>SEMIO_KULT</th>\n",
              "      <th>SEMIO_RAT</th>\n",
              "      <th>SEMIO_KRIT</th>\n",
              "      <th>SEMIO_DOM</th>\n",
              "      <th>SEMIO_KAEM</th>\n",
              "      <th>SEMIO_PFLICHT</th>\n",
              "      <th>SEMIO_TRADV</th>\n",
              "      <th>SHOPPER_TYP</th>\n",
              "      <th>SOHO_KZ</th>\n",
              "      <th>VERS_TYP</th>\n",
              "      <th>ZABEOTYP</th>\n",
              "      <th>ANZ_PERSONEN</th>\n",
              "      <th>ANZ_TITEL</th>\n",
              "      <th>HH_EINKOMMEN_SCORE</th>\n",
              "      <th>W_KEIT_KIND_HH</th>\n",
              "      <th>WOHNDAUER_2008</th>\n",
              "      <th>ANZ_HAUSHALTE_AKTIV</th>\n",
              "      <th>ANZ_HH_TITEL</th>\n",
              "      <th>GEBAEUDETYP</th>\n",
              "      <th>KONSUMNAEHE</th>\n",
              "      <th>MIN_GEBAEUDEJAHR</th>\n",
              "      <th>OST_WEST_KZ</th>\n",
              "      <th>CAMEO_DEUG_2015</th>\n",
              "      <th>KBA05_ANTG1</th>\n",
              "      <th>KBA05_ANTG2</th>\n",
              "      <th>KBA05_ANTG3</th>\n",
              "      <th>KBA05_ANTG4</th>\n",
              "      <th>KBA05_GBZ</th>\n",
              "      <th>BALLRAUM</th>\n",
              "      <th>EWDICHTE</th>\n",
              "      <th>INNENSTADT</th>\n",
              "      <th>GEBAEUDETYP_RASTER</th>\n",
              "      <th>KKK</th>\n",
              "      <th>MOBI_REGIO</th>\n",
              "      <th>ONLINE_AFFINITAET</th>\n",
              "      <th>REGIOTYP</th>\n",
              "      <th>KBA13_ANZAHL_PKW</th>\n",
              "      <th>PLZ8_ANTG1</th>\n",
              "      <th>PLZ8_ANTG2</th>\n",
              "      <th>PLZ8_ANTG3</th>\n",
              "      <th>PLZ8_ANTG4</th>\n",
              "      <th>PLZ8_HHZ</th>\n",
              "      <th>PLZ8_GBZ</th>\n",
              "      <th>ARBEIT</th>\n",
              "      <th>ORTSGR_KLS9</th>\n",
              "      <th>RELAT_AB</th>\n",
              "      <th>PRAEGENDE_JUGENDJAHRE_MAINSTREAM</th>\n",
              "      <th>PRAEGENDE_JUGENDJAHRE_DECADE</th>\n",
              "      <th>CAMEO_INTL_2015_WEALTH</th>\n",
              "      <th>CAMEO_INTL_2015_LIFESTAGE</th>\n",
              "    </tr>\n",
              "  </thead>\n",
              "  <tbody>\n",
              "    <tr>\n",
              "      <th>0</th>\n",
              "      <td>4.0</td>\n",
              "      <td>1.0</td>\n",
              "      <td>4.0</td>\n",
              "      <td>5.0</td>\n",
              "      <td>1.0</td>\n",
              "      <td>5.0</td>\n",
              "      <td>1.0</td>\n",
              "      <td>2.0</td>\n",
              "      <td>2.0</td>\n",
              "      <td>4.0</td>\n",
              "      <td>4.0</td>\n",
              "      <td>1.0</td>\n",
              "      <td>1.0</td>\n",
              "      <td>2.0</td>\n",
              "      <td>2.0</td>\n",
              "      <td>9.0</td>\n",
              "      <td>4.0</td>\n",
              "      <td>1.0</td>\n",
              "      <td>4.0</td>\n",
              "      <td>5.0</td>\n",
              "      <td>5.0</td>\n",
              "      <td>3.0</td>\n",
              "      <td>5.0</td>\n",
              "      <td>8.0</td>\n",
              "      <td>8.0</td>\n",
              "      <td>5.0</td>\n",
              "      <td>4.0</td>\n",
              "      <td>1.0</td>\n",
              "      <td>2.0</td>\n",
              "      <td>2.0</td>\n",
              "      <td>1.0</td>\n",
              "      <td>2.0</td>\n",
              "      <td>2.0</td>\n",
              "      <td>3.0</td>\n",
              "      <td>-0.0</td>\n",
              "      <td>1.0</td>\n",
              "      <td>1.0</td>\n",
              "      <td>1.0</td>\n",
              "      <td>0.0</td>\n",
              "      <td>2.0</td>\n",
              "      <td>6.0</td>\n",
              "      <td>9.0</td>\n",
              "      <td>-0.0</td>\n",
              "      <td>-0.0</td>\n",
              "      <td>1.0</td>\n",
              "      <td>4.0</td>\n",
              "      <td>1994.0</td>\n",
              "      <td>-0.0</td>\n",
              "      <td>2.0</td>\n",
              "      <td>3.0</td>\n",
              "      <td>2.0</td>\n",
              "      <td>0.0</td>\n",
              "      <td>-0.0</td>\n",
              "      <td>4.0</td>\n",
              "      <td>4.0</td>\n",
              "      <td>3.0</td>\n",
              "      <td>5.0</td>\n",
              "      <td>4.0</td>\n",
              "      <td>1.0</td>\n",
              "      <td>4.0</td>\n",
              "      <td>3.0</td>\n",
              "      <td>1.0</td>\n",
              "      <td>1234.0</td>\n",
              "      <td>3.0</td>\n",
              "      <td>3.0</td>\n",
              "      <td>1.0</td>\n",
              "      <td>0.0</td>\n",
              "      <td>5.0</td>\n",
              "      <td>5.0</td>\n",
              "      <td>1.0</td>\n",
              "      <td>3.0</td>\n",
              "      <td>0.0</td>\n",
              "      <td>0.0</td>\n",
              "      <td>3.0</td>\n",
              "      <td>1.0</td>\n",
              "      <td>4.0</td>\n",
              "    </tr>\n",
              "    <tr>\n",
              "      <th>1</th>\n",
              "      <td>4.0</td>\n",
              "      <td>1.0</td>\n",
              "      <td>2.0</td>\n",
              "      <td>5.0</td>\n",
              "      <td>1.0</td>\n",
              "      <td>5.0</td>\n",
              "      <td>1.0</td>\n",
              "      <td>2.0</td>\n",
              "      <td>2.0</td>\n",
              "      <td>4.0</td>\n",
              "      <td>8.0</td>\n",
              "      <td>1.0</td>\n",
              "      <td>1.0</td>\n",
              "      <td>3.0</td>\n",
              "      <td>2.0</td>\n",
              "      <td>9.0</td>\n",
              "      <td>5.0</td>\n",
              "      <td>1.0</td>\n",
              "      <td>4.0</td>\n",
              "      <td>6.0</td>\n",
              "      <td>5.0</td>\n",
              "      <td>3.0</td>\n",
              "      <td>5.0</td>\n",
              "      <td>8.0</td>\n",
              "      <td>7.0</td>\n",
              "      <td>5.0</td>\n",
              "      <td>4.0</td>\n",
              "      <td>2.0</td>\n",
              "      <td>2.0</td>\n",
              "      <td>2.0</td>\n",
              "      <td>2.0</td>\n",
              "      <td>2.0</td>\n",
              "      <td>2.0</td>\n",
              "      <td>3.0</td>\n",
              "      <td>-0.0</td>\n",
              "      <td>1.0</td>\n",
              "      <td>2.0</td>\n",
              "      <td>1.0</td>\n",
              "      <td>-0.0</td>\n",
              "      <td>2.0</td>\n",
              "      <td>5.0</td>\n",
              "      <td>9.0</td>\n",
              "      <td>-1.0</td>\n",
              "      <td>0.0</td>\n",
              "      <td>1.0</td>\n",
              "      <td>3.0</td>\n",
              "      <td>1993.0</td>\n",
              "      <td>0.0</td>\n",
              "      <td>1.0</td>\n",
              "      <td>3.0</td>\n",
              "      <td>2.0</td>\n",
              "      <td>-0.0</td>\n",
              "      <td>-0.0</td>\n",
              "      <td>4.0</td>\n",
              "      <td>5.0</td>\n",
              "      <td>4.0</td>\n",
              "      <td>5.0</td>\n",
              "      <td>4.0</td>\n",
              "      <td>1.0</td>\n",
              "      <td>4.0</td>\n",
              "      <td>2.0</td>\n",
              "      <td>1.0</td>\n",
              "      <td>451.0</td>\n",
              "      <td>3.0</td>\n",
              "      <td>3.0</td>\n",
              "      <td>1.0</td>\n",
              "      <td>0.0</td>\n",
              "      <td>3.0</td>\n",
              "      <td>3.0</td>\n",
              "      <td>3.0</td>\n",
              "      <td>5.0</td>\n",
              "      <td>3.0</td>\n",
              "      <td>0.0</td>\n",
              "      <td>3.0</td>\n",
              "      <td>1.0</td>\n",
              "      <td>5.0</td>\n",
              "    </tr>\n",
              "    <tr>\n",
              "      <th>2</th>\n",
              "      <td>3.0</td>\n",
              "      <td>1.0</td>\n",
              "      <td>3.0</td>\n",
              "      <td>5.0</td>\n",
              "      <td>1.0</td>\n",
              "      <td>5.0</td>\n",
              "      <td>1.0</td>\n",
              "      <td>1.0</td>\n",
              "      <td>2.0</td>\n",
              "      <td>5.0</td>\n",
              "      <td>5.0</td>\n",
              "      <td>1.0</td>\n",
              "      <td>1.0</td>\n",
              "      <td>12.0</td>\n",
              "      <td>6.0</td>\n",
              "      <td>10.0</td>\n",
              "      <td>5.0</td>\n",
              "      <td>1.0</td>\n",
              "      <td>3.0</td>\n",
              "      <td>5.0</td>\n",
              "      <td>5.0</td>\n",
              "      <td>4.0</td>\n",
              "      <td>6.0</td>\n",
              "      <td>7.0</td>\n",
              "      <td>6.0</td>\n",
              "      <td>3.0</td>\n",
              "      <td>5.0</td>\n",
              "      <td>4.0</td>\n",
              "      <td>3.0</td>\n",
              "      <td>3.0</td>\n",
              "      <td>2.0</td>\n",
              "      <td>3.0</td>\n",
              "      <td>4.0</td>\n",
              "      <td>1.0</td>\n",
              "      <td>0.0</td>\n",
              "      <td>2.0</td>\n",
              "      <td>2.0</td>\n",
              "      <td>4.0</td>\n",
              "      <td>-0.0</td>\n",
              "      <td>1.0</td>\n",
              "      <td>3.0</td>\n",
              "      <td>9.0</td>\n",
              "      <td>4.0</td>\n",
              "      <td>0.0</td>\n",
              "      <td>1.0</td>\n",
              "      <td>4.0</td>\n",
              "      <td>1993.0</td>\n",
              "      <td>0.0</td>\n",
              "      <td>1.0</td>\n",
              "      <td>3.0</td>\n",
              "      <td>1.0</td>\n",
              "      <td>0.0</td>\n",
              "      <td>0.0</td>\n",
              "      <td>4.0</td>\n",
              "      <td>2.0</td>\n",
              "      <td>4.0</td>\n",
              "      <td>4.0</td>\n",
              "      <td>4.0</td>\n",
              "      <td>1.0</td>\n",
              "      <td>4.0</td>\n",
              "      <td>4.0</td>\n",
              "      <td>2.0</td>\n",
              "      <td>1391.0</td>\n",
              "      <td>3.0</td>\n",
              "      <td>2.0</td>\n",
              "      <td>1.0</td>\n",
              "      <td>0.0</td>\n",
              "      <td>5.0</td>\n",
              "      <td>6.0</td>\n",
              "      <td>2.0</td>\n",
              "      <td>6.0</td>\n",
              "      <td>1.0</td>\n",
              "      <td>-0.0</td>\n",
              "      <td>2.0</td>\n",
              "      <td>1.0</td>\n",
              "      <td>5.0</td>\n",
              "    </tr>\n",
              "    <tr>\n",
              "      <th>3</th>\n",
              "      <td>4.0</td>\n",
              "      <td>1.0</td>\n",
              "      <td>2.0</td>\n",
              "      <td>5.0</td>\n",
              "      <td>1.0</td>\n",
              "      <td>4.0</td>\n",
              "      <td>1.0</td>\n",
              "      <td>2.0</td>\n",
              "      <td>2.0</td>\n",
              "      <td>4.0</td>\n",
              "      <td>10.0</td>\n",
              "      <td>1.0</td>\n",
              "      <td>1.0</td>\n",
              "      <td>9.0</td>\n",
              "      <td>5.0</td>\n",
              "      <td>9.0</td>\n",
              "      <td>5.0</td>\n",
              "      <td>1.0</td>\n",
              "      <td>5.0</td>\n",
              "      <td>5.0</td>\n",
              "      <td>5.0</td>\n",
              "      <td>4.0</td>\n",
              "      <td>5.0</td>\n",
              "      <td>7.0</td>\n",
              "      <td>6.0</td>\n",
              "      <td>4.0</td>\n",
              "      <td>5.0</td>\n",
              "      <td>3.0</td>\n",
              "      <td>2.0</td>\n",
              "      <td>2.0</td>\n",
              "      <td>2.0</td>\n",
              "      <td>3.0</td>\n",
              "      <td>3.0</td>\n",
              "      <td>1.0</td>\n",
              "      <td>0.0</td>\n",
              "      <td>1.0</td>\n",
              "      <td>1.0</td>\n",
              "      <td>3.0</td>\n",
              "      <td>-0.0</td>\n",
              "      <td>1.0</td>\n",
              "      <td>3.0</td>\n",
              "      <td>9.0</td>\n",
              "      <td>2.0</td>\n",
              "      <td>0.0</td>\n",
              "      <td>8.0</td>\n",
              "      <td>4.0</td>\n",
              "      <td>1992.0</td>\n",
              "      <td>-0.0</td>\n",
              "      <td>1.0</td>\n",
              "      <td>4.0</td>\n",
              "      <td>0.0</td>\n",
              "      <td>-0.0</td>\n",
              "      <td>-0.0</td>\n",
              "      <td>5.0</td>\n",
              "      <td>4.0</td>\n",
              "      <td>4.0</td>\n",
              "      <td>5.0</td>\n",
              "      <td>4.0</td>\n",
              "      <td>1.0</td>\n",
              "      <td>5.0</td>\n",
              "      <td>3.0</td>\n",
              "      <td>1.0</td>\n",
              "      <td>535.0</td>\n",
              "      <td>4.0</td>\n",
              "      <td>1.0</td>\n",
              "      <td>0.0</td>\n",
              "      <td>-0.0</td>\n",
              "      <td>3.0</td>\n",
              "      <td>4.0</td>\n",
              "      <td>3.0</td>\n",
              "      <td>5.0</td>\n",
              "      <td>3.0</td>\n",
              "      <td>0.0</td>\n",
              "      <td>3.0</td>\n",
              "      <td>0.0</td>\n",
              "      <td>4.0</td>\n",
              "    </tr>\n",
              "    <tr>\n",
              "      <th>4</th>\n",
              "      <td>4.0</td>\n",
              "      <td>1.0</td>\n",
              "      <td>6.0</td>\n",
              "      <td>4.0</td>\n",
              "      <td>2.0</td>\n",
              "      <td>4.0</td>\n",
              "      <td>2.0</td>\n",
              "      <td>3.0</td>\n",
              "      <td>1.0</td>\n",
              "      <td>3.0</td>\n",
              "      <td>10.0</td>\n",
              "      <td>1.0</td>\n",
              "      <td>1.0</td>\n",
              "      <td>7.0</td>\n",
              "      <td>4.0</td>\n",
              "      <td>9.0</td>\n",
              "      <td>5.0</td>\n",
              "      <td>1.0</td>\n",
              "      <td>3.0</td>\n",
              "      <td>5.0</td>\n",
              "      <td>4.0</td>\n",
              "      <td>3.0</td>\n",
              "      <td>4.0</td>\n",
              "      <td>7.0</td>\n",
              "      <td>8.0</td>\n",
              "      <td>6.0</td>\n",
              "      <td>4.0</td>\n",
              "      <td>2.0</td>\n",
              "      <td>3.0</td>\n",
              "      <td>3.0</td>\n",
              "      <td>4.0</td>\n",
              "      <td>3.0</td>\n",
              "      <td>2.0</td>\n",
              "      <td>3.0</td>\n",
              "      <td>0.0</td>\n",
              "      <td>1.0</td>\n",
              "      <td>2.0</td>\n",
              "      <td>3.0</td>\n",
              "      <td>-0.0</td>\n",
              "      <td>2.0</td>\n",
              "      <td>3.0</td>\n",
              "      <td>9.0</td>\n",
              "      <td>6.0</td>\n",
              "      <td>0.0</td>\n",
              "      <td>1.0</td>\n",
              "      <td>4.0</td>\n",
              "      <td>1996.0</td>\n",
              "      <td>0.0</td>\n",
              "      <td>4.0</td>\n",
              "      <td>3.0</td>\n",
              "      <td>1.0</td>\n",
              "      <td>0.0</td>\n",
              "      <td>0.0</td>\n",
              "      <td>4.0</td>\n",
              "      <td>2.0</td>\n",
              "      <td>5.0</td>\n",
              "      <td>3.0</td>\n",
              "      <td>4.0</td>\n",
              "      <td>4.0</td>\n",
              "      <td>4.0</td>\n",
              "      <td>5.0</td>\n",
              "      <td>7.0</td>\n",
              "      <td>415.0</td>\n",
              "      <td>4.0</td>\n",
              "      <td>1.0</td>\n",
              "      <td>0.0</td>\n",
              "      <td>-0.0</td>\n",
              "      <td>3.0</td>\n",
              "      <td>4.0</td>\n",
              "      <td>4.0</td>\n",
              "      <td>7.0</td>\n",
              "      <td>4.0</td>\n",
              "      <td>-0.0</td>\n",
              "      <td>2.0</td>\n",
              "      <td>2.0</td>\n",
              "      <td>2.0</td>\n",
              "    </tr>\n",
              "  </tbody>\n",
              "</table>\n",
              "</div>"
            ],
            "text/plain": [
              "   ALTERSKATEGORIE_GROB  ...  CAMEO_INTL_2015_LIFESTAGE\n",
              "0                   4.0  ...                        4.0\n",
              "1                   4.0  ...                        5.0\n",
              "2                   3.0  ...                        5.0\n",
              "3                   4.0  ...                        4.0\n",
              "4                   4.0  ...                        2.0\n",
              "\n",
              "[5 rows x 76 columns]"
            ]
          },
          "metadata": {
            "tags": []
          },
          "execution_count": 92
        }
      ]
    },
    {
      "cell_type": "markdown",
      "metadata": {
        "id": "kOgMDJHiQFzm",
        "colab_type": "text"
      },
      "source": [
        "cluster 1: <p>\n",
        "Estimated age around 60 years of age<p>\n",
        "High for dutiful<p>\n",
        "High for traditional<p>\n",
        "Higher for sparer and investor<p>\n",
        "Low for 'be prepared'<p>\n",
        "Low for sensual minded"
      ]
    },
    {
      "cell_type": "code",
      "metadata": {
        "scrolled": true,
        "id": "C5Id9XOEs6Wg",
        "colab_type": "code",
        "outputId": "d8af20fa-01be-41df-f00d-cc5e95229654",
        "colab": {
          "base_uri": "https://localhost:8080/",
          "height": 224
        }
      },
      "source": [
        "\n",
        "# What kinds of people are part of a cluster that is underrepresented in the\n",
        "# customer data compared to the general population?\n",
        "\n",
        "cluster_over = pd.DataFrame(scaler.inverse_transform(pca.inverse_transform(customers_pca[np.where(clusters_cust==2)])).round(), columns=azdias_low_missing.columns)\n",
        "cluster_over.head()"
      ],
      "execution_count": 0,
      "outputs": [
        {
          "output_type": "execute_result",
          "data": {
            "text/html": [
              "<div>\n",
              "<style scoped>\n",
              "    .dataframe tbody tr th:only-of-type {\n",
              "        vertical-align: middle;\n",
              "    }\n",
              "\n",
              "    .dataframe tbody tr th {\n",
              "        vertical-align: top;\n",
              "    }\n",
              "\n",
              "    .dataframe thead th {\n",
              "        text-align: right;\n",
              "    }\n",
              "</style>\n",
              "<table border=\"1\" class=\"dataframe\">\n",
              "  <thead>\n",
              "    <tr style=\"text-align: right;\">\n",
              "      <th></th>\n",
              "      <th>ALTERSKATEGORIE_GROB</th>\n",
              "      <th>ANREDE_KZ</th>\n",
              "      <th>CJT_GESAMTTYP</th>\n",
              "      <th>FINANZ_MINIMALIST</th>\n",
              "      <th>FINANZ_SPARER</th>\n",
              "      <th>FINANZ_VORSORGER</th>\n",
              "      <th>FINANZ_ANLEGER</th>\n",
              "      <th>FINANZ_UNAUFFAELLIGER</th>\n",
              "      <th>FINANZ_HAUSBAUER</th>\n",
              "      <th>FINANZTYP</th>\n",
              "      <th>GFK_URLAUBERTYP</th>\n",
              "      <th>GREEN_AVANTGARDE</th>\n",
              "      <th>HEALTH_TYP</th>\n",
              "      <th>LP_FAMILIE_FEIN</th>\n",
              "      <th>LP_FAMILIE_GROB</th>\n",
              "      <th>LP_STATUS_FEIN</th>\n",
              "      <th>LP_STATUS_GROB</th>\n",
              "      <th>NATIONALITAET_KZ</th>\n",
              "      <th>RETOURTYP_BK_S</th>\n",
              "      <th>SEMIO_SOZ</th>\n",
              "      <th>SEMIO_FAM</th>\n",
              "      <th>SEMIO_REL</th>\n",
              "      <th>SEMIO_MAT</th>\n",
              "      <th>SEMIO_VERT</th>\n",
              "      <th>SEMIO_LUST</th>\n",
              "      <th>SEMIO_ERL</th>\n",
              "      <th>SEMIO_KULT</th>\n",
              "      <th>SEMIO_RAT</th>\n",
              "      <th>SEMIO_KRIT</th>\n",
              "      <th>SEMIO_DOM</th>\n",
              "      <th>SEMIO_KAEM</th>\n",
              "      <th>SEMIO_PFLICHT</th>\n",
              "      <th>SEMIO_TRADV</th>\n",
              "      <th>SHOPPER_TYP</th>\n",
              "      <th>SOHO_KZ</th>\n",
              "      <th>VERS_TYP</th>\n",
              "      <th>ZABEOTYP</th>\n",
              "      <th>ANZ_PERSONEN</th>\n",
              "      <th>ANZ_TITEL</th>\n",
              "      <th>HH_EINKOMMEN_SCORE</th>\n",
              "      <th>W_KEIT_KIND_HH</th>\n",
              "      <th>WOHNDAUER_2008</th>\n",
              "      <th>ANZ_HAUSHALTE_AKTIV</th>\n",
              "      <th>ANZ_HH_TITEL</th>\n",
              "      <th>GEBAEUDETYP</th>\n",
              "      <th>KONSUMNAEHE</th>\n",
              "      <th>MIN_GEBAEUDEJAHR</th>\n",
              "      <th>OST_WEST_KZ</th>\n",
              "      <th>CAMEO_DEUG_2015</th>\n",
              "      <th>KBA05_ANTG1</th>\n",
              "      <th>KBA05_ANTG2</th>\n",
              "      <th>KBA05_ANTG3</th>\n",
              "      <th>KBA05_ANTG4</th>\n",
              "      <th>KBA05_GBZ</th>\n",
              "      <th>BALLRAUM</th>\n",
              "      <th>EWDICHTE</th>\n",
              "      <th>INNENSTADT</th>\n",
              "      <th>GEBAEUDETYP_RASTER</th>\n",
              "      <th>KKK</th>\n",
              "      <th>MOBI_REGIO</th>\n",
              "      <th>ONLINE_AFFINITAET</th>\n",
              "      <th>REGIOTYP</th>\n",
              "      <th>KBA13_ANZAHL_PKW</th>\n",
              "      <th>PLZ8_ANTG1</th>\n",
              "      <th>PLZ8_ANTG2</th>\n",
              "      <th>PLZ8_ANTG3</th>\n",
              "      <th>PLZ8_ANTG4</th>\n",
              "      <th>PLZ8_HHZ</th>\n",
              "      <th>PLZ8_GBZ</th>\n",
              "      <th>ARBEIT</th>\n",
              "      <th>ORTSGR_KLS9</th>\n",
              "      <th>RELAT_AB</th>\n",
              "      <th>PRAEGENDE_JUGENDJAHRE_MAINSTREAM</th>\n",
              "      <th>PRAEGENDE_JUGENDJAHRE_DECADE</th>\n",
              "      <th>CAMEO_INTL_2015_WEALTH</th>\n",
              "      <th>CAMEO_INTL_2015_LIFESTAGE</th>\n",
              "    </tr>\n",
              "  </thead>\n",
              "  <tbody>\n",
              "    <tr>\n",
              "      <th>0</th>\n",
              "      <td>3.0</td>\n",
              "      <td>1.0</td>\n",
              "      <td>7.0</td>\n",
              "      <td>3.0</td>\n",
              "      <td>3.0</td>\n",
              "      <td>4.0</td>\n",
              "      <td>3.0</td>\n",
              "      <td>3.0</td>\n",
              "      <td>3.0</td>\n",
              "      <td>3.0</td>\n",
              "      <td>2.0</td>\n",
              "      <td>-0.0</td>\n",
              "      <td>3.0</td>\n",
              "      <td>11.0</td>\n",
              "      <td>5.0</td>\n",
              "      <td>3.0</td>\n",
              "      <td>1.0</td>\n",
              "      <td>1.0</td>\n",
              "      <td>5.0</td>\n",
              "      <td>5.0</td>\n",
              "      <td>5.0</td>\n",
              "      <td>5.0</td>\n",
              "      <td>5.0</td>\n",
              "      <td>5.0</td>\n",
              "      <td>6.0</td>\n",
              "      <td>4.0</td>\n",
              "      <td>5.0</td>\n",
              "      <td>4.0</td>\n",
              "      <td>4.0</td>\n",
              "      <td>4.0</td>\n",
              "      <td>4.0</td>\n",
              "      <td>5.0</td>\n",
              "      <td>3.0</td>\n",
              "      <td>1.0</td>\n",
              "      <td>-0.0</td>\n",
              "      <td>2.0</td>\n",
              "      <td>2.0</td>\n",
              "      <td>4.0</td>\n",
              "      <td>-0.0</td>\n",
              "      <td>5.0</td>\n",
              "      <td>3.0</td>\n",
              "      <td>9.0</td>\n",
              "      <td>1.0</td>\n",
              "      <td>0.0</td>\n",
              "      <td>3.0</td>\n",
              "      <td>2.0</td>\n",
              "      <td>1994.0</td>\n",
              "      <td>-0.0</td>\n",
              "      <td>7.0</td>\n",
              "      <td>0.0</td>\n",
              "      <td>3.0</td>\n",
              "      <td>2.0</td>\n",
              "      <td>-0.0</td>\n",
              "      <td>3.0</td>\n",
              "      <td>4.0</td>\n",
              "      <td>5.0</td>\n",
              "      <td>4.0</td>\n",
              "      <td>3.0</td>\n",
              "      <td>4.0</td>\n",
              "      <td>2.0</td>\n",
              "      <td>4.0</td>\n",
              "      <td>7.0</td>\n",
              "      <td>502.0</td>\n",
              "      <td>2.0</td>\n",
              "      <td>4.0</td>\n",
              "      <td>2.0</td>\n",
              "      <td>1.0</td>\n",
              "      <td>3.0</td>\n",
              "      <td>3.0</td>\n",
              "      <td>2.0</td>\n",
              "      <td>5.0</td>\n",
              "      <td>2.0</td>\n",
              "      <td>1.0</td>\n",
              "      <td>3.0</td>\n",
              "      <td>4.0</td>\n",
              "      <td>1.0</td>\n",
              "    </tr>\n",
              "    <tr>\n",
              "      <th>1</th>\n",
              "      <td>3.0</td>\n",
              "      <td>2.0</td>\n",
              "      <td>4.0</td>\n",
              "      <td>3.0</td>\n",
              "      <td>1.0</td>\n",
              "      <td>5.0</td>\n",
              "      <td>1.0</td>\n",
              "      <td>1.0</td>\n",
              "      <td>4.0</td>\n",
              "      <td>4.0</td>\n",
              "      <td>11.0</td>\n",
              "      <td>0.0</td>\n",
              "      <td>2.0</td>\n",
              "      <td>1.0</td>\n",
              "      <td>1.0</td>\n",
              "      <td>4.0</td>\n",
              "      <td>2.0</td>\n",
              "      <td>1.0</td>\n",
              "      <td>3.0</td>\n",
              "      <td>4.0</td>\n",
              "      <td>3.0</td>\n",
              "      <td>3.0</td>\n",
              "      <td>4.0</td>\n",
              "      <td>3.0</td>\n",
              "      <td>5.0</td>\n",
              "      <td>6.0</td>\n",
              "      <td>3.0</td>\n",
              "      <td>4.0</td>\n",
              "      <td>6.0</td>\n",
              "      <td>6.0</td>\n",
              "      <td>6.0</td>\n",
              "      <td>4.0</td>\n",
              "      <td>3.0</td>\n",
              "      <td>4.0</td>\n",
              "      <td>0.0</td>\n",
              "      <td>1.0</td>\n",
              "      <td>3.0</td>\n",
              "      <td>1.0</td>\n",
              "      <td>-0.0</td>\n",
              "      <td>5.0</td>\n",
              "      <td>6.0</td>\n",
              "      <td>9.0</td>\n",
              "      <td>9.0</td>\n",
              "      <td>0.0</td>\n",
              "      <td>1.0</td>\n",
              "      <td>2.0</td>\n",
              "      <td>1990.0</td>\n",
              "      <td>0.0</td>\n",
              "      <td>9.0</td>\n",
              "      <td>1.0</td>\n",
              "      <td>2.0</td>\n",
              "      <td>1.0</td>\n",
              "      <td>0.0</td>\n",
              "      <td>3.0</td>\n",
              "      <td>2.0</td>\n",
              "      <td>6.0</td>\n",
              "      <td>2.0</td>\n",
              "      <td>4.0</td>\n",
              "      <td>3.0</td>\n",
              "      <td>2.0</td>\n",
              "      <td>3.0</td>\n",
              "      <td>6.0</td>\n",
              "      <td>267.0</td>\n",
              "      <td>1.0</td>\n",
              "      <td>4.0</td>\n",
              "      <td>3.0</td>\n",
              "      <td>1.0</td>\n",
              "      <td>3.0</td>\n",
              "      <td>2.0</td>\n",
              "      <td>4.0</td>\n",
              "      <td>8.0</td>\n",
              "      <td>4.0</td>\n",
              "      <td>1.0</td>\n",
              "      <td>3.0</td>\n",
              "      <td>5.0</td>\n",
              "      <td>1.0</td>\n",
              "    </tr>\n",
              "    <tr>\n",
              "      <th>2</th>\n",
              "      <td>3.0</td>\n",
              "      <td>2.0</td>\n",
              "      <td>4.0</td>\n",
              "      <td>2.0</td>\n",
              "      <td>3.0</td>\n",
              "      <td>3.0</td>\n",
              "      <td>3.0</td>\n",
              "      <td>3.0</td>\n",
              "      <td>3.0</td>\n",
              "      <td>3.0</td>\n",
              "      <td>4.0</td>\n",
              "      <td>-0.0</td>\n",
              "      <td>3.0</td>\n",
              "      <td>4.0</td>\n",
              "      <td>2.0</td>\n",
              "      <td>2.0</td>\n",
              "      <td>1.0</td>\n",
              "      <td>1.0</td>\n",
              "      <td>4.0</td>\n",
              "      <td>3.0</td>\n",
              "      <td>3.0</td>\n",
              "      <td>3.0</td>\n",
              "      <td>4.0</td>\n",
              "      <td>3.0</td>\n",
              "      <td>4.0</td>\n",
              "      <td>6.0</td>\n",
              "      <td>3.0</td>\n",
              "      <td>4.0</td>\n",
              "      <td>5.0</td>\n",
              "      <td>6.0</td>\n",
              "      <td>6.0</td>\n",
              "      <td>4.0</td>\n",
              "      <td>3.0</td>\n",
              "      <td>3.0</td>\n",
              "      <td>-0.0</td>\n",
              "      <td>1.0</td>\n",
              "      <td>3.0</td>\n",
              "      <td>2.0</td>\n",
              "      <td>0.0</td>\n",
              "      <td>5.0</td>\n",
              "      <td>3.0</td>\n",
              "      <td>8.0</td>\n",
              "      <td>5.0</td>\n",
              "      <td>-0.0</td>\n",
              "      <td>8.0</td>\n",
              "      <td>2.0</td>\n",
              "      <td>1992.0</td>\n",
              "      <td>-0.0</td>\n",
              "      <td>7.0</td>\n",
              "      <td>1.0</td>\n",
              "      <td>2.0</td>\n",
              "      <td>1.0</td>\n",
              "      <td>0.0</td>\n",
              "      <td>3.0</td>\n",
              "      <td>4.0</td>\n",
              "      <td>5.0</td>\n",
              "      <td>4.0</td>\n",
              "      <td>4.0</td>\n",
              "      <td>2.0</td>\n",
              "      <td>2.0</td>\n",
              "      <td>2.0</td>\n",
              "      <td>2.0</td>\n",
              "      <td>692.0</td>\n",
              "      <td>2.0</td>\n",
              "      <td>3.0</td>\n",
              "      <td>2.0</td>\n",
              "      <td>1.0</td>\n",
              "      <td>4.0</td>\n",
              "      <td>4.0</td>\n",
              "      <td>3.0</td>\n",
              "      <td>6.0</td>\n",
              "      <td>4.0</td>\n",
              "      <td>1.0</td>\n",
              "      <td>3.0</td>\n",
              "      <td>4.0</td>\n",
              "      <td>2.0</td>\n",
              "    </tr>\n",
              "    <tr>\n",
              "      <th>3</th>\n",
              "      <td>2.0</td>\n",
              "      <td>2.0</td>\n",
              "      <td>2.0</td>\n",
              "      <td>3.0</td>\n",
              "      <td>1.0</td>\n",
              "      <td>4.0</td>\n",
              "      <td>2.0</td>\n",
              "      <td>1.0</td>\n",
              "      <td>6.0</td>\n",
              "      <td>6.0</td>\n",
              "      <td>9.0</td>\n",
              "      <td>-0.0</td>\n",
              "      <td>2.0</td>\n",
              "      <td>3.0</td>\n",
              "      <td>2.0</td>\n",
              "      <td>2.0</td>\n",
              "      <td>1.0</td>\n",
              "      <td>1.0</td>\n",
              "      <td>3.0</td>\n",
              "      <td>4.0</td>\n",
              "      <td>4.0</td>\n",
              "      <td>6.0</td>\n",
              "      <td>7.0</td>\n",
              "      <td>2.0</td>\n",
              "      <td>3.0</td>\n",
              "      <td>3.0</td>\n",
              "      <td>5.0</td>\n",
              "      <td>7.0</td>\n",
              "      <td>5.0</td>\n",
              "      <td>6.0</td>\n",
              "      <td>6.0</td>\n",
              "      <td>7.0</td>\n",
              "      <td>7.0</td>\n",
              "      <td>2.0</td>\n",
              "      <td>0.0</td>\n",
              "      <td>1.0</td>\n",
              "      <td>3.0</td>\n",
              "      <td>2.0</td>\n",
              "      <td>0.0</td>\n",
              "      <td>5.0</td>\n",
              "      <td>7.0</td>\n",
              "      <td>9.0</td>\n",
              "      <td>35.0</td>\n",
              "      <td>-0.0</td>\n",
              "      <td>3.0</td>\n",
              "      <td>0.0</td>\n",
              "      <td>1992.0</td>\n",
              "      <td>1.0</td>\n",
              "      <td>9.0</td>\n",
              "      <td>-0.0</td>\n",
              "      <td>-0.0</td>\n",
              "      <td>-0.0</td>\n",
              "      <td>2.0</td>\n",
              "      <td>1.0</td>\n",
              "      <td>1.0</td>\n",
              "      <td>6.0</td>\n",
              "      <td>1.0</td>\n",
              "      <td>1.0</td>\n",
              "      <td>3.0</td>\n",
              "      <td>1.0</td>\n",
              "      <td>2.0</td>\n",
              "      <td>6.0</td>\n",
              "      <td>722.0</td>\n",
              "      <td>1.0</td>\n",
              "      <td>2.0</td>\n",
              "      <td>3.0</td>\n",
              "      <td>2.0</td>\n",
              "      <td>5.0</td>\n",
              "      <td>3.0</td>\n",
              "      <td>4.0</td>\n",
              "      <td>9.0</td>\n",
              "      <td>3.0</td>\n",
              "      <td>1.0</td>\n",
              "      <td>3.0</td>\n",
              "      <td>5.0</td>\n",
              "      <td>1.0</td>\n",
              "    </tr>\n",
              "    <tr>\n",
              "      <th>4</th>\n",
              "      <td>2.0</td>\n",
              "      <td>2.0</td>\n",
              "      <td>3.0</td>\n",
              "      <td>2.0</td>\n",
              "      <td>3.0</td>\n",
              "      <td>3.0</td>\n",
              "      <td>2.0</td>\n",
              "      <td>3.0</td>\n",
              "      <td>3.0</td>\n",
              "      <td>4.0</td>\n",
              "      <td>7.0</td>\n",
              "      <td>0.0</td>\n",
              "      <td>2.0</td>\n",
              "      <td>1.0</td>\n",
              "      <td>1.0</td>\n",
              "      <td>2.0</td>\n",
              "      <td>2.0</td>\n",
              "      <td>1.0</td>\n",
              "      <td>3.0</td>\n",
              "      <td>3.0</td>\n",
              "      <td>3.0</td>\n",
              "      <td>4.0</td>\n",
              "      <td>6.0</td>\n",
              "      <td>3.0</td>\n",
              "      <td>2.0</td>\n",
              "      <td>4.0</td>\n",
              "      <td>4.0</td>\n",
              "      <td>6.0</td>\n",
              "      <td>6.0</td>\n",
              "      <td>7.0</td>\n",
              "      <td>6.0</td>\n",
              "      <td>5.0</td>\n",
              "      <td>6.0</td>\n",
              "      <td>3.0</td>\n",
              "      <td>0.0</td>\n",
              "      <td>1.0</td>\n",
              "      <td>5.0</td>\n",
              "      <td>0.0</td>\n",
              "      <td>0.0</td>\n",
              "      <td>6.0</td>\n",
              "      <td>3.0</td>\n",
              "      <td>3.0</td>\n",
              "      <td>5.0</td>\n",
              "      <td>0.0</td>\n",
              "      <td>7.0</td>\n",
              "      <td>3.0</td>\n",
              "      <td>1996.0</td>\n",
              "      <td>-0.0</td>\n",
              "      <td>7.0</td>\n",
              "      <td>-0.0</td>\n",
              "      <td>2.0</td>\n",
              "      <td>2.0</td>\n",
              "      <td>0.0</td>\n",
              "      <td>2.0</td>\n",
              "      <td>3.0</td>\n",
              "      <td>4.0</td>\n",
              "      <td>4.0</td>\n",
              "      <td>4.0</td>\n",
              "      <td>2.0</td>\n",
              "      <td>2.0</td>\n",
              "      <td>4.0</td>\n",
              "      <td>3.0</td>\n",
              "      <td>755.0</td>\n",
              "      <td>2.0</td>\n",
              "      <td>3.0</td>\n",
              "      <td>2.0</td>\n",
              "      <td>1.0</td>\n",
              "      <td>4.0</td>\n",
              "      <td>4.0</td>\n",
              "      <td>2.0</td>\n",
              "      <td>6.0</td>\n",
              "      <td>2.0</td>\n",
              "      <td>1.0</td>\n",
              "      <td>2.0</td>\n",
              "      <td>4.0</td>\n",
              "      <td>2.0</td>\n",
              "    </tr>\n",
              "  </tbody>\n",
              "</table>\n",
              "</div>"
            ],
            "text/plain": [
              "   ALTERSKATEGORIE_GROB  ...  CAMEO_INTL_2015_LIFESTAGE\n",
              "0                   3.0  ...                        1.0\n",
              "1                   3.0  ...                        1.0\n",
              "2                   3.0  ...                        2.0\n",
              "3                   2.0  ...                        1.0\n",
              "4                   2.0  ...                        2.0\n",
              "\n",
              "[5 rows x 76 columns]"
            ]
          },
          "metadata": {
            "tags": []
          },
          "execution_count": 94
        }
      ]
    },
    {
      "cell_type": "markdown",
      "metadata": {
        "id": "AwcHwBv1QrGk",
        "colab_type": "text"
      },
      "source": [
        "cluster 2: <p>\n",
        "Between 20 and 30  <p>\n",
        "High for financial minimalist <p>\n",
        "Living in big cities <p>\n",
        "More households in community <p>\n",
        "Low interest in money saving <p>\n",
        "Low household net income <p>\n",
        "Low wealth"
      ]
    },
    {
      "cell_type": "markdown",
      "metadata": {
        "id": "Tf4W1skZs6Wv",
        "colab_type": "text"
      },
      "source": [
        "### Discussion 3.3: Compare Customer Data to Demographics Data\n",
        "\n",
        "segments of the population that are relatively popular with the mail-order company(cluster 1): most of them are between middle age to elderly people（30 to around 60 years old), typical house owners, household income level is average, wealth / Life Stage is likely to be middle class, unemployment level in the comunnity is relatively low.\n",
        "\n",
        "segments of the population that are relatively unpopular with the mail-order company:cluster 0: most of them are city youth（between 20 and 30 years old), low income earners.\n",
        "\n",
        "Cluster 1 is an over represented segment, they seen more attracted in purchasing by mail order sales.\n"
      ]
    },
    {
      "cell_type": "markdown",
      "metadata": {
        "id": "DlL4Ic5fs6Ww",
        "colab_type": "text"
      },
      "source": [
        "> Congratulations on making it this far in the project! Before you finish, make sure to check through the entire notebook from top to bottom to make sure that your analysis follows a logical flow and all of your findings are documented in\n",
        "**Discussion** cells. Once you've checked over all of your work, you should export the notebook as an HTML document to submit for evaluation. You can do this from the menu, navigating to \n",
        "**File -> Download as -> HTML (.html)**. You will submit both that document and this notebook for your project submission."
      ]
    }
  ]
}